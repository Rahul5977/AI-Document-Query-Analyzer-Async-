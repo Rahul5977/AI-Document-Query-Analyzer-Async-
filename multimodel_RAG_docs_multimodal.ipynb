{
  "nbformat": 4,
  "nbformat_minor": 0,
  "metadata": {
    "colab": {
      "provenance": [],
      "gpuType": "T4"
    },
    "kernelspec": {
      "name": "python3",
      "display_name": "Python 3"
    },
    "language_info": {
      "name": "python"
    },
    "accelerator": "GPU",
    "widgets": {
      "application/vnd.jupyter.widget-state+json": {
        "8e8dcb04f382423d9c29d216bc074b1d": {
          "model_module": "@jupyter-widgets/controls",
          "model_name": "HBoxModel",
          "model_module_version": "1.5.0",
          "state": {
            "_dom_classes": [],
            "_model_module": "@jupyter-widgets/controls",
            "_model_module_version": "1.5.0",
            "_model_name": "HBoxModel",
            "_view_count": null,
            "_view_module": "@jupyter-widgets/controls",
            "_view_module_version": "1.5.0",
            "_view_name": "HBoxView",
            "box_style": "",
            "children": [
              "IPY_MODEL_abf35c1d7451478eb155df336d25d17b",
              "IPY_MODEL_8da708152dd34924b8f95c578162f0ea",
              "IPY_MODEL_3339ce0efc82406da373cda19e2d81af"
            ],
            "layout": "IPY_MODEL_a2aafc5851e5485a9b16894e8fa2f820"
          }
        },
        "abf35c1d7451478eb155df336d25d17b": {
          "model_module": "@jupyter-widgets/controls",
          "model_name": "HTMLModel",
          "model_module_version": "1.5.0",
          "state": {
            "_dom_classes": [],
            "_model_module": "@jupyter-widgets/controls",
            "_model_module_version": "1.5.0",
            "_model_name": "HTMLModel",
            "_view_count": null,
            "_view_module": "@jupyter-widgets/controls",
            "_view_module_version": "1.5.0",
            "_view_name": "HTMLView",
            "description": "",
            "description_tooltip": null,
            "layout": "IPY_MODEL_9fba488c640b4bd3a2fd65f433500098",
            "placeholder": "​",
            "style": "IPY_MODEL_0e3e54c79043416c9cbd962492a349d3",
            "value": "yolox_l0.05.onnx: 100%"
          }
        },
        "8da708152dd34924b8f95c578162f0ea": {
          "model_module": "@jupyter-widgets/controls",
          "model_name": "FloatProgressModel",
          "model_module_version": "1.5.0",
          "state": {
            "_dom_classes": [],
            "_model_module": "@jupyter-widgets/controls",
            "_model_module_version": "1.5.0",
            "_model_name": "FloatProgressModel",
            "_view_count": null,
            "_view_module": "@jupyter-widgets/controls",
            "_view_module_version": "1.5.0",
            "_view_name": "ProgressView",
            "bar_style": "success",
            "description": "",
            "description_tooltip": null,
            "layout": "IPY_MODEL_c873ad85c4e643b0b89417f03be98a22",
            "max": 216625723,
            "min": 0,
            "orientation": "horizontal",
            "style": "IPY_MODEL_1d218f7e9bf141e38aad48f2a6c37b10",
            "value": 216625723
          }
        },
        "3339ce0efc82406da373cda19e2d81af": {
          "model_module": "@jupyter-widgets/controls",
          "model_name": "HTMLModel",
          "model_module_version": "1.5.0",
          "state": {
            "_dom_classes": [],
            "_model_module": "@jupyter-widgets/controls",
            "_model_module_version": "1.5.0",
            "_model_name": "HTMLModel",
            "_view_count": null,
            "_view_module": "@jupyter-widgets/controls",
            "_view_module_version": "1.5.0",
            "_view_name": "HTMLView",
            "description": "",
            "description_tooltip": null,
            "layout": "IPY_MODEL_caa19e23c36545f6b2867ead37181810",
            "placeholder": "​",
            "style": "IPY_MODEL_aa6427d321a54a1b85422df0fb0ff324",
            "value": " 217M/217M [00:01&lt;00:00, 308MB/s]"
          }
        },
        "a2aafc5851e5485a9b16894e8fa2f820": {
          "model_module": "@jupyter-widgets/base",
          "model_name": "LayoutModel",
          "model_module_version": "1.2.0",
          "state": {
            "_model_module": "@jupyter-widgets/base",
            "_model_module_version": "1.2.0",
            "_model_name": "LayoutModel",
            "_view_count": null,
            "_view_module": "@jupyter-widgets/base",
            "_view_module_version": "1.2.0",
            "_view_name": "LayoutView",
            "align_content": null,
            "align_items": null,
            "align_self": null,
            "border": null,
            "bottom": null,
            "display": null,
            "flex": null,
            "flex_flow": null,
            "grid_area": null,
            "grid_auto_columns": null,
            "grid_auto_flow": null,
            "grid_auto_rows": null,
            "grid_column": null,
            "grid_gap": null,
            "grid_row": null,
            "grid_template_areas": null,
            "grid_template_columns": null,
            "grid_template_rows": null,
            "height": null,
            "justify_content": null,
            "justify_items": null,
            "left": null,
            "margin": null,
            "max_height": null,
            "max_width": null,
            "min_height": null,
            "min_width": null,
            "object_fit": null,
            "object_position": null,
            "order": null,
            "overflow": null,
            "overflow_x": null,
            "overflow_y": null,
            "padding": null,
            "right": null,
            "top": null,
            "visibility": null,
            "width": null
          }
        },
        "9fba488c640b4bd3a2fd65f433500098": {
          "model_module": "@jupyter-widgets/base",
          "model_name": "LayoutModel",
          "model_module_version": "1.2.0",
          "state": {
            "_model_module": "@jupyter-widgets/base",
            "_model_module_version": "1.2.0",
            "_model_name": "LayoutModel",
            "_view_count": null,
            "_view_module": "@jupyter-widgets/base",
            "_view_module_version": "1.2.0",
            "_view_name": "LayoutView",
            "align_content": null,
            "align_items": null,
            "align_self": null,
            "border": null,
            "bottom": null,
            "display": null,
            "flex": null,
            "flex_flow": null,
            "grid_area": null,
            "grid_auto_columns": null,
            "grid_auto_flow": null,
            "grid_auto_rows": null,
            "grid_column": null,
            "grid_gap": null,
            "grid_row": null,
            "grid_template_areas": null,
            "grid_template_columns": null,
            "grid_template_rows": null,
            "height": null,
            "justify_content": null,
            "justify_items": null,
            "left": null,
            "margin": null,
            "max_height": null,
            "max_width": null,
            "min_height": null,
            "min_width": null,
            "object_fit": null,
            "object_position": null,
            "order": null,
            "overflow": null,
            "overflow_x": null,
            "overflow_y": null,
            "padding": null,
            "right": null,
            "top": null,
            "visibility": null,
            "width": null
          }
        },
        "0e3e54c79043416c9cbd962492a349d3": {
          "model_module": "@jupyter-widgets/controls",
          "model_name": "DescriptionStyleModel",
          "model_module_version": "1.5.0",
          "state": {
            "_model_module": "@jupyter-widgets/controls",
            "_model_module_version": "1.5.0",
            "_model_name": "DescriptionStyleModel",
            "_view_count": null,
            "_view_module": "@jupyter-widgets/base",
            "_view_module_version": "1.2.0",
            "_view_name": "StyleView",
            "description_width": ""
          }
        },
        "c873ad85c4e643b0b89417f03be98a22": {
          "model_module": "@jupyter-widgets/base",
          "model_name": "LayoutModel",
          "model_module_version": "1.2.0",
          "state": {
            "_model_module": "@jupyter-widgets/base",
            "_model_module_version": "1.2.0",
            "_model_name": "LayoutModel",
            "_view_count": null,
            "_view_module": "@jupyter-widgets/base",
            "_view_module_version": "1.2.0",
            "_view_name": "LayoutView",
            "align_content": null,
            "align_items": null,
            "align_self": null,
            "border": null,
            "bottom": null,
            "display": null,
            "flex": null,
            "flex_flow": null,
            "grid_area": null,
            "grid_auto_columns": null,
            "grid_auto_flow": null,
            "grid_auto_rows": null,
            "grid_column": null,
            "grid_gap": null,
            "grid_row": null,
            "grid_template_areas": null,
            "grid_template_columns": null,
            "grid_template_rows": null,
            "height": null,
            "justify_content": null,
            "justify_items": null,
            "left": null,
            "margin": null,
            "max_height": null,
            "max_width": null,
            "min_height": null,
            "min_width": null,
            "object_fit": null,
            "object_position": null,
            "order": null,
            "overflow": null,
            "overflow_x": null,
            "overflow_y": null,
            "padding": null,
            "right": null,
            "top": null,
            "visibility": null,
            "width": null
          }
        },
        "1d218f7e9bf141e38aad48f2a6c37b10": {
          "model_module": "@jupyter-widgets/controls",
          "model_name": "ProgressStyleModel",
          "model_module_version": "1.5.0",
          "state": {
            "_model_module": "@jupyter-widgets/controls",
            "_model_module_version": "1.5.0",
            "_model_name": "ProgressStyleModel",
            "_view_count": null,
            "_view_module": "@jupyter-widgets/base",
            "_view_module_version": "1.2.0",
            "_view_name": "StyleView",
            "bar_color": null,
            "description_width": ""
          }
        },
        "caa19e23c36545f6b2867ead37181810": {
          "model_module": "@jupyter-widgets/base",
          "model_name": "LayoutModel",
          "model_module_version": "1.2.0",
          "state": {
            "_model_module": "@jupyter-widgets/base",
            "_model_module_version": "1.2.0",
            "_model_name": "LayoutModel",
            "_view_count": null,
            "_view_module": "@jupyter-widgets/base",
            "_view_module_version": "1.2.0",
            "_view_name": "LayoutView",
            "align_content": null,
            "align_items": null,
            "align_self": null,
            "border": null,
            "bottom": null,
            "display": null,
            "flex": null,
            "flex_flow": null,
            "grid_area": null,
            "grid_auto_columns": null,
            "grid_auto_flow": null,
            "grid_auto_rows": null,
            "grid_column": null,
            "grid_gap": null,
            "grid_row": null,
            "grid_template_areas": null,
            "grid_template_columns": null,
            "grid_template_rows": null,
            "height": null,
            "justify_content": null,
            "justify_items": null,
            "left": null,
            "margin": null,
            "max_height": null,
            "max_width": null,
            "min_height": null,
            "min_width": null,
            "object_fit": null,
            "object_position": null,
            "order": null,
            "overflow": null,
            "overflow_x": null,
            "overflow_y": null,
            "padding": null,
            "right": null,
            "top": null,
            "visibility": null,
            "width": null
          }
        },
        "aa6427d321a54a1b85422df0fb0ff324": {
          "model_module": "@jupyter-widgets/controls",
          "model_name": "DescriptionStyleModel",
          "model_module_version": "1.5.0",
          "state": {
            "_model_module": "@jupyter-widgets/controls",
            "_model_module_version": "1.5.0",
            "_model_name": "DescriptionStyleModel",
            "_view_count": null,
            "_view_module": "@jupyter-widgets/base",
            "_view_module_version": "1.2.0",
            "_view_name": "StyleView",
            "description_width": ""
          }
        },
        "58e0223794d34ffb977a1bd3d4a9e3a8": {
          "model_module": "@jupyter-widgets/controls",
          "model_name": "HBoxModel",
          "model_module_version": "1.5.0",
          "state": {
            "_dom_classes": [],
            "_model_module": "@jupyter-widgets/controls",
            "_model_module_version": "1.5.0",
            "_model_name": "HBoxModel",
            "_view_count": null,
            "_view_module": "@jupyter-widgets/controls",
            "_view_module_version": "1.5.0",
            "_view_name": "HBoxView",
            "box_style": "",
            "children": [
              "IPY_MODEL_4ddca619a25e4cd6b674136fb209c9a4",
              "IPY_MODEL_2db722ea2d8043c2a7c151be4927fe01",
              "IPY_MODEL_078a851cd8424e088f9783f5355ad9a8"
            ],
            "layout": "IPY_MODEL_0d8693aedb1f4d34a53a2cc71de9a5bd"
          }
        },
        "4ddca619a25e4cd6b674136fb209c9a4": {
          "model_module": "@jupyter-widgets/controls",
          "model_name": "HTMLModel",
          "model_module_version": "1.5.0",
          "state": {
            "_dom_classes": [],
            "_model_module": "@jupyter-widgets/controls",
            "_model_module_version": "1.5.0",
            "_model_name": "HTMLModel",
            "_view_count": null,
            "_view_module": "@jupyter-widgets/controls",
            "_view_module_version": "1.5.0",
            "_view_name": "HTMLView",
            "description": "",
            "description_tooltip": null,
            "layout": "IPY_MODEL_05a6983e0f464958b51a0a9b1618f93f",
            "placeholder": "​",
            "style": "IPY_MODEL_469b22cbe0cd4934ab985e247ab46fcc",
            "value": "yolox_l0.05.onnx: 100%"
          }
        },
        "2db722ea2d8043c2a7c151be4927fe01": {
          "model_module": "@jupyter-widgets/controls",
          "model_name": "FloatProgressModel",
          "model_module_version": "1.5.0",
          "state": {
            "_dom_classes": [],
            "_model_module": "@jupyter-widgets/controls",
            "_model_module_version": "1.5.0",
            "_model_name": "FloatProgressModel",
            "_view_count": null,
            "_view_module": "@jupyter-widgets/controls",
            "_view_module_version": "1.5.0",
            "_view_name": "ProgressView",
            "bar_style": "success",
            "description": "",
            "description_tooltip": null,
            "layout": "IPY_MODEL_0335637ed64141ec8c5472fc43fe2cd1",
            "max": 216625723,
            "min": 0,
            "orientation": "horizontal",
            "style": "IPY_MODEL_533e33b22a184e9592b267264c4024d0",
            "value": 216625723
          }
        },
        "078a851cd8424e088f9783f5355ad9a8": {
          "model_module": "@jupyter-widgets/controls",
          "model_name": "HTMLModel",
          "model_module_version": "1.5.0",
          "state": {
            "_dom_classes": [],
            "_model_module": "@jupyter-widgets/controls",
            "_model_module_version": "1.5.0",
            "_model_name": "HTMLModel",
            "_view_count": null,
            "_view_module": "@jupyter-widgets/controls",
            "_view_module_version": "1.5.0",
            "_view_name": "HTMLView",
            "description": "",
            "description_tooltip": null,
            "layout": "IPY_MODEL_d8e30e3e8ce747aabc45d843e0248036",
            "placeholder": "​",
            "style": "IPY_MODEL_f8717264f83f4b5289f5b817473be375",
            "value": " 217M/217M [00:03&lt;00:00, 31.1MB/s]"
          }
        },
        "0d8693aedb1f4d34a53a2cc71de9a5bd": {
          "model_module": "@jupyter-widgets/base",
          "model_name": "LayoutModel",
          "model_module_version": "1.2.0",
          "state": {
            "_model_module": "@jupyter-widgets/base",
            "_model_module_version": "1.2.0",
            "_model_name": "LayoutModel",
            "_view_count": null,
            "_view_module": "@jupyter-widgets/base",
            "_view_module_version": "1.2.0",
            "_view_name": "LayoutView",
            "align_content": null,
            "align_items": null,
            "align_self": null,
            "border": null,
            "bottom": null,
            "display": null,
            "flex": null,
            "flex_flow": null,
            "grid_area": null,
            "grid_auto_columns": null,
            "grid_auto_flow": null,
            "grid_auto_rows": null,
            "grid_column": null,
            "grid_gap": null,
            "grid_row": null,
            "grid_template_areas": null,
            "grid_template_columns": null,
            "grid_template_rows": null,
            "height": null,
            "justify_content": null,
            "justify_items": null,
            "left": null,
            "margin": null,
            "max_height": null,
            "max_width": null,
            "min_height": null,
            "min_width": null,
            "object_fit": null,
            "object_position": null,
            "order": null,
            "overflow": null,
            "overflow_x": null,
            "overflow_y": null,
            "padding": null,
            "right": null,
            "top": null,
            "visibility": null,
            "width": null
          }
        },
        "05a6983e0f464958b51a0a9b1618f93f": {
          "model_module": "@jupyter-widgets/base",
          "model_name": "LayoutModel",
          "model_module_version": "1.2.0",
          "state": {
            "_model_module": "@jupyter-widgets/base",
            "_model_module_version": "1.2.0",
            "_model_name": "LayoutModel",
            "_view_count": null,
            "_view_module": "@jupyter-widgets/base",
            "_view_module_version": "1.2.0",
            "_view_name": "LayoutView",
            "align_content": null,
            "align_items": null,
            "align_self": null,
            "border": null,
            "bottom": null,
            "display": null,
            "flex": null,
            "flex_flow": null,
            "grid_area": null,
            "grid_auto_columns": null,
            "grid_auto_flow": null,
            "grid_auto_rows": null,
            "grid_column": null,
            "grid_gap": null,
            "grid_row": null,
            "grid_template_areas": null,
            "grid_template_columns": null,
            "grid_template_rows": null,
            "height": null,
            "justify_content": null,
            "justify_items": null,
            "left": null,
            "margin": null,
            "max_height": null,
            "max_width": null,
            "min_height": null,
            "min_width": null,
            "object_fit": null,
            "object_position": null,
            "order": null,
            "overflow": null,
            "overflow_x": null,
            "overflow_y": null,
            "padding": null,
            "right": null,
            "top": null,
            "visibility": null,
            "width": null
          }
        },
        "469b22cbe0cd4934ab985e247ab46fcc": {
          "model_module": "@jupyter-widgets/controls",
          "model_name": "DescriptionStyleModel",
          "model_module_version": "1.5.0",
          "state": {
            "_model_module": "@jupyter-widgets/controls",
            "_model_module_version": "1.5.0",
            "_model_name": "DescriptionStyleModel",
            "_view_count": null,
            "_view_module": "@jupyter-widgets/base",
            "_view_module_version": "1.2.0",
            "_view_name": "StyleView",
            "description_width": ""
          }
        },
        "0335637ed64141ec8c5472fc43fe2cd1": {
          "model_module": "@jupyter-widgets/base",
          "model_name": "LayoutModel",
          "model_module_version": "1.2.0",
          "state": {
            "_model_module": "@jupyter-widgets/base",
            "_model_module_version": "1.2.0",
            "_model_name": "LayoutModel",
            "_view_count": null,
            "_view_module": "@jupyter-widgets/base",
            "_view_module_version": "1.2.0",
            "_view_name": "LayoutView",
            "align_content": null,
            "align_items": null,
            "align_self": null,
            "border": null,
            "bottom": null,
            "display": null,
            "flex": null,
            "flex_flow": null,
            "grid_area": null,
            "grid_auto_columns": null,
            "grid_auto_flow": null,
            "grid_auto_rows": null,
            "grid_column": null,
            "grid_gap": null,
            "grid_row": null,
            "grid_template_areas": null,
            "grid_template_columns": null,
            "grid_template_rows": null,
            "height": null,
            "justify_content": null,
            "justify_items": null,
            "left": null,
            "margin": null,
            "max_height": null,
            "max_width": null,
            "min_height": null,
            "min_width": null,
            "object_fit": null,
            "object_position": null,
            "order": null,
            "overflow": null,
            "overflow_x": null,
            "overflow_y": null,
            "padding": null,
            "right": null,
            "top": null,
            "visibility": null,
            "width": null
          }
        },
        "533e33b22a184e9592b267264c4024d0": {
          "model_module": "@jupyter-widgets/controls",
          "model_name": "ProgressStyleModel",
          "model_module_version": "1.5.0",
          "state": {
            "_model_module": "@jupyter-widgets/controls",
            "_model_module_version": "1.5.0",
            "_model_name": "ProgressStyleModel",
            "_view_count": null,
            "_view_module": "@jupyter-widgets/base",
            "_view_module_version": "1.2.0",
            "_view_name": "StyleView",
            "bar_color": null,
            "description_width": ""
          }
        },
        "d8e30e3e8ce747aabc45d843e0248036": {
          "model_module": "@jupyter-widgets/base",
          "model_name": "LayoutModel",
          "model_module_version": "1.2.0",
          "state": {
            "_model_module": "@jupyter-widgets/base",
            "_model_module_version": "1.2.0",
            "_model_name": "LayoutModel",
            "_view_count": null,
            "_view_module": "@jupyter-widgets/base",
            "_view_module_version": "1.2.0",
            "_view_name": "LayoutView",
            "align_content": null,
            "align_items": null,
            "align_self": null,
            "border": null,
            "bottom": null,
            "display": null,
            "flex": null,
            "flex_flow": null,
            "grid_area": null,
            "grid_auto_columns": null,
            "grid_auto_flow": null,
            "grid_auto_rows": null,
            "grid_column": null,
            "grid_gap": null,
            "grid_row": null,
            "grid_template_areas": null,
            "grid_template_columns": null,
            "grid_template_rows": null,
            "height": null,
            "justify_content": null,
            "justify_items": null,
            "left": null,
            "margin": null,
            "max_height": null,
            "max_width": null,
            "min_height": null,
            "min_width": null,
            "object_fit": null,
            "object_position": null,
            "order": null,
            "overflow": null,
            "overflow_x": null,
            "overflow_y": null,
            "padding": null,
            "right": null,
            "top": null,
            "visibility": null,
            "width": null
          }
        },
        "f8717264f83f4b5289f5b817473be375": {
          "model_module": "@jupyter-widgets/controls",
          "model_name": "DescriptionStyleModel",
          "model_module_version": "1.5.0",
          "state": {
            "_model_module": "@jupyter-widgets/controls",
            "_model_module_version": "1.5.0",
            "_model_name": "DescriptionStyleModel",
            "_view_count": null,
            "_view_module": "@jupyter-widgets/base",
            "_view_module_version": "1.2.0",
            "_view_name": "StyleView",
            "description_width": ""
          }
        }
      }
    }
  },
  "cells": [
    {
      "cell_type": "code",
      "source": [
        "! pip install \"unstructured[all-docs]\" pillow pydantic lxml pillow matplotlib"
      ],
      "metadata": {
        "id": "4rQa1vCdaDhv"
      },
      "execution_count": null,
      "outputs": []
    },
    {
      "cell_type": "code",
      "source": [
        "!sudo apt-get update"
      ],
      "metadata": {
        "colab": {
          "base_uri": "https://localhost:8080/"
        },
        "id": "a3W2ooY3OYfT",
        "outputId": "3d2ef898-2209-4499-b191-62b036b1cd5a"
      },
      "execution_count": null,
      "outputs": [
        {
          "output_type": "stream",
          "name": "stdout",
          "text": [
            "\r0% [Working]\r            \rHit:1 http://security.ubuntu.com/ubuntu jammy-security InRelease\n",
            "\r0% [Connecting to archive.ubuntu.com (185.125.190.36)] [Connected to cloud.r-pr\r                                                                               \rHit:2 https://developer.download.nvidia.com/compute/cuda/repos/ubuntu2204/x86_64  InRelease\n",
            "\r0% [Waiting for headers] [Waiting for headers] [Connecting to ppa.launchpadcont\r                                                                               \rHit:3 https://cloud.r-project.org/bin/linux/ubuntu jammy-cran40/ InRelease\n",
            "\r0% [Waiting for headers] [Connected to ppa.launchpadcontent.net (185.125.190.80\r                                                                               \rHit:4 http://archive.ubuntu.com/ubuntu jammy InRelease\n",
            "Hit:5 http://archive.ubuntu.com/ubuntu jammy-updates InRelease\n",
            "Hit:6 http://archive.ubuntu.com/ubuntu jammy-backports InRelease\n",
            "Hit:7 https://ppa.launchpadcontent.net/c2d4u.team/c2d4u4.0+/ubuntu jammy InRelease\n",
            "Hit:8 https://ppa.launchpadcontent.net/deadsnakes/ppa/ubuntu jammy InRelease\n",
            "Hit:9 https://ppa.launchpadcontent.net/graphics-drivers/ppa/ubuntu jammy InRelease\n",
            "Hit:10 https://ppa.launchpadcontent.net/ubuntugis/ppa/ubuntu jammy InRelease\n",
            "Reading package lists... Done\n"
          ]
        }
      ]
    },
    {
      "cell_type": "code",
      "source": [
        "!sudo apt-get install poppler-utils"
      ],
      "metadata": {
        "colab": {
          "base_uri": "https://localhost:8080/"
        },
        "id": "MC7K2XQgOa-x",
        "outputId": "55c55949-3ba3-4e01-8f9b-2de775e2acd2"
      },
      "execution_count": null,
      "outputs": [
        {
          "output_type": "stream",
          "name": "stdout",
          "text": [
            "Reading package lists... Done\n",
            "Building dependency tree... Done\n",
            "Reading state information... Done\n",
            "poppler-utils is already the newest version (22.02.0-2ubuntu0.3).\n",
            "0 upgraded, 0 newly installed, 0 to remove and 50 not upgraded.\n"
          ]
        }
      ]
    },
    {
      "cell_type": "code",
      "source": [
        "!sudo apt-get install libleptonica-dev tesseract-ocr libtesseract-dev python3-pil tesseract-ocr-eng tesseract-ocr-script-latn"
      ],
      "metadata": {
        "colab": {
          "base_uri": "https://localhost:8080/"
        },
        "id": "kMike74aFqrq",
        "outputId": "02807e20-7a00-4747-a11a-eb0acbb20187"
      },
      "execution_count": null,
      "outputs": [
        {
          "output_type": "stream",
          "name": "stdout",
          "text": [
            "Reading package lists... Done\n",
            "Building dependency tree... Done\n",
            "Reading state information... Done\n",
            "libleptonica-dev is already the newest version (1.82.0-3build1).\n",
            "libtesseract-dev is already the newest version (4.1.1-2.1build1).\n",
            "tesseract-ocr is already the newest version (4.1.1-2.1build1).\n",
            "tesseract-ocr-eng is already the newest version (1:4.00~git30-7274cfa-1.1).\n",
            "tesseract-ocr-script-latn is already the newest version (1:4.00~git30-7274cfa-1.1).\n",
            "python3-pil is already the newest version (9.0.1-1ubuntu0.3).\n",
            "0 upgraded, 0 newly installed, 0 to remove and 50 not upgraded.\n"
          ]
        }
      ]
    },
    {
      "cell_type": "code",
      "source": [
        "!pip install unstructured-pytesseract\n",
        "!pip install tesseract-ocr"
      ],
      "metadata": {
        "colab": {
          "base_uri": "https://localhost:8080/"
        },
        "id": "hCq4oMVXO3DR",
        "outputId": "470b8e87-9d0a-4ef1-8fd1-b2e78e186ea9"
      },
      "execution_count": null,
      "outputs": [
        {
          "output_type": "stream",
          "name": "stdout",
          "text": [
            "Requirement already satisfied: unstructured-pytesseract in /usr/local/lib/python3.10/dist-packages (0.3.12)\n",
            "Requirement already satisfied: packaging>=21.3 in /usr/local/lib/python3.10/dist-packages (from unstructured-pytesseract) (24.0)\n",
            "Requirement already satisfied: Pillow>=8.0.0 in /usr/local/lib/python3.10/dist-packages (from unstructured-pytesseract) (10.3.0)\n",
            "Requirement already satisfied: tesseract-ocr in /usr/local/lib/python3.10/dist-packages (0.0.1)\n",
            "Requirement already satisfied: cython in /usr/local/lib/python3.10/dist-packages (from tesseract-ocr) (3.0.10)\n"
          ]
        }
      ]
    },
    {
      "cell_type": "code",
      "source": [
        "from unstructured.partition.pdf import partition_pdf"
      ],
      "metadata": {
        "id": "lsSUx1cPNNH_"
      },
      "execution_count": null,
      "outputs": []
    },
    {
      "cell_type": "code",
      "source": [
        "\"/content/extracted_data\"\n",
        "\"/content/data/cj.pdf\""
      ],
      "metadata": {
        "colab": {
          "base_uri": "https://localhost:8080/",
          "height": 35
        },
        "id": "a_bls3tZMzCn",
        "outputId": "17ad3c5a-6b5a-497f-b8f5-8ada1dadf97c"
      },
      "execution_count": null,
      "outputs": [
        {
          "output_type": "execute_result",
          "data": {
            "text/plain": [
              "'/content/data/cj.pdf'"
            ],
            "application/vnd.google.colaboratory.intrinsic+json": {
              "type": "string"
            }
          },
          "metadata": {},
          "execution_count": 6
        }
      ]
    },
    {
      "cell_type": "code",
      "source": [
        "raw_pdf_elements=partition_pdf(\n",
        "    filename=\"/content/data/cj.pdf\",                  # mandatory\n",
        "    strategy=\"hi_res\",                                 # mandatory to use ``hi_res`` strategy\n",
        "    extract_images_in_pdf=True,                       # mandatory to set as ``True``\n",
        "    extract_image_block_types=[\"Image\", \"Table\"],          # optional\n",
        "    extract_image_block_to_payload=False,                  # optional\n",
        "    extract_image_block_output_dir=\"extracted_data\",  # optional - only works when ``extract_image_block_to_payload=False``\n",
        "    )"
      ],
      "metadata": {
        "colab": {
          "base_uri": "https://localhost:8080/",
          "height": 177,
          "referenced_widgets": [
            "8e8dcb04f382423d9c29d216bc074b1d",
            "abf35c1d7451478eb155df336d25d17b",
            "8da708152dd34924b8f95c578162f0ea",
            "3339ce0efc82406da373cda19e2d81af",
            "a2aafc5851e5485a9b16894e8fa2f820",
            "9fba488c640b4bd3a2fd65f433500098",
            "0e3e54c79043416c9cbd962492a349d3",
            "c873ad85c4e643b0b89417f03be98a22",
            "1d218f7e9bf141e38aad48f2a6c37b10",
            "caa19e23c36545f6b2867ead37181810",
            "aa6427d321a54a1b85422df0fb0ff324"
          ]
        },
        "id": "GzIeIXtEQOsh",
        "outputId": "08caeb95-40c8-409e-c34b-2e8ef36786c7"
      },
      "execution_count": null,
      "outputs": [
        {
          "output_type": "stream",
          "name": "stderr",
          "text": [
            "[nltk_data] Downloading package punkt to /root/nltk_data...\n",
            "[nltk_data]   Unzipping tokenizers/punkt.zip.\n",
            "[nltk_data] Downloading package averaged_perceptron_tagger to\n",
            "[nltk_data]     /root/nltk_data...\n",
            "[nltk_data]   Unzipping taggers/averaged_perceptron_tagger.zip.\n",
            "WARNING:unstructured:This function will be deprecated in a future release and `unstructured` will simply use the DEFAULT_MODEL from `unstructured_inference.model.base` to set default model name\n"
          ]
        },
        {
          "output_type": "display_data",
          "data": {
            "text/plain": [
              "yolox_l0.05.onnx:   0%|          | 0.00/217M [00:00<?, ?B/s]"
            ],
            "application/vnd.jupyter.widget-view+json": {
              "version_major": 2,
              "version_minor": 0,
              "model_id": "8e8dcb04f382423d9c29d216bc074b1d"
            }
          },
          "metadata": {}
        }
      ]
    },
    {
      "cell_type": "code",
      "source": [
        "raw_pdf_elements"
      ],
      "metadata": {
        "colab": {
          "base_uri": "https://localhost:8080/"
        },
        "id": "wPJQmmXtTky5",
        "outputId": "6e04fb3e-78e9-4182-806d-b7e9d09192ae"
      },
      "execution_count": null,
      "outputs": [
        {
          "output_type": "execute_result",
          "data": {
            "text/plain": [
              "[<unstructured.documents.elements.Header at 0x7b208dc82770>,\n",
              " <unstructured.documents.elements.Header at 0x7b208dc82890>,\n",
              " <unstructured.documents.elements.Title at 0x7b208dc83b50>,\n",
              " <unstructured.documents.elements.Image at 0x7b208dc82b30>,\n",
              " <unstructured.documents.elements.NarrativeText at 0x7b208dc826b0>,\n",
              " <unstructured.documents.elements.NarrativeText at 0x7b208dc829b0>,\n",
              " <unstructured.documents.elements.NarrativeText at 0x7b208dc80fa0>,\n",
              " <unstructured.documents.elements.Text at 0x7b209cda36d0>,\n",
              " <unstructured.documents.elements.NarrativeText at 0x7b208dc81cc0>,\n",
              " <unstructured.documents.elements.NarrativeText at 0x7b208dc827a0>,\n",
              " <unstructured.documents.elements.Table at 0x7b208dc81990>,\n",
              " <unstructured.documents.elements.Title at 0x7b209cd92d10>,\n",
              " <unstructured.documents.elements.NarrativeText at 0x7b208dc82da0>,\n",
              " <unstructured.documents.elements.NarrativeText at 0x7b208dc81a20>,\n",
              " <unstructured.documents.elements.ListItem at 0x7b208dc813f0>,\n",
              " <unstructured.documents.elements.ListItem at 0x7b208dc82e00>,\n",
              " <unstructured.documents.elements.ListItem at 0x7b208dc4d240>,\n",
              " <unstructured.documents.elements.Footer at 0x7b208dc822f0>,\n",
              " <unstructured.documents.elements.NarrativeText at 0x7b208dc80f10>,\n",
              " <unstructured.documents.elements.Footer at 0x7b208dc825f0>,\n",
              " <unstructured.documents.elements.Header at 0x7b208dc81ab0>,\n",
              " <unstructured.documents.elements.Header at 0x7b208dc82410>,\n",
              " <unstructured.documents.elements.ListItem at 0x7b208dc82860>,\n",
              " <unstructured.documents.elements.ListItem at 0x7b208dc825c0>,\n",
              " <unstructured.documents.elements.ListItem at 0x7b208dc83010>,\n",
              " <unstructured.documents.elements.NarrativeText at 0x7b209cd909a0>,\n",
              " <unstructured.documents.elements.NarrativeText at 0x7b208dc4dde0>,\n",
              " <unstructured.documents.elements.NarrativeText at 0x7b209cd91840>,\n",
              " <unstructured.documents.elements.Title at 0x7b208dc4d120>,\n",
              " <unstructured.documents.elements.Footer at 0x7b208dc7ecb0>,\n",
              " <unstructured.documents.elements.Footer at 0x7b208dc7ec50>,\n",
              " <unstructured.documents.elements.Header at 0x7b208dc7fca0>,\n",
              " <unstructured.documents.elements.Header at 0x7b208dc7fe20>,\n",
              " <unstructured.documents.elements.NarrativeText at 0x7b208dc7fd60>,\n",
              " <unstructured.documents.elements.ListItem at 0x7b208dc7f2b0>,\n",
              " <unstructured.documents.elements.ListItem at 0x7b208dc7e9b0>,\n",
              " <unstructured.documents.elements.Title at 0x7b208dc4ca90>,\n",
              " <unstructured.documents.elements.NarrativeText at 0x7b208dc7fd00>,\n",
              " <unstructured.documents.elements.Title at 0x7b208dc4d000>,\n",
              " <unstructured.documents.elements.NarrativeText at 0x7b208dc7f970>,\n",
              " <unstructured.documents.elements.NarrativeText at 0x7b208dc4cd00>,\n",
              " <unstructured.documents.elements.Footer at 0x7b208dcab580>,\n",
              " <unstructured.documents.elements.Footer at 0x7b208dc7ef50>,\n",
              " <unstructured.documents.elements.Header at 0x7b208dcab760>,\n",
              " <unstructured.documents.elements.Header at 0x7b208dcabbe0>,\n",
              " <unstructured.documents.elements.ListItem at 0x7b208dcab8b0>,\n",
              " <unstructured.documents.elements.ListItem at 0x7b208dcab8e0>,\n",
              " <unstructured.documents.elements.NarrativeText at 0x7b208dc4cb50>,\n",
              " <unstructured.documents.elements.ListItem at 0x7b208dcab9d0>,\n",
              " <unstructured.documents.elements.NarrativeText at 0x7b208dc4d030>,\n",
              " <unstructured.documents.elements.ListItem at 0x7b208dca8310>,\n",
              " <unstructured.documents.elements.Title at 0x7b208dc4d0c0>,\n",
              " <unstructured.documents.elements.NarrativeText at 0x7b208dc81630>,\n",
              " <unstructured.documents.elements.NarrativeText at 0x7b208dc4cfd0>,\n",
              " <unstructured.documents.elements.Footer at 0x7b208dc7e710>,\n",
              " <unstructured.documents.elements.Footer at 0x7b208dc81180>,\n",
              " <unstructured.documents.elements.Header at 0x7b208dc7ec80>,\n",
              " <unstructured.documents.elements.Header at 0x7b208dc7f760>,\n",
              " <unstructured.documents.elements.NarrativeText at 0x7b208dca83a0>,\n",
              " <unstructured.documents.elements.Title at 0x7b208d988520>,\n",
              " <unstructured.documents.elements.Image at 0x7b208dca8580>,\n",
              " <unstructured.documents.elements.Title at 0x7b208d9884c0>,\n",
              " <unstructured.documents.elements.Footer at 0x7b208dca8760>,\n",
              " <unstructured.documents.elements.Footer at 0x7b208dca8bb0>,\n",
              " <unstructured.documents.elements.Header at 0x7b208dca8a30>,\n",
              " <unstructured.documents.elements.Header at 0x7b208dca8e20>,\n",
              " <unstructured.documents.elements.Image at 0x7b208dca8d90>,\n",
              " <unstructured.documents.elements.Title at 0x7b208d9881f0>,\n",
              " <unstructured.documents.elements.Footer at 0x7b208dca92a0>,\n",
              " <unstructured.documents.elements.Footer at 0x7b208dca9120>,\n",
              " <unstructured.documents.elements.Header at 0x7b208dca93f0>,\n",
              " <unstructured.documents.elements.Header at 0x7b208dca94b0>,\n",
              " <unstructured.documents.elements.Image at 0x7b208dca96c0>,\n",
              " <unstructured.documents.elements.Title at 0x7b208d988220>,\n",
              " <unstructured.documents.elements.NarrativeText at 0x7b208dca9930>,\n",
              " <unstructured.documents.elements.Title at 0x7b208d988040>,\n",
              " <unstructured.documents.elements.Footer at 0x7b208dca9d80>,\n",
              " <unstructured.documents.elements.Footer at 0x7b208dca9a20>,\n",
              " <unstructured.documents.elements.Header at 0x7b208dca9d50>,\n",
              " <unstructured.documents.elements.Header at 0x7b208dcaa020>,\n",
              " <unstructured.documents.elements.ListItem at 0x7b208dcaa0e0>,\n",
              " <unstructured.documents.elements.ListItem at 0x7b208dcaa2c0>,\n",
              " <unstructured.documents.elements.ListItem at 0x7b208dcaa230>,\n",
              " <unstructured.documents.elements.Text at 0x7b208d988250>,\n",
              " <unstructured.documents.elements.Image at 0x7b208dcaa620>,\n",
              " <unstructured.documents.elements.Footer at 0x7b208dcaa770>,\n",
              " <unstructured.documents.elements.Footer at 0x7b208dcaa800>,\n",
              " <unstructured.documents.elements.Header at 0x7b208dcaa9b0>,\n",
              " <unstructured.documents.elements.Header at 0x7b208dcaabf0>,\n",
              " <unstructured.documents.elements.Image at 0x7b208dcaaaa0>,\n",
              " <unstructured.documents.elements.NarrativeText at 0x7b208dcaaf20>,\n",
              " <unstructured.documents.elements.NarrativeText at 0x7b208d988160>,\n",
              " <unstructured.documents.elements.ListItem at 0x7b208dcab130>,\n",
              " <unstructured.documents.elements.ListItem at 0x7b208dcaafb0>,\n",
              " <unstructured.documents.elements.ListItem at 0x7b208dcab490>,\n",
              " <unstructured.documents.elements.Title at 0x7b208d988280>,\n",
              " <unstructured.documents.elements.Footer at 0x7b208dcab640>,\n",
              " <unstructured.documents.elements.Footer at 0x7b208db5b3a0>,\n",
              " <unstructured.documents.elements.Header at 0x7b208db58af0>,\n",
              " <unstructured.documents.elements.Header at 0x7b208db5ada0>,\n",
              " <unstructured.documents.elements.Image at 0x7b208db5ae30>,\n",
              " <unstructured.documents.elements.Footer at 0x7b208db59f60>,\n",
              " <unstructured.documents.elements.Footer at 0x7b208db5a680>,\n",
              " <unstructured.documents.elements.Header at 0x7b208db59ff0>,\n",
              " <unstructured.documents.elements.Header at 0x7b208db59120>,\n",
              " <unstructured.documents.elements.Image at 0x7b208db591e0>,\n",
              " <unstructured.documents.elements.Title at 0x7b208d9882e0>,\n",
              " <unstructured.documents.elements.NarrativeText at 0x7b208db58130>,\n",
              " <unstructured.documents.elements.Title at 0x7b208d9883d0>,\n",
              " <unstructured.documents.elements.Footer at 0x7b208db58760>,\n",
              " <unstructured.documents.elements.Footer at 0x7b208db58040>,\n",
              " <unstructured.documents.elements.Header at 0x7b208db587c0>,\n",
              " <unstructured.documents.elements.Header at 0x7b208d8f5480>,\n",
              " <unstructured.documents.elements.Image at 0x7b208d8f5270>,\n",
              " <unstructured.documents.elements.Footer at 0x7b208d8f53c0>,\n",
              " <unstructured.documents.elements.Footer at 0x7b208d8f51b0>,\n",
              " <unstructured.documents.elements.Header at 0x7b208d8f53f0>,\n",
              " <unstructured.documents.elements.Header at 0x7b208d8f7040>,\n",
              " <unstructured.documents.elements.Image at 0x7b208d8f5a20>,\n",
              " <unstructured.documents.elements.Title at 0x7b208d988820>,\n",
              " <unstructured.documents.elements.NarrativeText at 0x7b208d8f5840>,\n",
              " <unstructured.documents.elements.NarrativeText at 0x7b208d988430>,\n",
              " <unstructured.documents.elements.Footer at 0x7b208d8f5a50>,\n",
              " <unstructured.documents.elements.Footer at 0x7b208d8f6020>,\n",
              " <unstructured.documents.elements.Header at 0x7b208d8f5ae0>,\n",
              " <unstructured.documents.elements.Header at 0x7b208d8f6410>,\n",
              " <unstructured.documents.elements.Image at 0x7b208d8f6260>,\n",
              " <unstructured.documents.elements.NarrativeText at 0x7b208d988700>,\n",
              " <unstructured.documents.elements.Footer at 0x7b208d8f6440>,\n",
              " <unstructured.documents.elements.Footer at 0x7b208d8f65c0>,\n",
              " <unstructured.documents.elements.Header at 0x7b208d8f61a0>,\n",
              " <unstructured.documents.elements.Header at 0x7b208d8f6e60>,\n",
              " <unstructured.documents.elements.Image at 0x7b208d8f77c0>,\n",
              " <unstructured.documents.elements.Title at 0x7b208d8f7280>,\n",
              " <unstructured.documents.elements.Title at 0x7b208d9887f0>,\n",
              " <unstructured.documents.elements.NarrativeText at 0x7b208d8f5120>,\n",
              " <unstructured.documents.elements.NarrativeText at 0x7b208d9895d0>,\n",
              " <unstructured.documents.elements.Footer at 0x7b208d8f4400>,\n",
              " <unstructured.documents.elements.Footer at 0x7b208d8f5000>,\n",
              " <unstructured.documents.elements.Header at 0x7b208d8f44f0>,\n",
              " <unstructured.documents.elements.Header at 0x7b208d8f4520>,\n",
              " <unstructured.documents.elements.Image at 0x7b208d8f6d10>,\n",
              " <unstructured.documents.elements.Title at 0x7b208d9887c0>,\n",
              " <unstructured.documents.elements.ListItem at 0x7b208d8f4880>,\n",
              " <unstructured.documents.elements.Title at 0x7b208d988610>,\n",
              " <unstructured.documents.elements.ListItem at 0x7b208d8f4d90>,\n",
              " <unstructured.documents.elements.Title at 0x7b208d9895a0>,\n",
              " <unstructured.documents.elements.ListItem at 0x7b208db300d0>,\n",
              " <unstructured.documents.elements.Title at 0x7b208d989540>,\n",
              " <unstructured.documents.elements.ListItem at 0x7b208db30430>,\n",
              " <unstructured.documents.elements.Title at 0x7b208d989480>,\n",
              " <unstructured.documents.elements.ListItem at 0x7b208db317e0>,\n",
              " <unstructured.documents.elements.Title at 0x7b208d989330>,\n",
              " <unstructured.documents.elements.ListItem at 0x7b208db32170>,\n",
              " <unstructured.documents.elements.Title at 0x7b208d9893c0>,\n",
              " <unstructured.documents.elements.Footer at 0x7b208db32380>,\n",
              " <unstructured.documents.elements.Footer at 0x7b208db31fc0>,\n",
              " <unstructured.documents.elements.Header at 0x7b208db322c0>,\n",
              " <unstructured.documents.elements.Header at 0x7b208db32410>,\n",
              " <unstructured.documents.elements.ListItem at 0x7b208db323e0>,\n",
              " <unstructured.documents.elements.ListItem at 0x7b208db325c0>,\n",
              " <unstructured.documents.elements.ListItem at 0x7b208db326b0>,\n",
              " <unstructured.documents.elements.Title at 0x7b208d989270>,\n",
              " <unstructured.documents.elements.ListItem at 0x7b208db32950>,\n",
              " <unstructured.documents.elements.Title at 0x7b208d9892d0>,\n",
              " <unstructured.documents.elements.NarrativeText at 0x7b208db32c20>,\n",
              " <unstructured.documents.elements.NarrativeText at 0x7b208db33040>,\n",
              " <unstructured.documents.elements.NarrativeText at 0x7b208d989300>,\n",
              " <unstructured.documents.elements.Footer at 0x7b208db33010>,\n",
              " <unstructured.documents.elements.Footer at 0x7b208db32f50>,\n",
              " <unstructured.documents.elements.Header at 0x7b208db31420>,\n",
              " <unstructured.documents.elements.Header at 0x7b208db318a0>,\n",
              " <unstructured.documents.elements.Image at 0x7b208dba6da0>,\n",
              " <unstructured.documents.elements.Image at 0x7b208dba4130>,\n",
              " <unstructured.documents.elements.Footer at 0x7b208dba4400>,\n",
              " <unstructured.documents.elements.Footer at 0x7b208dba4490>,\n",
              " <unstructured.documents.elements.Header at 0x7b208dba4370>,\n",
              " <unstructured.documents.elements.Header at 0x7b208dba46a0>,\n",
              " <unstructured.documents.elements.Image at 0x7b208dba49a0>,\n",
              " <unstructured.documents.elements.NarrativeText at 0x7b208d989000>,\n",
              " <unstructured.documents.elements.NarrativeText at 0x7b208dba4a30>,\n",
              " <unstructured.documents.elements.NarrativeText at 0x7b208d989060>,\n",
              " <unstructured.documents.elements.NarrativeText at 0x7b208dba4ca0>,\n",
              " <unstructured.documents.elements.Footer at 0x7b208dba4f70>,\n",
              " <unstructured.documents.elements.Footer at 0x7b208dba4f40>,\n",
              " <unstructured.documents.elements.Header at 0x7b208dba52a0>,\n",
              " <unstructured.documents.elements.Header at 0x7b208dba51e0>,\n",
              " <unstructured.documents.elements.NarrativeText at 0x7b208dba5480>,\n",
              " <unstructured.documents.elements.Text at 0x7b208d988fa0>,\n",
              " <unstructured.documents.elements.NarrativeText at 0x7b208d988df0>,\n",
              " <unstructured.documents.elements.Title at 0x7b208d988fd0>,\n",
              " <unstructured.documents.elements.Image at 0x7b208dba5990>,\n",
              " <unstructured.documents.elements.Title at 0x7b208d988dc0>,\n",
              " <unstructured.documents.elements.Image at 0x7b208dba5810>,\n",
              " <unstructured.documents.elements.Image at 0x7b208dba5cf0>,\n",
              " <unstructured.documents.elements.Image at 0x7b208dba5a20>,\n",
              " <unstructured.documents.elements.Image at 0x7b208dba5f90>,\n",
              " <unstructured.documents.elements.Title at 0x7b208d988f70>,\n",
              " <unstructured.documents.elements.Title at 0x7b208d988b50>,\n",
              " <unstructured.documents.elements.Image at 0x7b208dba6dd0>,\n",
              " <unstructured.documents.elements.NarrativeText at 0x7b208d988ee0>,\n",
              " <unstructured.documents.elements.NarrativeText at 0x7b208dba7130>,\n",
              " <unstructured.documents.elements.Image at 0x7b208dba7220>,\n",
              " <unstructured.documents.elements.Title at 0x7b208d988e20>,\n",
              " <unstructured.documents.elements.NarrativeText at 0x7b208d988af0>,\n",
              " <unstructured.documents.elements.Title at 0x7b208d988b20>,\n",
              " <unstructured.documents.elements.Title at 0x7b208d988a60>,\n",
              " <unstructured.documents.elements.Text at 0x7b208d9888b0>,\n",
              " <unstructured.documents.elements.Title at 0x7b208d9899f0>,\n",
              " <unstructured.documents.elements.Title at 0x7b208d989ab0>,\n",
              " <unstructured.documents.elements.Title at 0x7b208d989b70>,\n",
              " <unstructured.documents.elements.Image at 0x7b208dba6620>,\n",
              " <unstructured.documents.elements.Title at 0x7b208d988ca0>,\n",
              " <unstructured.documents.elements.NarrativeText at 0x7b208d988970>,\n",
              " <unstructured.documents.elements.NarrativeText at 0x7b208dba6800>,\n",
              " <unstructured.documents.elements.NarrativeText at 0x7b208dba6a70>,\n",
              " <unstructured.documents.elements.Footer at 0x7b208dba6c50>,\n",
              " <unstructured.documents.elements.Footer at 0x7b208dba6b60>,\n",
              " <unstructured.documents.elements.Header at 0x7b208dba79a0>,\n",
              " <unstructured.documents.elements.Footer at 0x7b208dc4ca60>,\n",
              " <unstructured.documents.elements.Header at 0x7b208d945960>,\n",
              " <unstructured.documents.elements.NarrativeText at 0x7b208d947cd0>,\n",
              " <unstructured.documents.elements.Footer at 0x7b208dc4d7b0>]"
            ]
          },
          "metadata": {},
          "execution_count": 8
        }
      ]
    },
    {
      "cell_type": "code",
      "source": [
        "Header=[]\n",
        "Footer=[]\n",
        "Title=[]\n",
        "NarrativeText=[]\n",
        "Text=[]\n",
        "ListItem=[]\n",
        "for element in raw_pdf_elements:\n",
        "  if \"unstructured.documents.elements.Header\" in str(type(element)):\n",
        "            Header.append(str(element))\n",
        "  elif \"unstructured.documents.elements.Footer\" in str(type(element)):\n",
        "            Footer.append(str(element))\n",
        "  elif \"unstructured.documents.elements.Title\" in str(type(element)):\n",
        "            Title.append(str(element))\n",
        "  elif \"unstructured.documents.elements.NarrativeText\" in str(type(element)):\n",
        "            NarrativeText.append(str(element))\n",
        "  elif \"unstructured.documents.elements.Text\" in str(type(element)):\n",
        "            Text.append(str(element))\n",
        "  elif \"unstructured.documents.elements.ListItem\" in str(type(element)):\n",
        "            ListItem.append(str(element))\n",
        "\n",
        "\n",
        "\n"
      ],
      "metadata": {
        "id": "a9C9hfJtQ27C"
      },
      "execution_count": null,
      "outputs": []
    },
    {
      "cell_type": "code",
      "source": [
        "img=[]\n",
        "for element in raw_pdf_elements:\n",
        "  if \"unstructured.documents.elements.Image\" in str(type(element)):\n",
        "            img.append(str(element))"
      ],
      "metadata": {
        "id": "0CIyaT9Ir0-J"
      },
      "execution_count": null,
      "outputs": []
    },
    {
      "cell_type": "code",
      "source": [
        "tab=[]\n",
        "for element in raw_pdf_elements:\n",
        "  if \"unstructured.documents.elements.Table\" in str(type(element)):\n",
        "            tab.append(str(element))"
      ],
      "metadata": {
        "id": "rUal9rnMsyO8"
      },
      "execution_count": null,
      "outputs": []
    },
    {
      "cell_type": "code",
      "source": [
        "tab"
      ],
      "metadata": {
        "colab": {
          "base_uri": "https://localhost:8080/"
        },
        "id": "0rkKxzTws1kQ",
        "outputId": "65b2e116-ff57-4558-f690-0c384e4d23ff"
      },
      "execution_count": null,
      "outputs": [
        {
          "output_type": "execute_result",
          "data": {
            "text/plain": [
              "['Type your email... Subscribe']"
            ]
          },
          "metadata": {},
          "execution_count": 12
        }
      ]
    },
    {
      "cell_type": "code",
      "source": [
        "img"
      ],
      "metadata": {
        "colab": {
          "base_uri": "https://localhost:8080/"
        },
        "id": "ShGjDo0gsQLJ",
        "outputId": "1823a4b0-6895-4c6d-9ac9-c875f1ea881f"
      },
      "execution_count": null,
      "outputs": [
        {
          "output_type": "execute_result",
          "data": {
            "text/plain": [
              "['',\n",
              " 'Actual On24 $39.2M Squarespace $257.1M Jamf $142.6M Kaltura $43.5M CS Disco $34.9M 2U $229.7M Olo $57.8M Alteryx $232.0M RingCentral $558.2M Klaviyo $175.8M Datadog $547.5M Amplitude $70.6M Hubspot $557.6M BigCommerce $78.0M Twilio $1033.6M Wix.com $393.8M Reported Revenue Consensus $38.0M $251.8M $140.0M $43.1M $34.1M $223.4M $56.3M $210.3M $554.0M $167.4M $523.2M $70.0M $533.0M $78.0M $986.9M $389.7M 3.2% 2.1% 1.9% 1.0% 2.3% 2.8% 27% 10.3% 0.8% 5.0% 46% 0.9% 46% 0.1% 4T% 1.0% Guidance $37.3M $262.5M $148.5M $41.6M $35.0M $58.8M $337.0M $570.0M $196.0M $566.0M $71.6M $557.0M $81.8M $1035.0M $402.5M Next Quarter Rev Consensus $35.4M $256.0M $149.1M $42.2M $38.8M $300.0M $56.9M $337.8M $570.0M $195.1M $541.0M $70.3M $555.8M $82.0M $1029.0M $399.2M 5.4% 2.5% (0.4%) (1.4%) (9.8%) 3.3% (0.2%) 0.0% 0.5% 4.6% 1.8% 0.2% (0.2%) 0.6% 0.8%',\n",
              " 'EV/NTM EV/2024 EV/NTM NTMRev Gross Operating FCF % in Top 10 Company Rev Rev FCF Growth Margin Margin Margin Multiple LTM 1 Snowflake 15.5x 13.4x 55x 27% 66% (41%) 25% 100% 2 MongoDB 14.6x 12.9x 133x 17% 74% (18%) 3% 67% 3 Palantir 14.5x 13.9x 58x 19% 80% 2% 22% 47% 4 Cloudflare 13.4x 12.6x 153x 28% 76% (16%) 8% 100% 5 Datadog 13.1x 12.4x 52x 19% 80% (5%) 25% 99% 6 CrowdStrike 12.5x 11.1x 37x 31% 74% (6%) 30% 31% 7 Adobe 12.3x 11.9x 30x 12% 88% 34% 40% 26% 8 ServiceNow 12.2x 11.6x 38x 21% 79% 8% 28% 70% 9 Samsara 11.8x 10.5x 393x 31% 72% (34%) (3%) 72% 10 Zscaler 11.8x 10.5x 48x 27% 78% (14%) 21% 36% Overall Median = 50x. 48x 33.7 18% = 75% = (16%) 8% Clouded Judgement @jaminball ALTIMETER',\n",
              " 'Company Datadog Alteryx Digital Ocean Couchbase MongoDB Sprout Social Qualys Cloudflare Snowflake 10 Dynatrace OoOOnN Da WN = 7 Day Share Price A 26% 19% 15% 13% 11% 11% 10% 10% 10% 8% Clouded Judgement 30 Day Share Price A 9% (2%) 1% (5%) 2% (7%) 3% (5%) (4%) 1% @jaminbal YTD Share Price A 36% (29%) (4%) 22% 86% (16%) 50% 38% 9% 29% Current Market Cap ($MM) $32,931 $2,597 $2,108 $759 $26,063 $2,642 $6,179 $20,878 $51,549 $14,528 1 ALTIMETER',\n",
              " 'EV / NTM Revenue Multiples 25.0x 6.0% 20.0x 5.0% . 4.6% 4.0% 15.0x 3.0% 10.0x 7.8K 7.0% 5.0x 5.0x 1.0% 0.0x 0.0% Jan-15 Aug-15 Mar-16 Oct-16 May-17 Dec-17 Jul-18 Feb-19 Sep-19 Apr-20 Nov-20 Jun-21 Jan-22 Aug-22 Mar-23 Oct-23 Median == LT Pre Covid Average —— 10 Year Treasury Clouded Judgement @jaminball ALTIMETER',\n",
              " 'EV / NTM Revenue Multiples 90.0x 80.0x 70.0x 60.0x 50.0x 40.0x 30.0x 20.0x 14.5x 10.0x 5.0x 0.0x Jan-15 Aug-15 Mar-16 Oct-16 May-17 Dec-17 Jul-18 Feb-19 Sep-19 Apr-20 Nov-20 Jun-21 Jan-22 Aug-22 Mar-23 Oct-23 —== Median —=—=Top 5 Median Clouded Judgement @jaminball ALTIMETER',\n",
              " 'EV / NTM Revenue Multiples 45.0x 40.0x 35.0x 30.0x 25.0x 20.0x 15.0x 10.0x 11.8x 74x 3.9x 5.0x 0.0x Jan-15 Aug-15 Mar-16 Oct-16 May-17 Dec-17 Jul-18 Feb-19 Sep-19 Apr-20 Nov-20 Jun-21 Jan-22 Aug-22 Mar-23 Oct-23 == High Growth Median == Mid Growth Median —==Low Growth Median Clouded Judgement @jaminball ALTIMETER',\n",
              " 'EV / NTM Revenue 15x. 14x 13K 43x a ‘ax 12x x 6 6x O 6x 6x 6x x & TT ox & SS sx | sx Sx Sk Sx Median: 5.0x ax a x x ae aie x & | oxo x on a 2 5 gesgeegzes EELESzaES SPESF ESTES EESEE : € i 2253223223 BeqZErese ge BES g2ae8 88 ° i : gi7i *E 3 Sse: “a8 2 oR g fF 2 § 5 22 5 & g : Clouded Judgement @jaminball ALTIMETER',\n",
              " 'Median EV / NTM Revenue / NTM Growth Multiples 1.0x 6.0% 0.9x 4.6% 0.8x 5.0% 0.7x 4.0% 0.6x 0.5x 3.0% 0.4% 0.38x 2.0% 0.3x 0.28x 0.2x 1.0% 0.1x 0.0x 0.0% Jan-15 Aug-15 Mar-16 Oct-16 May-17 Dec-17 Jul-18 Feb-19 Sep-19 Apr-20 Nov-20 Jun-21 Jan-22 Aug-22 Mar-23 Oct-23 === Median EV / Rev / Growth ——=LT Average —— 10 Year Treasury Clouded Judgement @jaminball ALTIMETER',\n",
              " 'Growth Adjusted EV / NTM Revenue (EV / NTM Rev / NTM Growth) . 03x 0. 03x | 9.x | o.3x°b.x rape aes = 02 ax 0.2% SoPax Ol is ox fone. Sexgegerys B2eseseregsegs 84 SeRECSELSRESPEESESERS geSR2eRa eeae3e833 gecitesesesegs a3 sepe2s2 25222 E5255 22 sper sia. on EX 82ER° 28 BEES Es 2 ges 2 585 es geze Se azse sees aes Ee 82 g eo \"g 32 $83 6 g&* “3s 3 = gf ¢& 8S $B 5s 5 3 i s 38 5S Clouded Judgement @jaminball ALTIMETER',\n",
              " 'EV / NTM FCF Multiples 70.0x 60.0x 50.0x 40.0x 40.1x 30.0x 29.8x 20.0x 10.0x -Ox 1/1/15 1/1/16 1/1/17 1/1/18 1/1/19 1/1/20 1/1/21 1/1/22 1/1/23 === FCF Positive & <100x Multiple Median ——=LT Average Clouded Judgement @jaminball ALTIMETER',\n",
              " 'Ev / NTM FCF s00r gay 350x 300x 250x 150% 133% 102«88x 100x ees88: 335 oa 30x 29x 23x 23x ae % « PRED R RRR RRR RR PIII SSP LF EH SSF WS LISI SEES CFSE EM Ss 3 os go Sa 3 oh VS SEE LES EES LS FESS s SES So ae EF FS KFS é FX OY A se £ Ss = is oe es & SF ESE KP FES ES SE SKS ne SFP ICE pK FESS SPP HES LE MS s FH PS ‘e x ESSE MG ew fee ef Clouded Judgement @jaminball ALTIMETER',\n",
              " 'NTM Rev Growth vs NTM Rev Multiple 18x 16x Mos e eeu 14x © 0006 12x 10x 8x &x 4x OBK@ sox ‘Docu 10 euw (5%) 0% 5% 10% 15% 20% Clouded Judgement @jaminball eu 25% @ snow @xnor © ser 30% 35% ALTIMETER',\n",
              " 'Snowllake MongoDB Cloudfiare Datadog CrowdStrike SeniceNow Samsara Zscaler Atlassian Qualys AppFolio Shopify GitLab Dynatrace Palo Alto Veeva HubSpot Autodesk Freshworks Valuation Market Cap Ev $51,549 $48,105 $26,063 $25,355 $39,755 $36,790 $20,878 $20,723 $32,931 $31,477 $45551 $43,206 $263,045 $259,625 $127,051 $125,244 $12,603 $11,985 $25,122 $24,232 $44,087 $43,123 $6,179 $5,750 $7,110 $6,963 $77,608 $73,812 $6,694 $5,755 $14,528 $13,903 $75,401 $72,234 $26,765 $22,955 $20,893 $20,164 $4,487 $4,067 $43,753 $44,126 $3,080 $2,376 $6,449 $6,067 $59,068 $55,658 $7,341 $6,991 $6,471 $5,551 $4,702 $4,709 $2,642 $2,540 $24,699 $26,321 $3,199 $3,168 $7,175 $6,633 $5,035 $3,901 Rev Multiple FCF Multiple LIM =NTM —-2024—S ss LTM_—sNTM 19.7x 15.5x 134x 77x 55x 17.1% 14.6x—12.9x 0 S56 1x 133 Wax 145x13.9x 78x 58x 17.1% 9 13.4x—12.6x 202k =—s«183x 15.7x13.1x Ss 12.4x—Ss«é 52x 164x12.5x 44x Sx 37x 13.7% 123x119 34 30x 148% 122 «46x 5x 38x 154x 0 11.8x 105k NM 393x 150x 14.8x = 10.5k 73x 48x 416x =10.0x 96x 46x 42x 10.6x 9.6x 9.3x 24x 29x 122% = 9.6x 91x 334K 51x 1x 84x 89x 135x 60x 15x 9.3x 81x NM 282x 10.7%x — 9.0x 8.7x 42x 39x 10.5x 8.8x 81x 27x 21x 103 = 88x 81x 23x 23x 9.8x 8.3x 7.9K 95x 62x 10.0x 82 7.3x NM NM 8.5x 7.7x 7.3x 20x 30x 87x 7.4x 6.8x NM NM 95x 7.4x 7.0x 125x 78x 8.3x 7.1x 6.6x 36x 29x 7% 71x 67x 33x 61x 8.9x 6.9x 6.1x 43x 38x 7.8x 6.7x 6.4x 111K 59x 8.x 6.4x 60x 218x 85x 6.8x 6.3x 6.0x 33x 26x 7.1% 6.2x 57x 559x 56x 7.4x 6.2 59x 23x 74x 6.8x 5.8x 5.6x 73x 40x Rev Growth LT™ NTM 49% 27% 37% 17% 16% 19% 35% 28% 31% 19% 44% 31% 10% 12% 22% 21% 46% 31% 48% 27% 24% 16% 15% 11% 29% 27% 27% 18% 51% 23% 25% 19% 25% 19% 12% 17% 26% 18% 37% 22% 10% 10% 3% 17% 57% 28% 18% 16% 11% 9% 52% 29% 18% 15% 30% 29% 26% 8% 31% 15% 34% 21% 21% 18% Revenue | Margin Margin L™ Gross $2,444 66% $1,487 74% $2,125 80% $1,209 76% $2,008 80% $2,642 74% $18.886 88% $8,474 79% $780 72% $1,617 78% $3,705 82% $541 80% $573 60% $6,651 49% $502 89% $1,297 81% $6,893 72% $2,232 71% $2,058 83% $409 68% $5,212 90% $274 64% $585 75% $6,716 74% $905 51% $625 89% $607 75% $310 77% $3,843 79% $445 59% $892 81% $569 82% Operating FCF Margin LTM (41%) (18%) 2% (16%) (6%) (6%) 34% 8% (24%) (14%) (9%) 28% (8%) (6%) (43%) 9% 6% 18% (6%) (37%) (106%) (4%) (1%) (17%) (12%) (16%) (21%) (1%) (15%) (28%) (33%) 25% 3% 22% 8% 25% 30% 40% 28% (3%) NIM 26% 10% 25% 9% 25% 31% 41% 23% 24% 19% 15% 37% 13% (3%) 25% (17%) 24% 11% PRRRRE2 Rule of 40 LT™ NTM 75% 53% 40% 27% 38% 44% 44% 37% 56% 44% 74% 62% 50% 53% 51% 53% 43% 33% 69% 51% 49% 40% 61% 43% 33% 46% 35% 34% 51% 26% 50% 42% 63% 58% 55% 54% 37% 31% 30% 19% 52% 36% (48%) 0% 65% 37% 41% 40% 14% 20% 73% 46% 25% 27% 34% 36% 47% 32% 33% 26% 38% 29% 30% 33% LTM Operating Expenses % Rev SRTEPTIFFFRRZIIIPISSS & # 3 PFSF93 24% 24% 13% 7% 10% 6% 16% 11% 17% 27% 12% 6% 11% 11% 23% 11% 28% 15% 10% 19% 14% 18% 24% 11% 18% 21% 28% 26% 16% 16% 16% 20% 20% 11% 20% 38% Net GM Adj. Expansion Payback Current 142% 29Months $156 120% 13 Months $365 $18 116% 21 Months $62 120% 14 Months $100 120% 23 Months $191 $578 24 Months $620 115% 26 Months $24 121% 25 Months $171 5 Months $174 $168 8 Months $199 $60 124% 27 Months $43 114% 37 Months $49 $243 7 Months $167 103% 34 Months $415 120% 20 Months $45 105% $205 62 Months $26 119% 25 Months $25 22Months $225 $90 110% 27 Months $136 112% 43 Months $87 56 Months S47 116% 7 Months $147 60 Months $28 24 Months $50 106% 37 Months $17 Share Price Performance % Week % 30 Days 10% (4%) 11% 2% 2% 3% 10% (8%) 26% 9% 4% 4% 3% 8% 3% 1% 4% (6%) 7% (1%) (6%) (17%) 10% 3% 6% 3% 1% 10% 4% (9%) 8% 1% @%) (6%) (12%) (22%) (2%) (11%) 5% (4%) 3% (4%) (4%) (2%) (18%) (28%) 6% 2% (0%) (2%) 6% (9%) (0%) (14%) 11% 7%) (0%) 0% (2%) (5%) (1%) (27%) (7%) (9%) YTD 86% 185% 38% 36% 81% 72% 60% 90% 53% 33% 50% 89% 74% (5%) 74% 3% 66% 10% 133% (17%) 35% 43% 11% 4% (16%) 70% 7% 6% 16%',\n",
              " 'Confluent Smartsheet Tenable Unity Appian Digital Ocean Zoominfo Fived Ona Sprinkir Hashicorp Bill.com Squarespace Fastly Box Dropbox PagerDuty Jam{ ay Couchbase Alteryx Amplitude Wix.com Zoom Valuation Market Cap EV $4,185 $3,932 $204,340 $205,792 $2,712 $2234 $8,376 $8,140 $9,402 $7,636 $4,521 $3,814 $7,250 $6,885 $10,104 $9,649 $5,200 $4,442 $3,186 $3,213 $5,361 $4,869 $4,342 $4,064 $9,592 $11,044 $2,608 $2,717 $2,108 $3,383 $4,907 $5.713 $4,444 $4,539 $10,877 $10,466 $3,846 $3,250 $3,800 $2,571 $5,980 $5,245 $3,862 $4,339 $2,144 $2,248 $3,644 $4,225 $9,076 $10,028 $1,932 $1,730 $2,018 $2,157 $1,959 $2,214 $759 $600 $2,597 $3.248 $1,220 $901 $4,953 $4,922 $18,253 $12,310 Rev Multiple FCF Multiple LIM —soONTM=—s2024 = LTM_—sNTM 6.5x 5.8x 5.4x NM NM 6.x 5.6x 53x 27x 21x 6.8x 5.6x 5.3x 48x 33x 6.6x 5.6x 54x 31x 27x 6.7x 55x 5.1K 45x 29% 7.3x 55x 48x NM NU 6.2x 5.3x 4.9x 86x 41x 5.9x 5.3x 5.2 32x 28x 6.1x 5.0x 47x NM 727x 5.6x 5.0x 4.9x 38x 28x 5.6x 47x 4.2x 55x 34x 5.3x 4.7% 4.5x 4x 25x 61x 4% 4.x NM 30x 5.2% 4.6x 44x NM NI 5.0x 45x 4.4x 30x 21x 47x 45x 45x 44x 44x 5.x 48x 4.3x 50x 47x 5.1x 44x 4.1% 42x 2% 4.8x 4.2 3% 127 36x 47x 4.x 3.8x NM 88x 4.6x 4.2 4.0x 27x 28x 45x 4.0x 3.x 22x 47x 46x 4.0x 3.8x NM NIM 41x 3.9% 38x 14x 13x 44x 3.x 3.x 13x 44x 43x 3.8x 35x 40x 23x 4.0x 3.x 3.3x 40x 20x 3.6x 33x 3.2x 46x 38x 37x 3.x 3.0x NM NM 3.5x 3.2 3.0x NM 43x 3.3x 3.4% 30x 257 43x 3.3x 2.9% 28x 67x 16x 2.8x 27% 2.6x 41x x Rev Growth LIM NIM 30% 12% 13% 11% 25% 22% 34% 18% 15% 21% 73% 33% 21% 17% 26% 12% 36% 21% 15% 12% 32% 20% 19% 13% 48% 25% 18% 12% 27% 10% 20% 3% 18% 15% 29% 14% 21% 15% 38% 13% 50% 11% 15% 1% 19% 16% 8% 5% 8% 3% 25% 12% 19% 16% 11% 10% 17% 13% 26% 11% 22% 8% 11% 12% 4% 2% Revenue _ Margin Margin LT™ Gross $607 90% $33,071 75% $329 78% $1,239 69% $1,148 84% $524 68% $1,113 73% $1,630 84% $732 69% $574 75% $867 79% $770 77% $1,808 68% $526 73% $675 60% $1,225 85% $880 53% $2,065 72% $674 75% $542 81% $1,134 82% $970 82% $488 52% $1,020 75% $2,466 81% $406 82% $540 77% $609 47% $164 86% $920 86% $270 69% $1,513 65% $4,464 75% Operating FCF Margin LT™™ (56%) 13% (26%) 15% (21%) (79%) (15%) 28% (65%) 3% (18%) (8%) (53%) (25%) 2% 21% (11%) (31%) (1%) (54%) (23%) 40% (41%) 5% 14% (25%) (22%) (16%) (47%) (27%) (39%) (6%) 3% (14%) 23% 14% 21% 15% (26%) 7% 19% (22%) 15% 10% 16% (7%) (24%) 17% 33% 10% 12% (10%) 17% (10%) 11% 10% 8% (23%) (7%) 1% 26% NTM. (4%) 27% 17% 21% 18% (3%) 12% 19% 1% 18% 13% 19% 15% (8%) 10% 16% 11% 5% 15% 24% (5%) 36% 16% 18% (10%) 18% Rule of 40 LIM___NTM _ 16% 8% 36% 37% 39% 38% 55% 30% 30% 30% 47% 30% 28% 29% 45% 30% 14% 21% 20% 30% 42% 33% 35% 32% 41% 40% (6%) 4% 43% 32% 53% 36% 29% 24% 41% 30% 25% 26% 28% 18% 67% 26% 35% 35% 8% 11% 38% 35% 38% 39% 35% 29% 30% 33% 18% 18% (6%) 3% 19% 18% 23% 15% 16% 29% 30% 32% LTM Operating Expenses % Rev R&D S&M 69% 39% 44% 58% 70% 46% 25% 69% 44% 56% 50% 40% 47% 12% 34% 33% 52% 49% SSRRRFES 74% $338 52% 15% 41% 14% 27% 41% 28% 11% 46% 19% 26% 30% 16% 18% 31% 13% 24% 31% 24% 34% 24% 23% 37% 25% 34% 19% GBA 24% 8% 18% 15% 20% 36% 13% 17% 19% 15% 14% 22% 21% 25% 13% 13% 21% 14% 25% 26% 14% 23% 13% 25% 20% 17% 23% 22% 21% 11% 15% 33% 9% 26% 12% 32% 38% 19% 7% 46% 14% 22% 18% 26% a 14% 15% 23% 33% 8% 31% 27% 11% 27% 19% 14% 29% 17% 12% 21% 27% 31% 15% 31% Net GM Adj. SBC Expansion Payback — Current 105% 31 Months $19 34 Months $210 119% 32Months $26 $149 121% 39 Months $17 115% 31 Months $15 113% 36 Months $74 $168 130% 42Months $17 105% 36 Months $52 121% 28Months $40 58 Months $37 106% $25 117% 25Months $36 96% 31 Months $25 62 Months $13 64 Months $61 115% 27 Months $66 120% 61 Months $14 124% 62Months $20 111% 77 Months $56 $28 114% §5Months $16 103% 37 Months $25 72 Months $26 114% 37 Months $21 108% 45 Months $16 360 Months $33 115% 48 Months $16 119% 77 Months $36 99% 122Months $10 $87 109% 50Months $61 Share Price Performance % Week % 30 Days (1%) 6% 1% 2% (2%) 7% (13%) (26%) 0% (3%) 1% (10%) 4% (9%) 3% (39%) 4% (46%) 2% (6%) 2% (8%) 5% (17%) (3%) (16%) (15%) (17%) 15% 1% (1%) (27%) 8% (6%) (2%) (22%) 2% (1%) 2% (12%) (37%) (51%) (1%) (7%) (0%) (0%) 1% (1%) (1%) (6%) 1% (3%) (1%) (7%) 1% 2% 13% (5%) 19% (2%) 0% (7%) 6% (1%) (1%) (10%) YTD 38% 58% 21% (23%) 31% 5% 43% (46%) (24%) (23%) (3%) (12%) 9% (4%) (10%) (3%) 74% (49%) 28% 100% (19%) 17% (22%) (25%) 24% (29%) (15%) 13% (10%)',\n",
              " 'Valuation Rev Multiple FCF Multple RevGrowth LM Gross Operating _FCF Margin. Rule 040, LTM operating Expenses % Rev Net GM Adj. Share Price Performance Market Cap TM MONT CTM_NTM__Revenue Margin Margin _LTM___NTM UTM ___NTM____S@M__R&D___ GBA ___SBC__Expansion Payback Current % Week %30Days.__ YTD Docusion 8.138 2m ‘ax 1H HH «SZEE_79%H~—~SC*N:SC~*«CNH:SC*«HC*“C*« SSCS CON ~«*SCSMHSS*SC2HSC«N0DHBOMontns $40 0% 8) 8%) 2vore $1,085 Pa Nl 2m 12% S415 83H IH) GH) OH 9% 18% = A225 20% 23% SCNT 74 Montns SB 4%) 21% Bigcommerce $639 2m NM 48x 10% 13% $298 75% (29%) AH) (12%) «18% TH 30% «24TH NM $8 0%) 16%) a) Watidte ‘$807 19 NN\" 30x 10% ae $260 at 5%) OH) He er ee ee, ee, Twallo $10,138 3 18 Ni 10% 2% $4052 48% (18%) (OH) 13% 10H 28% 28H 13H tat $66 TH 4%) RingCentral $2,500 1 1 1% 1H WH «S21 89% (12%) NOH NIH 10% 14% 19% 98% TOTMonms $27) (12H) (25%) Yet S176 um 1% 1% 3% $403 78% HH) 10% 11% 1 13H 17% 18% HTH NM 6 a, an) to S730 15 Ni 2% 10% S215 64% TH) 108, 25% 35% 35% 24% 119% -23Monins $5 (19%) HH) OH) ikatura 282 tae NN NM 2%) 0% 8172428) (12) (8) 4%) 32% 8% NSO NM. 82 % 2% % Domo $312 1% NM NM 115 (@) $318 75% 0%) 6H). ) 2%) 20% 12% 28H (10%) (39%) eS Disco $354 1m NM NM (4%) 49% $135 75% 9%) (38S) —_(11%) 1% 45% 33% 20% =A 124 Moning 7%) 6) 2 $195 1 Ne 13% 8020 71% 4%) OH) 12% 25% 20% 15% 8% 0% (62%) a8 $342 10 10 16 10K 1% S737 70%) 7H 10H, 11% 20% 11% 8% 287 Months 13% 5%) Riskiies $696 ox oar Ny 34x 14% $284 52% 1%) OH) HH 26% 26% 22% 2%) (15%) Agora ‘$322 og og = Ok NNN 2% S182 81% (63%) —_—(13886) (143%) (1356) 61% 28% 10% Nu (19%)',\n",
              " '',\n",
              " '',\n",
              " '',\n",
              " '',\n",
              " '',\n",
              " '',\n",
              " '',\n",
              " '']"
            ]
          },
          "metadata": {},
          "execution_count": 13
        }
      ]
    },
    {
      "cell_type": "code",
      "source": [
        "raw_pdf_elements2=partition_pdf(\n",
        "    filename=\"/content/data2/Retrieval-Augmented-Generation-for-NLP.pdf\",                  # mandatory\n",
        "    strategy=\"hi_res\",                                 # mandatory to use ``hi_res`` strategy\n",
        "    extract_images_in_pdf=True,                       # mandatory to set as ``True``\n",
        "    extract_image_block_types=[\"Image\",\"Table\"],          # optional\n",
        "    extract_image_block_to_payload=False,                  # optional\n",
        "    extract_image_block_output_dir=\"extracted_data2\",  # optional - only works when ``extract_image_block_to_payload=False``\n",
        "    )"
      ],
      "metadata": {
        "colab": {
          "base_uri": "https://localhost:8080/",
          "height": 177,
          "referenced_widgets": [
            "58e0223794d34ffb977a1bd3d4a9e3a8",
            "4ddca619a25e4cd6b674136fb209c9a4",
            "2db722ea2d8043c2a7c151be4927fe01",
            "078a851cd8424e088f9783f5355ad9a8",
            "0d8693aedb1f4d34a53a2cc71de9a5bd",
            "05a6983e0f464958b51a0a9b1618f93f",
            "469b22cbe0cd4934ab985e247ab46fcc",
            "0335637ed64141ec8c5472fc43fe2cd1",
            "533e33b22a184e9592b267264c4024d0",
            "d8e30e3e8ce747aabc45d843e0248036",
            "f8717264f83f4b5289f5b817473be375"
          ]
        },
        "id": "SrIboN8gqva2",
        "outputId": "e83fd2df-0d0f-46f7-d7bf-09cfd91a0d48"
      },
      "execution_count": null,
      "outputs": [
        {
          "output_type": "stream",
          "name": "stderr",
          "text": [
            "[nltk_data] Downloading package punkt to /root/nltk_data...\n",
            "[nltk_data]   Unzipping tokenizers/punkt.zip.\n",
            "[nltk_data] Downloading package averaged_perceptron_tagger to\n",
            "[nltk_data]     /root/nltk_data...\n",
            "[nltk_data]   Unzipping taggers/averaged_perceptron_tagger.zip.\n",
            "WARNING:unstructured:This function will be deprecated in a future release and `unstructured` will simply use the DEFAULT_MODEL from `unstructured_inference.model.base` to set default model name\n"
          ]
        },
        {
          "output_type": "display_data",
          "data": {
            "text/plain": [
              "yolox_l0.05.onnx:   0%|          | 0.00/217M [00:00<?, ?B/s]"
            ],
            "application/vnd.jupyter.widget-view+json": {
              "version_major": 2,
              "version_minor": 0,
              "model_id": "58e0223794d34ffb977a1bd3d4a9e3a8"
            }
          },
          "metadata": {}
        }
      ]
    },
    {
      "cell_type": "code",
      "source": [
        "raw_pdf_elements2"
      ],
      "metadata": {
        "colab": {
          "base_uri": "https://localhost:8080/"
        },
        "id": "-ugHzV-gzlRl",
        "outputId": "f951f8ee-dc14-4c41-ee3d-b997af6b7c15"
      },
      "execution_count": null,
      "outputs": [
        {
          "output_type": "execute_result",
          "data": {
            "text/plain": [
              "[<unstructured.documents.elements.Text at 0x795d2096d5d0>,\n",
              " <unstructured.documents.elements.Header at 0x795d0d54acb0>,\n",
              " <unstructured.documents.elements.Text at 0x795d2096faf0>,\n",
              " <unstructured.documents.elements.Title at 0x795d2096d690>,\n",
              " <unstructured.documents.elements.NarrativeText at 0x795d0d54b7c0>,\n",
              " <unstructured.documents.elements.NarrativeText at 0x795d0d54a6e0>,\n",
              " <unstructured.documents.elements.NarrativeText at 0x795d0d54ba90>,\n",
              " <unstructured.documents.elements.Title at 0x795d0d7e7280>,\n",
              " <unstructured.documents.elements.Title at 0x795d0d54b820>,\n",
              " <unstructured.documents.elements.NarrativeText at 0x795d0d54b4f0>,\n",
              " <unstructured.documents.elements.Title at 0x795d0d54bd90>,\n",
              " <unstructured.documents.elements.NarrativeText at 0x795d0d54bd60>,\n",
              " <unstructured.documents.elements.Image at 0x795d0d54beb0>,\n",
              " <unstructured.documents.elements.NarrativeText at 0x795d0d54bd00>,\n",
              " <unstructured.documents.elements.NarrativeText at 0x795d0d54b6d0>,\n",
              " <unstructured.documents.elements.NarrativeText at 0x795d0d549a20>,\n",
              " <unstructured.documents.elements.NarrativeText at 0x795d0d54a7a0>,\n",
              " <unstructured.documents.elements.NarrativeText at 0x795d0d548dc0>,\n",
              " <unstructured.documents.elements.Title at 0x795d0d54bc10>,\n",
              " <unstructured.documents.elements.NarrativeText at 0x795d0d54a2c0>,\n",
              " <unstructured.documents.elements.NarrativeText at 0x795d0d54b5b0>,\n",
              " <unstructured.documents.elements.Footer at 0x795d0d54b2b0>,\n",
              " <unstructured.documents.elements.NarrativeText at 0x795d0d54a950>,\n",
              " <unstructured.documents.elements.NarrativeText at 0x795d0d548fa0>,\n",
              " <unstructured.documents.elements.Title at 0x795d0d54ab60>,\n",
              " <unstructured.documents.elements.NarrativeText at 0x795d0d54aef0>,\n",
              " <unstructured.documents.elements.Formula at 0x795d0d54a6b0>,\n",
              " <unstructured.documents.elements.NarrativeText at 0x795d0d28ac50>,\n",
              " <unstructured.documents.elements.Formula at 0x795d0d28ac80>,\n",
              " <unstructured.documents.elements.NarrativeText at 0x795d0d28b340>,\n",
              " <unstructured.documents.elements.Title at 0x795d0d638910>,\n",
              " <unstructured.documents.elements.NarrativeText at 0x795d0d639d20>,\n",
              " <unstructured.documents.elements.Title at 0x795d0d7e7760>,\n",
              " <unstructured.documents.elements.Formula at 0x795d0d639450>,\n",
              " <unstructured.documents.elements.NarrativeText at 0x795d0d6386d0>,\n",
              " <unstructured.documents.elements.Title at 0x795d0d638dc0>,\n",
              " <unstructured.documents.elements.NarrativeText at 0x795d0d639000>,\n",
              " <unstructured.documents.elements.Title at 0x795d0d638490>,\n",
              " <unstructured.documents.elements.NarrativeText at 0x795d0d638e80>,\n",
              " <unstructured.documents.elements.Footer at 0x795d0d638be0>,\n",
              " <unstructured.documents.elements.NarrativeText at 0x795d0d6383a0>,\n",
              " <unstructured.documents.elements.Title at 0x795d0d638a00>,\n",
              " <unstructured.documents.elements.NarrativeText at 0x795d0d7e7e20>,\n",
              " <unstructured.documents.elements.NarrativeText at 0x795d0d639b40>,\n",
              " <unstructured.documents.elements.NarrativeText at 0x795d0d639bd0>,\n",
              " <unstructured.documents.elements.Title at 0x795d0d6387f0>,\n",
              " <unstructured.documents.elements.NarrativeText at 0x795d0d638940>,\n",
              " <unstructured.documents.elements.Title at 0x795d0d639060>,\n",
              " <unstructured.documents.elements.NarrativeText at 0x795d0d638fd0>,\n",
              " <unstructured.documents.elements.Title at 0x795d0d639270>,\n",
              " <unstructured.documents.elements.NarrativeText at 0x795d0d639240>,\n",
              " <unstructured.documents.elements.Text at 0x795d0d7e6770>,\n",
              " <unstructured.documents.elements.NarrativeText at 0x795d0d38eb00>,\n",
              " <unstructured.documents.elements.Title at 0x795d0d38f010>,\n",
              " <unstructured.documents.elements.NarrativeText at 0x795d0d38e740>,\n",
              " <unstructured.documents.elements.NarrativeText at 0x795d0d38e9e0>,\n",
              " <unstructured.documents.elements.Title at 0x795d0d38c8b0>,\n",
              " <unstructured.documents.elements.NarrativeText at 0x795d0d38e950>,\n",
              " <unstructured.documents.elements.Title at 0x795d0d38e800>,\n",
              " <unstructured.documents.elements.Title at 0x795d0d38ec20>,\n",
              " <unstructured.documents.elements.NarrativeText at 0x795d0d38c280>,\n",
              " <unstructured.documents.elements.NarrativeText at 0x795d0d38ceb0>,\n",
              " <unstructured.documents.elements.Footer at 0x795d0d38ea40>,\n",
              " <unstructured.documents.elements.FigureCaption at 0x795d0d38d7b0>,\n",
              " <unstructured.documents.elements.Title at 0x795d0d7e6440>,\n",
              " <unstructured.documents.elements.Title at 0x795dfa24a800>,\n",
              " <unstructured.documents.elements.Title at 0x795dfa24a920>,\n",
              " <unstructured.documents.elements.Table at 0x795d0d38fca0>,\n",
              " <unstructured.documents.elements.Title at 0x795dfa24a9b0>,\n",
              " <unstructured.documents.elements.Text at 0x795d0d7e5bd0>,\n",
              " <unstructured.documents.elements.NarrativeText at 0x795d0d38f220>,\n",
              " <unstructured.documents.elements.Title at 0x795d0d38f250>,\n",
              " <unstructured.documents.elements.NarrativeText at 0x795d0d38c6a0>,\n",
              " <unstructured.documents.elements.Title at 0x795d0d38e410>,\n",
              " <unstructured.documents.elements.NarrativeText at 0x795d0d38dff0>,\n",
              " <unstructured.documents.elements.NarrativeText at 0x795d0d38e3b0>,\n",
              " <unstructured.documents.elements.Title at 0x795d0d38ffd0>,\n",
              " <unstructured.documents.elements.NarrativeText at 0x795d0d38dea0>,\n",
              " <unstructured.documents.elements.Text at 0x795d0d7e64d0>,\n",
              " <unstructured.documents.elements.Image at 0x795d0d38f640>,\n",
              " <unstructured.documents.elements.NarrativeText at 0x795d0d38f670>,\n",
              " <unstructured.documents.elements.NarrativeText at 0x795d0d38ff40>,\n",
              " <unstructured.documents.elements.Table at 0x795d0d38d3c0>,\n",
              " <unstructured.documents.elements.NarrativeText at 0x795d0d38cd30>,\n",
              " <unstructured.documents.elements.Title at 0x795d0d38c3a0>,\n",
              " <unstructured.documents.elements.NarrativeText at 0x795d0d38cb50>,\n",
              " <unstructured.documents.elements.NarrativeText at 0x795d0d38c820>,\n",
              " <unstructured.documents.elements.NarrativeText at 0x795d0d38d4e0>,\n",
              " <unstructured.documents.elements.NarrativeText at 0x795d0d38fa60>,\n",
              " <unstructured.documents.elements.Footer at 0x795d0d38cdf0>,\n",
              " <unstructured.documents.elements.NarrativeText at 0x795d0d38fac0>,\n",
              " <unstructured.documents.elements.Title at 0x795dfa24ad10>,\n",
              " <unstructured.documents.elements.Table at 0x795d0d38c130>,\n",
              " <unstructured.documents.elements.FigureCaption at 0x795d0d38d900>,\n",
              " <unstructured.documents.elements.Table at 0x795d0d38d0c0>,\n",
              " <unstructured.documents.elements.Title at 0x795dfa24ae00>,\n",
              " <unstructured.documents.elements.NarrativeText at 0x795d0d38c760>,\n",
              " <unstructured.documents.elements.NarrativeText at 0x795d0d38f400>,\n",
              " <unstructured.documents.elements.Image at 0x795d0d656f80>,\n",
              " <unstructured.documents.elements.FigureCaption at 0x795d0d657310>,\n",
              " <unstructured.documents.elements.Title at 0x795d0d656170>,\n",
              " <unstructured.documents.elements.NarrativeText at 0x795d0d654340>,\n",
              " <unstructured.documents.elements.Footer at 0x795d0d654070>,\n",
              " <unstructured.documents.elements.NarrativeText at 0x795d0d656890>,\n",
              " <unstructured.documents.elements.NarrativeText at 0x795d0d655d50>,\n",
              " <unstructured.documents.elements.NarrativeText at 0x795d0d656d40>,\n",
              " <unstructured.documents.elements.NarrativeText at 0x795d0d656440>,\n",
              " <unstructured.documents.elements.Title at 0x795d0d655cc0>,\n",
              " <unstructured.documents.elements.NarrativeText at 0x795d0d669ff0>,\n",
              " <unstructured.documents.elements.Text at 0x795d0d7e7a30>,\n",
              " <unstructured.documents.elements.Title at 0x795d0d6680d0>,\n",
              " <unstructured.documents.elements.NarrativeText at 0x795d0d668520>,\n",
              " <unstructured.documents.elements.NarrativeText at 0x795d0d668310>,\n",
              " <unstructured.documents.elements.Title at 0x795d0d668bb0>,\n",
              " <unstructured.documents.elements.NarrativeText at 0x795d0d66bee0>,\n",
              " <unstructured.documents.elements.Title at 0x795d0d668e50>,\n",
              " <unstructured.documents.elements.ListItem at 0x795d0d669450>,\n",
              " <unstructured.documents.elements.ListItem at 0x795d0d66a770>,\n",
              " <unstructured.documents.elements.ListItem at 0x795d0d66ada0>,\n",
              " <unstructured.documents.elements.ListItem at 0x795d0d6690f0>,\n",
              " <unstructured.documents.elements.ListItem at 0x795d0d66a7d0>,\n",
              " <unstructured.documents.elements.ListItem at 0x795d0d669b10>,\n",
              " <unstructured.documents.elements.Footer at 0x795d0d66b8b0>,\n",
              " <unstructured.documents.elements.ListItem at 0x795d0d66be50>,\n",
              " <unstructured.documents.elements.ListItem at 0x795d0d66a0b0>,\n",
              " <unstructured.documents.elements.ListItem at 0x795d0d66b6a0>,\n",
              " <unstructured.documents.elements.ListItem at 0x795d0d669840>,\n",
              " <unstructured.documents.elements.ListItem at 0x795d0d66b610>,\n",
              " <unstructured.documents.elements.ListItem at 0x795d0d668700>,\n",
              " <unstructured.documents.elements.ListItem at 0x795d0d6690c0>,\n",
              " <unstructured.documents.elements.ListItem at 0x795d0d6688e0>,\n",
              " <unstructured.documents.elements.ListItem at 0x795d0d668760>,\n",
              " <unstructured.documents.elements.ListItem at 0x795d0d668880>,\n",
              " <unstructured.documents.elements.ListItem at 0x795d0d669e70>,\n",
              " <unstructured.documents.elements.ListItem at 0x795d0d669120>,\n",
              " <unstructured.documents.elements.ListItem at 0x795d0d66a140>,\n",
              " <unstructured.documents.elements.Footer at 0x795d0d668be0>,\n",
              " <unstructured.documents.elements.ListItem at 0x795d0d669060>,\n",
              " <unstructured.documents.elements.ListItem at 0x795d0d669240>,\n",
              " <unstructured.documents.elements.ListItem at 0x795d0d66a6e0>,\n",
              " <unstructured.documents.elements.ListItem at 0x795d0d669bd0>,\n",
              " <unstructured.documents.elements.ListItem at 0x795d0d3ddfc0>,\n",
              " <unstructured.documents.elements.ListItem at 0x795d0d3dfe50>,\n",
              " <unstructured.documents.elements.ListItem at 0x795d0d3dcdf0>,\n",
              " <unstructured.documents.elements.ListItem at 0x795d0d3defe0>,\n",
              " <unstructured.documents.elements.ListItem at 0x795d0d3dc8e0>,\n",
              " <unstructured.documents.elements.ListItem at 0x795d0d3dc5e0>,\n",
              " <unstructured.documents.elements.ListItem at 0x795d0d3dc9d0>,\n",
              " <unstructured.documents.elements.ListItem at 0x795d0d3dffd0>,\n",
              " <unstructured.documents.elements.Footer at 0x795d0d3dd930>,\n",
              " <unstructured.documents.elements.NarrativeText at 0x795d0d3dd780>,\n",
              " <unstructured.documents.elements.ListItem at 0x795d0d3dd8d0>,\n",
              " <unstructured.documents.elements.ListItem at 0x795d0d3de470>,\n",
              " <unstructured.documents.elements.ListItem at 0x795d0d3de560>,\n",
              " <unstructured.documents.elements.ListItem at 0x795d0d3de3e0>,\n",
              " <unstructured.documents.elements.ListItem at 0x795d0d3de5f0>,\n",
              " <unstructured.documents.elements.ListItem at 0x795d0d3df790>,\n",
              " <unstructured.documents.elements.ListItem at 0x795d0d3dcd60>,\n",
              " <unstructured.documents.elements.ListItem at 0x795d0d3dddb0>,\n",
              " <unstructured.documents.elements.ListItem at 0x795d0d3dc400>,\n",
              " <unstructured.documents.elements.ListItem at 0x795d0d3dd480>,\n",
              " <unstructured.documents.elements.ListItem at 0x795d0d3df370>,\n",
              " <unstructured.documents.elements.ListItem at 0x795d0d3dd0c0>,\n",
              " <unstructured.documents.elements.Footer at 0x795d0d3de890>,\n",
              " <unstructured.documents.elements.NarrativeText at 0x795d0d3dd000>,\n",
              " <unstructured.documents.elements.ListItem at 0x795d0d3df580>,\n",
              " <unstructured.documents.elements.ListItem at 0x795d0d3dc4f0>,\n",
              " <unstructured.documents.elements.ListItem at 0x795d0d3dec50>,\n",
              " <unstructured.documents.elements.ListItem at 0x795d0d3de6b0>,\n",
              " <unstructured.documents.elements.ListItem at 0x795d0d3de980>,\n",
              " <unstructured.documents.elements.ListItem at 0x795d0d3de920>,\n",
              " <unstructured.documents.elements.ListItem at 0x795d0d3ded10>,\n",
              " <unstructured.documents.elements.ListItem at 0x795d0d3dc670>,\n",
              " <unstructured.documents.elements.ListItem at 0x795d0d3dc5b0>,\n",
              " <unstructured.documents.elements.ListItem at 0x795d0d3df700>,\n",
              " <unstructured.documents.elements.ListItem at 0x795d0d3dc040>,\n",
              " <unstructured.documents.elements.ListItem at 0x795d0d3df940>,\n",
              " <unstructured.documents.elements.Text at 0x795d0d7e5840>,\n",
              " <unstructured.documents.elements.ListItem at 0x795d0d3de230>,\n",
              " <unstructured.documents.elements.ListItem at 0x795d0d3dce80>,\n",
              " <unstructured.documents.elements.ListItem at 0x795d0d3df4f0>,\n",
              " <unstructured.documents.elements.ListItem at 0x795d0d3dd600>,\n",
              " <unstructured.documents.elements.ListItem at 0x795d0d3dd810>,\n",
              " <unstructured.documents.elements.ListItem at 0x795d0d3dd870>,\n",
              " <unstructured.documents.elements.ListItem at 0x795d0d3dd9f0>,\n",
              " <unstructured.documents.elements.ListItem at 0x795d0d3ddb40>,\n",
              " <unstructured.documents.elements.ListItem at 0x795d209a1c00>,\n",
              " <unstructured.documents.elements.ListItem at 0x795d0d434730>,\n",
              " <unstructured.documents.elements.Footer at 0x795d0d435270>,\n",
              " <unstructured.documents.elements.ListItem at 0x795d0d435300>,\n",
              " <unstructured.documents.elements.ListItem at 0x795d0d4351b0>,\n",
              " <unstructured.documents.elements.ListItem at 0x795d0d434e80>,\n",
              " <unstructured.documents.elements.Header at 0x795d0d434cd0>,\n",
              " <unstructured.documents.elements.Title at 0x795d0d434970>,\n",
              " <unstructured.documents.elements.Title at 0x795d0d434850>,\n",
              " <unstructured.documents.elements.NarrativeText at 0x795d0d4346d0>,\n",
              " <unstructured.documents.elements.Title at 0x795d0d434580>,\n",
              " <unstructured.documents.elements.Image at 0x795d0d434460>,\n",
              " <unstructured.documents.elements.NarrativeText at 0x795d0d4341c0>,\n",
              " <unstructured.documents.elements.NarrativeText at 0x795d0d435f00>,\n",
              " <unstructured.documents.elements.Title at 0x795d0d435f60>,\n",
              " <unstructured.documents.elements.NarrativeText at 0x795d0d4363b0>,\n",
              " <unstructured.documents.elements.NarrativeText at 0x795d0d7e6c50>,\n",
              " <unstructured.documents.elements.Footer at 0x795d0d7e7df0>,\n",
              " <unstructured.documents.elements.Title at 0x795d0d7e71c0>,\n",
              " <unstructured.documents.elements.NarrativeText at 0x795d0d7e5c30>,\n",
              " <unstructured.documents.elements.NarrativeText at 0x795d0d7e61a0>,\n",
              " <unstructured.documents.elements.NarrativeText at 0x795d0d7e5570>,\n",
              " <unstructured.documents.elements.Title at 0x795d0d7e7250>,\n",
              " <unstructured.documents.elements.NarrativeText at 0x795d0d7e5de0>,\n",
              " <unstructured.documents.elements.Title at 0x795d0d7e5360>,\n",
              " <unstructured.documents.elements.NarrativeText at 0x795d0d7e6a40>,\n",
              " <unstructured.documents.elements.Title at 0x795d0d7e6f80>,\n",
              " <unstructured.documents.elements.NarrativeText at 0x795d0d7e6fe0>,\n",
              " <unstructured.documents.elements.Footer at 0x795d0d7e6680>,\n",
              " <unstructured.documents.elements.FigureCaption at 0x795d0d7e58d0>,\n",
              " <unstructured.documents.elements.Table at 0x795d0d7e73a0>,\n",
              " <unstructured.documents.elements.NarrativeText at 0x795d0d7e6620>,\n",
              " <unstructured.documents.elements.Title at 0x795d0d7e77c0>,\n",
              " <unstructured.documents.elements.NarrativeText at 0x795d0d7e5ff0>,\n",
              " <unstructured.documents.elements.Title at 0x795d0d7e65c0>,\n",
              " <unstructured.documents.elements.NarrativeText at 0x795d0d7e5990>,\n",
              " <unstructured.documents.elements.Header at 0x795d0d7e7850>]"
            ]
          },
          "metadata": {},
          "execution_count": 11
        }
      ]
    },
    {
      "cell_type": "code",
      "source": [
        "Table=[]\n",
        "for element in raw_pdf_elements2:\n",
        "  if \"unstructured.documents.elements.Table\" in str(type(element)):\n",
        "            Table.append(str(element))"
      ],
      "metadata": {
        "id": "XaFRVm2A0qOH"
      },
      "execution_count": null,
      "outputs": []
    },
    {
      "cell_type": "code",
      "source": [
        "Table"
      ],
      "metadata": {
        "colab": {
          "base_uri": "https://localhost:8080/"
        },
        "id": "EutEm_Se1CWs",
        "outputId": "cd5a6f50-bc7b-448b-88a0-f37608606fb0"
      },
      "execution_count": null,
      "outputs": [
        {
          "output_type": "execute_result",
          "data": {
            "text/plain": [
              "['Closed Book T5-11B [52] 34.5 T5-11B+SSM[52] 36.6 - - /50.1 37.4 /60.5 44.7 - - Model B-1 Label Acc. Open Book REALM [20] DPR [26] 40.4 / 41.5 57.9/ - - - 40.7 46.8 41.1 50.6 SotA BART - - 15.1 19.7 49.8* 49.9* 38.2 41.6 76.8 64.0 81.1 RAG-Token RAG-Seq. 44.1 55.2/66.1 45.5 50.0 44.5 56.8/68.0 45.2 52.2 RAG-Tok. 17.3 22.2 RAG-Seq. 14.7 21.4 40.1 40.8 41.5 44.2 72.5 89.5',\n",
              " 'Task Input Model Generation BART ?The middle ear is the part of the ear between the middle ear and the nose. RAG-T The middle ear is the portion of the ear internal to the eardrum. RAG-S The middle ear includes the tympanic cavity and the three ossicles. deﬁne middle ear MS- MARCO what currency needed in scotland BART The currency needed in Scotland is Pound sterling. RAG-T Pound is the currency needed in Scotland. RAG-S The currency needed in Scotland is the pound sterling. BART ?This state has the largest number of counties in the U.S. RAG-T It’s the only U.S. state named for a U.S. president RAG-S It’s the state where you’ll ﬁnd Mount Rainier National Park Jeopardy Question Gener -ation Washington BART *This epic poem by Dante is divided into 3 parts: the Inferno, the Purgatorio & the Purgatorio RAG-T Dante’s \"Inferno\" is the ﬁrst part of this epic poem RAG-S This 14th century work is divided into 3 sections: \"Inferno\", \"Purgatorio\" & \"Paradiso\" The Divine Comedy',\n",
              " 'Factuality Speciﬁcity MSMARCO Jeopardy QGen BART better RAG better Both good Both poor No majority 7.1% 42.7% 11.7% 17.7% 20.8% 16.8% 37.4% 11.8% 6.9% 20.1% Gold BART RAG-Token RAG-Seq. 89.6% 70.7% 77.8% 83.5% 90.0% 32.4% 46.8% 53.8%',\n",
              " 'Model NQ TQA WQ Exact Match CT Jeopardy-QGen MSMarco B-1 B-1 QB-1 R-L RAG-Token-BM25 RAG-Sequence-BM25 29.7 31.8 41.5 44.1 32.1 36.6 33.1 33.8 17.5 11.1 22.3 19.5 55.5 56.5 48.4 46.9 75.1 91.6 RAG-Token-Frozen RAG-Sequence-Frozen 37.8 41.2 50.1 52.1 37.1 41.8 51.1 52.6 16.7 11.8 21.7 19.6 55.9 56.7 49.4 47.3 72.9 89.4 RAG-Token RAG-Sequence 43.5 44.0 54.8 55.8 46.5 44.9 51.9 53.4 17.9 15.3 22.6 21.5 56.2 57.2 49.4 47.5 74.5 90.6',\n",
              " 'Task Train Development Test Natural Questions TriviaQA WebQuestions CuratedTrec Jeopardy Question Generation MS-MARCO FEVER-3-way FEVER-2-way 79169 78786 3418 635 97392 153726 145450 96966 8758 8838 362 134 13714 12468 10000 6666 3611 11314 2033 635 26849 101093* 10000 6666']"
            ]
          },
          "metadata": {},
          "execution_count": 13
        }
      ]
    },
    {
      "cell_type": "code",
      "source": [
        "Text=[]\n",
        "for element in raw_pdf_elements2:\n",
        "  if \"unstructured.documents.elements.NarrativeText\" in str(type(element)):\n",
        "            Text.append(str(element))"
      ],
      "metadata": {
        "id": "da60xGmUfBLY"
      },
      "execution_count": null,
      "outputs": []
    },
    {
      "cell_type": "code",
      "source": [
        "Text"
      ],
      "metadata": {
        "colab": {
          "base_uri": "https://localhost:8080/"
        },
        "id": "7TGpgQqdfdF1",
        "outputId": "5698b09a-73cf-4625-bf7d-2d7f54a1a472"
      },
      "execution_count": null,
      "outputs": [
        {
          "output_type": "execute_result",
          "data": {
            "text/plain": [
              "[\"Patrick Lewis't, Ethan Perez*,\",\n",
              " 'Aleksandra Piktus†, Fabio Petroni†, Vladimir Karpukhin†, Naman Goyal†, Heinrich Küttler†,',\n",
              " 'Mike Lewis†, Wen-tau Yih†, Tim Rocktäschel†‡, Sebastian Riedel†‡, Douwe Kiela†',\n",
              " 'Large pre-trained language models have been shown to store factual knowledge in their parameters, and achieve state-of-the-art results when ﬁne-tuned on down- stream NLP tasks. However, their ability to access and precisely manipulate knowl- edge is still limited, and hence on knowledge-intensive tasks, their performance lags behind task-speciﬁc architectures. Additionally, providing provenance for their decisions and updating their world knowledge remain open research problems. Pre- trained models with a differentiable access mechanism to explicit non-parametric memory have so far been only investigated for extractive downstream tasks. We explore a general-purpose ﬁne-tuning recipe for retrieval-augmented generation (RAG) — models which combine pre-trained parametric and non-parametric mem- ory for language generation. We introduce RAG models where the parametric memory is a pre-trained seq2seq model and the non-parametric memory is a dense vector index of Wikipedia, accessed with a pre-trained neural retriever. We com- pare two RAG formulations, one which conditions on the same retrieved passages across the whole generated sequence, and another which can use different passages per token. We ﬁne-tune and evaluate our models on a wide range of knowledge- intensive NLP tasks and set the state of the art on three open domain QA tasks, outperforming parametric seq2seq models and task-speciﬁc retrieve-and-extract architectures. For language generation tasks, we ﬁnd that RAG models generate more speciﬁc, diverse and factual language than a state-of-the-art parametric-only seq2seq baseline.',\n",
              " 'Pre-trained neural language models have been shown to learn a substantial amount of in-depth knowl- edge from data [47]. They can do so without any access to an external memory, as a parameterized implicit knowledge base [51, 52]. While this development is exciting, such models do have down- sides: They cannot easily expand or revise their memory, can’t straightforwardly provide insight into their predictions, and may produce “hallucinations” [38]. Hybrid models that combine parametric memory with non-parametric (i.e., retrieval-based) memories [20, 26, 48] can address some of these issues because knowledge can be directly revised and expanded, and accessed knowledge can be inspected and interpreted. REALM [20] and ORQA [31], two recently introduced models that combine masked language models [8] with a differentiable retriever, have shown promising results,',\n",
              " 'Figure 1: Overview of our approach. We combine a pre-trained retriever (Query Encoder + Document Index) with a pre-trained seq2seq model (Generator) and ﬁne-tune end-to-end. For query x, we use Maximum Inner Product Search (MIPS) to ﬁnd the top-K documents zi. For ﬁnal prediction y, we treat z as a latent variable and marginalize over seq2seq predictions given different documents.',\n",
              " 'but have only explored open-domain extractive question answering. Here, we bring hybrid parametric and non-parametric memory to the “workhorse of NLP,” i.e. sequence-to-sequence (seq2seq) models.',\n",
              " 'We endow pre-trained, parametric-memory generation models with a non-parametric memory through a general-purpose ﬁne-tuning approach which we refer to as retrieval-augmented generation (RAG). We build RAG models where the parametric memory is a pre-trained seq2seq transformer, and the non-parametric memory is a dense vector index of Wikipedia, accessed with a pre-trained neural retriever. We combine these components in a probabilistic model trained end-to-end (Fig. 1). The retriever (Dense Passage Retriever [26], henceforth DPR) provides latent documents conditioned on the input, and the seq2seq model (BART [32]) then conditions on these latent documents together with the input to generate the output. We marginalize the latent documents with a top-K approximation, either on a per-output basis (assuming the same document is responsible for all tokens) or a per-token basis (where different documents are responsible for different tokens). Like T5 [51] or BART, RAG can be ﬁne-tuned on any seq2seq task, whereby both the generator and retriever are jointly learned.',\n",
              " 'There has been extensive previous work proposing architectures to enrich systems with non-parametric memory which are trained from scratch for speciﬁc tasks, e.g. memory networks [64, 55], stack- augmented networks [25] and memory layers [30]. In contrast, we explore a setting where both parametric and non-parametric memory components are pre-trained and pre-loaded with extensive knowledge. Crucially, by using pre-trained access mechanisms, the ability to access knowledge is present without additional training.',\n",
              " 'Our results highlight the beneﬁts of combining parametric and non-parametric memory with genera- tion for knowledge-intensive tasks—tasks that humans could not reasonably be expected to perform without access to an external knowledge source. Our RAG models achieve state-of-the-art results on open Natural Questions [29], WebQuestions [3] and CuratedTrec [2] and strongly outperform recent approaches that use specialised pre-training objectives on TriviaQA [24]. Despite these being extractive tasks, we ﬁnd that unconstrained generation outperforms previous extractive approaches. For knowledge-intensive generation, we experiment with MS-MARCO [1] and Jeopardy question generation, and we ﬁnd that our models generate responses that are more factual, speciﬁc, and diverse than a BART baseline. For FEVER [56] fact veriﬁcation, we achieve results within 4.3% of state-of-the-art pipeline models which use strong retrieval supervision. Finally, we demonstrate that the non-parametric memory can be replaced to update the models’ knowledge as the world changes.1',\n",
              " 'We explore RAG models, which use the input sequence x to retrieve text documents z and use them as additional context when generating the target sequence y. As shown in Figure 1, our models leverage two components: (i) a retriever pη(z|x) with parameters η that returns (top-K truncated) distributions over text passages given a query x and (ii) a generator pθ(yi|x, z, y1:i−1) parametrized',\n",
              " '1Code to run experiments with RAG has been open-sourced as part of the HuggingFace Transform- ers Library [66] and can be found at https://github.com/huggingface/transformers/blob/master/ examples/rag/. An interactive demo of RAG models can be found at https://huggingface.co/rag/',\n",
              " 'by θ that generates a current token based on a context of the previous i − 1 tokens y1:i−1, the original input x and a retrieved passage z.',\n",
              " 'To train the retriever and generator end-to-end, we treat the retrieved document as a latent variable. We propose two models that marginalize over the latent documents in different ways to produce a distribution over generated text. In one approach, RAG-Sequence, the model uses the same document to predict each target token. The second approach, RAG-Token, can predict each target token based on a different document. In the following, we formally introduce both models and then describe the pη and pθ components, as well as the training and decoding procedure.',\n",
              " 'RAG-Sequence Model The RAG-Sequence model uses the same retrieved document to generate the complete sequence. Technically, it treats the retrieved document as a single latent variable that is marginalized to get the seq2seq probability p(y|x) via a top-K approximation. Concretely, the top K documents are retrieved using the retriever, and the generator produces the output sequence probability for each document, which are then marginalized,',\n",
              " 'RAG-Token Model In the RAG-Token model we can draw a different latent document for each target token and marginalize accordingly. This allows the generator to choose content from several documents when producing an answer. Concretely, the top K documents are retrieved using the retriever, and then the generator produces a distribution for the next output token for each document, before marginalizing, and repeating the process with the following output token, Formally, we deﬁne:',\n",
              " 'Finally, we note that RAG can be used for sequence classiﬁcation tasks by considering the target class as a target sequence of length one, in which case RAG-Sequence and RAG-Token are equivalent.',\n",
              " 'The retrieval component pη(z|x) is based on DPR [26]. DPR follows a bi-encoder architecture:',\n",
              " 'where d(z) is a dense representation of a document produced by a BERTBASE document encoder [8], and q(x) a query representation produced by a query encoder, also based on BERTBASE. Calculating top-k(pη(·|x)), the list of k documents z with highest prior probability pη(z|x), is a Maximum Inner Product Search (MIPS) problem, which can be approximately solved in sub-linear time [23]. We use a pre-trained bi-encoder from DPR to initialize our retriever and to build the document index. This retriever was trained to retrieve documents which contain answers to TriviaQA [24] questions and Natural Questions [29]. We refer to the document index as the non-parametric memory.',\n",
              " 'The generator component pθ(yi|x, z, y1:i−1) could be modelled using any encoder-decoder. We use BART-large [32], a pre-trained seq2seq transformer [58] with 400M parameters. To combine the input x with the retrieved content z when generating from BART, we simply concatenate them. BART was pre-trained using a denoising objective and a variety of different noising functions. It has obtained state-of-the-art results on a diverse set of generation tasks and outperforms comparably-sized T5 models [32]. We refer to the BART generator parameters θ as the parametric memory henceforth.',\n",
              " 'We jointly train the retriever and generator components without any direct supervision on what document should be retrieved. Given a ﬁne-tuning training corpus of input/output pairs (xj, yj), we',\n",
              " 'minimize the negative marginal log-likelihood of each target, ar — log p(y;|a;) using stochastic gradient descent with Adam [28]. Updating the document encoder BERT, during training is costly as it requires the document index to be periodically updated as REALM does during pre-training [20]. We do not find this step necessary for strong performance, and keep the document encoder (and index) fixed, only fine-tuning the query encoder BERT, and the BART generator.',\n",
              " 'At test time, RAG-Sequence and RAG-Token require different ways to approximate arg maxy p(y|x).',\n",
              " 'RAG-Token The RAG-Token model can be seen as a standard, autoregressive seq2seq genera- tor with transition probability: pj (yi|z, yii—1) = zetop-k(p(-|2)) Pn (zil@)po(yil@, Zi, Y1e—1) To decode, we can plug Po(yi |x, y1i—1) into a standard beam decoder.',\n",
              " 'RAG-Sequence For RAG-Sequence, the likelihood p(y|x) does not break into a conventional per- token likelihood, hence we cannot solve it with a single beam search. Instead, we run beam search for each document z, scoring each hypothesis using pθ(yi|x, z, y1:i−1). This yields a set of hypotheses Y , some of which may not have appeared in the beams of all documents. To estimate the probability of an hypothesis y we run an additional forward pass for each document z for which y does not appear in the beam, multiply generator probability with pη(z|x) and then sum the probabilities across beams for the marginals. We refer to this decoding procedure as “Thorough Decoding.” For longer output sequences, |Y | can become large, requiring many forward passes. For more efﬁcient decoding, we can make a further approximation that pθ(y|x, zi) ≈ 0 where y was not generated during beam search from x, zi. This avoids the need to run additional forward passes once the candidate set Y has been generated. We refer to this decoding procedure as “Fast Decoding.”',\n",
              " 'We experiment with RAG in a wide range of knowledge-intensive tasks. For all experiments, we use a single Wikipedia dump for our non-parametric knowledge source. Following Lee et al. [31] and Karpukhin et al. [26], we use the December 2018 dump. Each Wikipedia article is split into disjoint 100-word chunks, to make a total of 21M documents. We use the document encoder to compute an embedding for each document, and build a single MIPS index using FAISS [23] with a Hierarchical Navigable Small World approximation for fast retrieval [37]. During training, we retrieve the top k documents for each query. We consider k ∈ {5, 10} for training and set k for test time using dev data. We now discuss experimental details for each task.',\n",
              " 'Open-domain question answering (QA) is an important real-world application and common testbed for knowledge-intensive tasks [20]. We treat questions and answers as input-output text pairs (x, y) and train RAG by directly minimizing the negative log-likelihood of answers. We compare RAG to the popular extractive QA paradigm [5, 7, 31, 26], where answers are extracted spans from retrieved documents, relying primarily on non-parametric knowledge. We also compare to “Closed-Book QA” approaches [52], which, like RAG, generate answers, but which do not exploit retrieval, instead relying purely on parametric knowledge. We consider four popular open-domain QA datasets: Natural Questions (NQ) [29], TriviaQA (TQA) [24]. WebQuestions (WQ) [3] and CuratedTrec (CT) [2]. As CT and WQ are small, we follow DPR [26] by initializing CT and WQ models with our NQ RAG model. We use the same train/dev/test splits as prior work [31, 26] and report Exact Match (EM) scores. For TQA, to compare with T5 [52], we also evaluate on the TQA Wiki test set.',\n",
              " 'RAG models can go beyond simple extractive QA and answer questions with free-form, abstractive text generation. To test RAG’s natural language generation (NLG) in a knowledge-intensive setting, we use the MSMARCO NLG task v2.1 [43]. The task consists of questions, ten gold passages retrieved from a search engine for each question, and a full sentence answer annotated from the retrieved passages. We do not use the supplied passages, only the questions and answers, to treat',\n",
              " 'MSMARCO as an open-domain abstractive QA task. MSMARCO has some questions that cannot be answered in a way that matches the reference answer without access to the gold passages, such as “What is the weather in Volcano, CA?” so performance will be lower without using gold passages. We also note that some MSMARCO questions cannot be answered using Wikipedia alone. Here, RAG can rely on parametric knowledge to generate reasonable responses.',\n",
              " 'To evaluate RAG’s generation abilities in a non-QA setting, we study open-domain question gen- eration. Rather than use questions from standard open-domain QA tasks, which typically consist of short, simple questions, we propose the more demanding task of generating Jeopardy questions. Jeopardy is an unusual format that consists of trying to guess an entity from a fact about that entity. For example, “The World Cup” is the answer to the question “In 1986 Mexico scored as the ﬁrst country to host this international sports competition twice.” As Jeopardy questions are precise, factual statements, generating Jeopardy questions conditioned on their answer entities constitutes a challenging knowledge-intensive generation task.',\n",
              " 'We use the splits from SearchQA [10], with 100K train, 14K dev, and 27K test examples. As this is a new task, we train a BART model for comparison. Following [67], we evaluate using the SQuAD-tuned Q-BLEU-1 metric [42]. Q-BLEU is a variant of BLEU with a higher weight for matching entities and has higher correlation with human judgment for question generation than standard metrics. We also perform two human evaluations, one to assess generation factuality, and one for speciﬁcity. We deﬁne factuality as whether a statement can be corroborated by trusted external sources, and speciﬁcity as high mutual dependence between the input and output [33]. We follow best practice and use pairwise comparative evaluation [34]. Evaluators are shown an answer and two generated questions, one from BART and one from RAG. They are then asked to pick one of four options—quuestion A is better, question B is better, both are good, or neither is good.',\n",
              " 'FEVER [56] requires classifying whether a natural language claim is supported or refuted by Wikipedia, or whether there is not enough information to decide. The task requires retrieving evidence from Wikipedia relating to the claim and then reasoning over this evidence to classify whether the claim is true, false, or unveriﬁable from Wikipedia alone. FEVER is a retrieval problem coupled with an challenging entailment reasoning task. It also provides an appropriate testbed for exploring the RAG models’ ability to handle classiﬁcation rather than generation. We map FEVER class labels (supports, refutes, or not enough info) to single output tokens and directly train with claim-class pairs. Crucially, unlike most other approaches to FEVER, we do not use supervision on retrieved evidence. In many real-world applications, retrieval supervision signals aren’t available, and models that do not require such supervision will be applicable to a wider range of tasks. We explore two variants: the standard 3-way classiﬁcation task (supports/refutes/not enough info) and the 2-way (supports/refutes) task studied in Thorne and Vlachos [57]. In both cases we report label accuracy.',\n",
              " 'Table 1 shows results for RAG along with state-of-the-art models. On all four open-domain QA tasks, RAG sets a new state of the art (only on the T5-comparable split for TQA). RAG combines the generation ﬂexibility of the “closed-book” (parametric only) approaches and the performance of \"open-book\" retrieval-based approaches. Unlike REALM and T5+SSM, RAG enjoys strong results without expensive, specialized “salient span masking” pre-training [20]. It is worth noting that RAG’s retriever is initialized using DPR’s retriever, which uses retrieval supervision on Natural Questions and TriviaQA. RAG compares favourably to the DPR QA system, which uses a BERT-based “cross- encoder” to re-rank documents, along with an extractive reader. RAG demonstrates that neither a re-ranker nor extractive reader is necessary for state-of-the-art performance.',\n",
              " 'There are several advantages to generating answers even when it is possible to extract them. Docu- ments with clues about the answer but do not contain the answer verbatim can still contribute towards a correct answer being generated, which is not possible with standard extractive approaches, leading',\n",
              " 'to more effective marginalization over documents. Furthermore, RAG can generate correct answers even when the correct answer is not in any retrieved document, achieving 11.8% accuracy in such cases for NQ, where an extractive model would score 0%.',\n",
              " 'As shown in Table 2, RAG-Sequence outperforms BART on Open MS-MARCO NLG by 2.6 Bleu points and 2.6 Rouge-L points. RAG approaches state-of-the-art model performance, which is impressive given that (i) those models access gold passages with speciﬁc information required to generate the reference answer , (ii) many questions are unanswerable without the gold passages, and (iii) not all questions are answerable from Wikipedia alone. Table 3 shows some generated answers from our models. Qualitatively, we ﬁnd that RAG models hallucinate less and generate factually correct text more often than BART. Later, we also show that RAG generations are more diverse than BART generations (see §4.5).',\n",
              " 'Table 2 shows that RAG-Token performs better than RAG-Sequence on Jeopardy question generation, with both models outperforming BART on Q-BLEU-1. 4 shows human evaluation results, over 452 pairs of generations from BART and RAG-Token. Evaluators indicated that BART was more factual than RAG in only 7.1% of cases, while RAG was more factual in 42.7% of cases, and both RAG and BART were factual in a further 17% of cases, clearly demonstrating the effectiveness of RAG on the task over a state-of-the-art generation model. Evaluators also ﬁnd RAG generations to be more speciﬁc by a large margin. Table 3 shows typical generations from each model.',\n",
              " 'Jeopardy questions often contain two separate pieces of information, and RAG-Token may perform best because it can generate responses that combine content from several documents. Figure 2 shows an example. When generating “Sun”, the posterior is high for document 2 which mentions “The Sun Also Rises”. Similarly, document 1 dominates the posterior when “A Farewell to Arms” is generated. Intriguingly, after the ﬁrst token of each book is generated, the document posterior ﬂattens. This observation suggests that the generator can complete the titles without depending on speciﬁc documents. In other words, the model’s parametric knowledge is sufﬁcient to complete the titles. We ﬁnd evidence for this hypothesis by feeding the BART-only baseline with the partial decoding \"The Sun. BART completes the generation \"The Sun Also Rises\" is a novel by this author of \"The Sun Also Rises\" indicating the title \"The Sun Also Rises\" is stored in BART’s parameters. Similarly, BART will complete the partial decoding \"The Sun Also Rises\" is a novel by this author of \"A with \"The Sun Also Rises\" is a novel by this author of \"A Farewell to Arms\". This example shows how parametric and non-parametric memories work together—the non-parametric component helps to guide the generation, drawing out speciﬁc knowledge stored in the parametric memory.',\n",
              " 'Table 2 shows our results on FEVER. For 3-way classiﬁcation, RAG scores are within 4.3% of state-of-the-art models, which are complex pipeline systems with domain-speciﬁc architectures and substantial engineering, trained using intermediate retrieval supervision, which RAG does not require.',\n",
              " 'Figure 2: RAG-Token document posterior p(zi|x, yi, y−i) for each generated token for input “Hem- ingway\" for Jeopardy generation with 5 retrieved documents. The posterior for document 1 is high when generating “A Farewell to Arms\" and for document 2 when generating “The Sun Also Rises\".',\n",
              " 'Table 3: Examples from generation tasks. RAG models generate more speciﬁc and factually accurate responses. ‘?’ indicates factually incorrect responses, * indicates partially correct responses.',\n",
              " 'For 2-way classiﬁcation, we compare against Thorne and Vlachos [57], who train RoBERTa [35] to classify the claim as true or false given the gold evidence sentence. RAG achieves an accuracy within 2.7% of this model, despite being supplied with only the claim and retrieving its own evidence. We also analyze whether documents retrieved by RAG correspond to documents annotated as gold evidence in FEVER. We calculate the overlap in article titles between the top k documents retrieved by RAG and gold evidence annotations. We ﬁnd that the top retrieved document is from a gold article in 71% of cases, and a gold article is present in the top 10 retrieved articles in 90% of cases.',\n",
              " 'Generation Diversity Section 4.3 shows that RAG models are more factual and speciﬁc than BART for Jeopardy question generation. Following recent work on diversity-promoting decoding [33, 59, 39], we also investigate generation diversity by calculating the ratio of distinct ngrams to total ngrams generated by different models. Table 5 shows that RAG-Sequence’s generations are more diverse than RAG-Token’s, and both are signiﬁcantly more diverse than BART without needing any diversity-promoting decoding.',\n",
              " 'Retrieval Ablations A key feature of RAG is learning to retrieve relevant information for the task. To assess the effectiveness of the retrieval mechanism, we run ablations where we freeze the retriever during training. As shown in Table 6, learned retrieval improves results for all tasks.',\n",
              " 'We compare RAG’s dense retriever to a word overlap-based BM25 retriever [53]. Here, we replace RAG’s retriever with a ﬁxed BM25 system, and use BM25 retrieval scores as logits when calculating p(z|x). Table 6 shows the results. For FEVER, BM25 performs best, perhaps since FEVER claims are heavily entity-centric and thus well-suited for word overlap-based retrieval. Differentiable retrieval improves results on all other tasks, especially for Open-Domain QA, where it is crucial.',\n",
              " 'Index hot-swapping An advantage of non-parametric memory models like RAG is that knowledge can be easily updated at test time. Parametric-only models like T5 or BART need further training to update their behavior as the world changes. To demonstrate, we build an index using the DrQA [5] Wikipedia dump from December 2016 and compare outputs from RAG using this index to the newer index from our main results (December 2018). We prepare a list of 82 world leaders who had changed',\n",
              " 'Table 4: Human assessments for the Jeopardy Question Generation Task.',\n",
              " 'between these dates and use a template “Who is {position}?” (e.g. “Who is the President of Peru?”) to query our NQ RAG model with each index. RAG answers 70% correctly using the 2016 index for 2016 world leaders and 68% using the 2018 index for 2018 world leaders. Accuracy with mismatched indices is low (12% with the 2018 index and 2016 leaders, 4% with the 2016 index and 2018 leaders). This shows we can update RAG’s world knowledge by simply replacing its non-parametric memory.',\n",
              " 'Effect of Retrieving more documents Models are trained with either 5 or 10 retrieved latent documents, and we do not observe signiﬁcant differences in performance between them. We have the ﬂexibility to adjust the number of retrieved documents at test time, which can affect performance and runtime. Figure 3 (left) shows that retrieving more documents at test time monotonically improves Open-domain QA results for RAG-Sequence, but performance peaks for RAG-Token at 10 retrieved documents. Figure 3 (right) shows that retrieving more documents leads to higher Rouge-L for RAG-Token at the expense of Bleu-1, but the effect is less pronounced for RAG-Sequence.',\n",
              " 'Single-Task Retrieval Prior work has shown that retrieval improves performance across a variety of NLP tasks when considered in isolation. Such tasks include open-domain question answering [5, 29], fact checking [56], fact completion [48], long-form question answering [12], Wikipedia article generation [36], dialogue [41, 65, 9, 13], translation [17], and language modeling [19, 27]. Our work uniﬁes previous successes in incorporating retrieval into individual tasks, showing that a single retrieval-based architecture is capable of achieving strong performance across several tasks.',\n",
              " 'General-Purpose Architectures for NLP Prior work on general-purpose architectures for NLP tasks has shown great success without the use of retrieval. A single, pre-trained language model has been shown to achieve strong performance on various classiﬁcation tasks in the GLUE bench- marks [60, 61] after ﬁne-tuning [49, 8]. GPT-2 [50] later showed that a single, left-to-right, pre-trained language model could achieve strong performance across both discriminative and generative tasks. For further improvement, BART [32] and T5 [51, 52] propose a single, pre-trained encoder-decoder model that leverages bi-directional attention to achieve stronger performance on discriminative and generative tasks. Our work aims to expand the space of possible tasks with a single, uniﬁed architecture, by learning a retrieval module to augment pre-trained, generative language models.',\n",
              " 'Learned Retrieval There is signiﬁcant work on learning to retrieve documents in information retrieval, more recently with pre-trained, neural language models [44, 26] similar to ours. Some work optimizes the retrieval module to aid in a speciﬁc, downstream task such as question answering, using search [46], reinforcement learning [6, 63, 62], or a latent variable approach [31, 20] as in our work. These successes leverage different retrieval-based architectures and optimization techniques to achieve strong performance on a single task, while we show that a single retrieval-based architecture can be ﬁne-tuned for strong performance on a variety of tasks.',\n",
              " 'Memory-based Architectures Our document index can be seen as a large external memory for neural networks to attend to, analogous to memory networks [64, 55]. Concurrent work [14] learns to retrieve a trained embedding for each entity in the input, rather than to retrieve raw text as in our work. Other work improves the ability of dialog models to generate factual text by attending over fact embeddings [15, 13]. A key feature of our memory is that it is comprised of raw text rather distributed representations, which makes the memory both (i) human-readable, lending a form of interpretability to our model, and (ii) human-writable, enabling us to dynamically update the model’s memory by editing the document index. This approach has also been used in knowledge-intensive dialog, where generators have been conditioned on retrieved text directly, albeit obtained via TF-IDF rather than end-to-end learnt retrieval [9].',\n",
              " 'Retrieve-and-Edit approaches Our method shares some similarities with retrieve-and-edit style approaches, where a similar training input-output pair is retrieved for a given input, and then edited to provide a ﬁnal output. These approaches have proved successful in a number of domains including Machine Translation [18, 22] and Semantic Parsing [21]. Our approach does have several differences, including less of emphasis on lightly editing a retrieved item, but on aggregating content from several pieces of retrieved content, as well as learning latent retrieval, and retrieving evidence documents rather than related training pairs. This said, RAG techniques may work well in these settings, and could represent promising future work.',\n",
              " 'In this work, we presented hybrid generation models with access to parametric and non-parametric memory. We showed that our RAG models obtain state of the art results on open-domain QA. We found that people prefer RAG’s generation over purely parametric BART, ﬁnding RAG more factual and speciﬁc. We conducted an thorough investigation of the learned retrieval component, validating its effectiveness, and we illustrated how the retrieval index can be hot-swapped to update the model without requiring any retraining. In future work, it may be fruitful to investigate if the two components can be jointly pre-trained from scratch, either with a denoising objective similar to BART or some another objective. Our work opens up new research directions on how parametric and non-parametric memories interact and how to most effectively combine them, showing promise in being applied to a wide variety of NLP tasks.',\n",
              " 'This work offers several positive societal beneﬁts over previous work: the fact that it is more strongly grounded in real factual knowledge (in this case Wikipedia) makes it “hallucinate” less with generations that are more factual, and offers more control and interpretability. RAG could be employed in a wide variety of scenarios with direct beneﬁt to society, for example by endowing it with a medical index and asking it open-domain questions on that topic, or by helping people be more effective at their jobs.',\n",
              " 'With these advantages also come potential downsides: Wikipedia, or any potential external knowledge source, will probably never be entirely factual and completely devoid of bias. Since RAG can be employed as a language model, similar concerns as for GPT-2 [50] are valid here, although arguably to a lesser extent, including that it might be used to generate abuse, faked or misleading content in the news or on social media; to impersonate others; or to automate the production of spam/phishing content [54]. Advanced language models may also lead to the automation of various jobs in the coming decades [16]. In order to mitigate these risks, AI systems could be employed to ﬁght against misleading content and automated spam/phishing.',\n",
              " 'The authors would like to thank the reviewers for their thoughtful and constructive feedback on this paper, as well as HuggingFace for their help in open-sourcing code to run RAG models. The authors would also like to thank Kyunghyun Cho and Sewon Min for productive discussions and advice. EP thanks supports from the NSF Graduate Research Fellowship. PL is supported by the FAIR PhD program.',\n",
              " 'for Computational Linguistics, pages 6086–6096, Florence, Italy, July 2019. Association for Computational Linguistics. doi: 10.18653/v1/P19-1612. URL https://www.aclweb.org/ anthology/P19-1612.',\n",
              " 'approaches 2016 co-located with the 30th Annual Conference on Neural Information Processing Systems (NIPS 2016), Barcelona, Spain, December 9, 2016, volume 1773 of CEUR Workshop Proceedings. CEUR-WS.org, 2016. URL http://ceur-ws.org/Vol-1773/CoCoNIPS_ 2016_paper9.pdf.',\n",
              " 'For Open-domain QA we report test numbers using 15 retrieved documents for RAG-Token models. For RAG-Sequence models, we report test results using 50 retrieved documents, and we use the Thorough Decoding approach since answers are generally short. We use greedy decoding for QA as we did not ﬁnd beam search improved results. For Open-MSMarco and Jeopardy question generation, we report test numbers using ten retrieved documents for both RAG-Token and RAG-Sequence, and we also train a BART-large model as a baseline. We use a beam size of four, and use the Fast Decoding approach for RAG-Sequence models, as Thorough Decoding did not improve performance.',\n",
              " 'Figure 4: Annotation interface for human evaluation of factuality. A pop-out for detailed instructions and a worked example appear when clicking \"view tool guide\".',\n",
              " 'Figure 4 shows the user interface for human evaluation. To avoid any biases for screen position, which model corresponded to sentence A and sentence B was randomly selected for each example. Annotators were encouraged to research the topic using the internet, and were given detailed instruc- tions and worked examples in a full instructions tab. We included some gold sentences in order to assess the accuracy of the annotators. Two annotators did not perform well on these examples and their annotations were removed from the results.',\n",
              " 'We train all RAG models and BART baselines using Fairseq [45].2 We train with mixed precision ﬂoating point arithmetic [40], distributing training across 8, 32GB NVIDIA V100 GPUs, though training and inference can be run on one GPU. We ﬁnd that doing Maximum Inner Product Search with FAISS is sufﬁciently fast on CPU, so we store document index vectors on CPU, requiring ∼ 100 GB of CPU memory for all of Wikipedia. After submission, We have ported our code to HuggingFace Transformers [66]3, which achieves equivalent performance to the previous version but is a cleaner and easier to use implementation. This version is also open-sourced. We also compress the document index using FAISS’s compression tools, reducing the CPU memory requirement to 36GB. Scripts to run experiments with RAG can be found at https://github.com/huggingface/transformers/ blob/master/examples/rag/README.md and an interactive demo of a RAG model can be found at https://huggingface.co/rag/',\n",
              " '2https://github.com/pytorch/fairseq 3https://github.com/huggingface/transformers',\n",
              " 'For open-domain QA, multiple answer annotations are often available for a given question. These answer annotations are exploited by extractive models during training as typically all the answer annotations are used to ﬁnd matches within documents when preparing training data. For RAG, we also make use of multiple annotation examples for Natural Questions and WebQuestions by training the model with each (q, a) pair separately, leading to a small increase in accuracy. For TriviaQA, there are often many valid answers to a given question, some of which are not suitable training targets, such as emoji or spelling variants. For TriviaQA, we ﬁlter out answer candidates if they do not occur in top 1000 documents for the query.',\n",
              " 'CuratedTrec preprocessing The answers for CuratedTrec are given in the form of regular expres- sions, which has been suggested as a reason why it is unsuitable for answer-generation models [20]. To overcome this, we use a pre-processing step where we ﬁrst retrieve the top 1000 documents for each query, and use the answer that most frequently matches the regex pattern as the supervision target. If no matches are found, we resort to a simple heuristic: generate all possible permutations for each regex, replacing non-deterministic symbols in the regex nested tree structure with a whitespace.',\n",
              " 'TriviaQA Evaluation setups The open-domain QA community customarily uses public develop- ment datasets as test datasets, as test data for QA datasets is often restricted and dedicated to reading compehension purposes. We report our results using the datasets splits used in DPR [26], which are consistent with common practice in Open-domain QA. For TriviaQA, this test dataset is the public TriviaQA Web Development split. Roberts et al. [52] used the TriviaQA ofﬁcial Wikipedia test set instead. Févry et al. [14] follow this convention in order to compare with Roberts et al. [52] (See appendix of [14]). We report results on both test sets to enable fair comparison to both approaches. We ﬁnd that our performance is much higher using the ofﬁcial Wiki test set, rather than the more conventional open-domain test set, which we attribute to the ofﬁcial Wiki test set questions being simpler to answer from Wikipedia.',\n",
              " 'For FEVER classiﬁcation, we follow the practice from [32], and ﬁrst re-generate the claim, and then classify using the representation of the ﬁnal hidden state, before ﬁnally marginalizing across documents to obtain the class probabilities. The FEVER task traditionally has two sub-tasks. The ﬁrst is to classify the claim as either \"Supported\", \"Refuted\" or \"Not Enough Info\", which is the task we explore in the main paper. FEVER’s other sub-task involves extracting sentences from Wikipedia as evidence supporting the classiﬁcation prediction. As FEVER uses a different Wikipedia dump to us, directly tackling this task is not straightforward. We hope to address this in future work.',\n",
              " 'We experimented with adding \"Null document\" mechanism to RAG, similar to REALM [20] in order to model cases where no useful information could be retrieved for a given input. Here, if k documents were retrieved, we would additionally \"retrieve\" an empty document and predict a logit for the null document, before marginalizing over k + 1 predictions. We explored modelling this null document logit by learning (i) a document embedding for the null document, (ii) a static learnt bias term, or (iii) a neural network to predict the logit. We did not ﬁnd that these improved performance, so in the interests of simplicity, we omit them. For Open MS-MARCO, where useful retrieved documents cannot always be retrieved, we observe that the model learns to always retrieve a particular set of documents for questions that are less likely to beneﬁt from retrieval, suggesting that null document mechanisms may not be necessary for RAG.',\n",
              " 'Our RAG models contain the trainable parameters for the BERT-base query and document encoder of DPR, with 110M parameters each (although we do not train the document encoder ourselves) and 406M trainable parameters from BART-large, 406M parameters, making a total of 626M trainable',\n",
              " 'parameters. The best performing \"closed-book\" (parametric only) open-domain QA model is T5-11B with 11 Billion trainable parameters. The T5 model with the closest number of parameters to our models is T5-large (770M parameters), which achieves a score of 28.9 EM on Natural Questions [52], substantially below the 44.5 that RAG-Sequence achieves, indicating that hybrid parametric/non- parametric models require far fewer trainable parameters for strong open-domain QA performance. The non-parametric memory index does not consist of trainable parameters, but does consists of 21M 728 dimensional vectors, consisting of 15.3B values. These can be easily be stored at 8-bit ﬂoating point precision to manage memory and disk footprints.',\n",
              " 'In preliminary experiments, we observed that for some tasks such as story generation [11], the retrieval component would “collapse” and learn to retrieve the same documents regardless of the input. In these cases, once retrieval had collapsed, the generator would learn to ignore the documents, and the RAG model would perform equivalently to BART. The collapse could be due to a less-explicit requirement for factual knowledge in some tasks, or the longer target sequences, which could result in less informative gradients for the retriever. Perez et al. [46] also found spurious retrieval results when optimizing a retrieval component in order to improve performance on downstream tasks.',\n",
              " 'The number of training, development and test datapoints in each of our datasets is shown in Table 7.']"
            ]
          },
          "metadata": {},
          "execution_count": 15
        }
      ]
    },
    {
      "cell_type": "code",
      "source": [
        "Image=[]\n",
        "for element in raw_pdf_elements2:\n",
        "  if \"unstructured.documents.elements.Image\" in str(type(element)):\n",
        "            Image.append(str(element))"
      ],
      "metadata": {
        "id": "qk39xLU1fGX_"
      },
      "execution_count": null,
      "outputs": []
    },
    {
      "cell_type": "code",
      "source": [
        "Image"
      ],
      "metadata": {
        "colab": {
          "base_uri": "https://localhost:8080/"
        },
        "id": "d-Ybd_fKfqE2",
        "outputId": "9dc82bbb-d36b-46a8-cf93-5c8ba1d10ced"
      },
      "execution_count": null,
      "outputs": [
        {
          "output_type": "execute_result",
          "data": {
            "text/plain": [
              "['@--- ee ee ee ee ee ee ee ee ee ee eee The middle ear includes End-to-End Backprop through q and pe the tympanic cavity and the three ossicles. (y) Define \"middle ear\" (x) Question Answering: Question Query Retriever py Document Generator pg “fnower Generation Index. (Non-Parametric) (Parametric) d(z) supports (y) Barack Obama was born in Hawaii. (x) q(x) Fact Verification: Fact Query Fact Verification: Label Generation The Divine This 14th century work Comedy (x) is divided into 3 Jeopardy Question Generation: Answer Query sections: \"Inferno\", \"purgatorio\" & \"Paradiso\" @) Question Generation',\n",
              " 'Document 1: his works are considered classics of American Doc 1 | | literature ... His wartime experiences formed the basis for his novel poe 2 | | “A Farewell to Arms” (1929) ... Doc 3 Document 2: ... artists of the 1920s “Lost Generation” expatriate Doe 4 community. His debut novel, \"The Sun Also Rises”, was published °° in 1926. Doc 5 & , es ee £ te os & ss . TES eS',\n",
              " 'Bee TT % 80 Porm Sa SRS nana ga g / Z fr = 70 2 | / 3 RAG TORRE 2 nf |! g <= RAG-Tok B-1 Ba Ze H=- RAGSeq RL a ; 3 Zs == RAG-Seq BA Q 50 > 50 ZO — reactor | & 3 soft === RAGSeq | Z 40 2 4s rr rr rr nr) rr nr K Retrieved Docs K Retrieved Docs K Retrieved Docs',\n",
              " 'View full instructions Which sentence is more factually true? View tool guide Select an option Subject : Hemingway eI Note: Some questions are Sentence Ais more 1 control questions. We require Sentence A : \"The Sun Also Rises\" is a novel by this author of \"A true good accuracy on our control Farewell to Arms\" Sentence Bis more 2 questions to accept true responses. Sentence B : This author of \"The Sun Also Rises\" was born in Both sentences are 8 Havana, Cuba, the son of Spanish immigrants ‘rue Indicate which one of the P a following sentences is more Both sentences are factually true with respect to completely untrue the subject. Using the internet to check whether the sentences are true is encouraged.']"
            ]
          },
          "metadata": {},
          "execution_count": 17
        }
      ]
    },
    {
      "cell_type": "code",
      "source": [
        "!pip install langchain_core\n",
        "!pip install langchain_openai\n",
        "!pip install langchain\n",
        "!pip install chromadb"
      ],
      "metadata": {
        "colab": {
          "base_uri": "https://localhost:8080/"
        },
        "id": "DRqY6KQ41yZx",
        "outputId": "28be7db9-3b23-4c77-f41f-8e54f975bcfb"
      },
      "execution_count": null,
      "outputs": [
        {
          "output_type": "stream",
          "name": "stdout",
          "text": [
            "Collecting langchain_core\n",
            "  Downloading langchain_core-0.1.46-py3-none-any.whl (299 kB)\n",
            "\u001b[?25l     \u001b[90m━━━━━━━━━━━━━━━━━━━━━━━━━━━━━━━━━━━━━━━━\u001b[0m \u001b[32m0.0/299.3 kB\u001b[0m \u001b[31m?\u001b[0m eta \u001b[36m-:--:--\u001b[0m\r\u001b[2K     \u001b[91m━━━━━━━━━━━━━━━━━━━━━━━\u001b[0m\u001b[90m╺\u001b[0m\u001b[90m━━━━━━━━━━━━━━━━\u001b[0m \u001b[32m174.1/299.3 kB\u001b[0m \u001b[31m5.0 MB/s\u001b[0m eta \u001b[36m0:00:01\u001b[0m\r\u001b[2K     \u001b[90m━━━━━━━━━━━━━━━━━━━━━━━━━━━━━━━━━━━━━━━━\u001b[0m \u001b[32m299.3/299.3 kB\u001b[0m \u001b[31m5.4 MB/s\u001b[0m eta \u001b[36m0:00:00\u001b[0m\n",
            "\u001b[?25hRequirement already satisfied: PyYAML>=5.3 in /usr/local/lib/python3.10/dist-packages (from langchain_core) (6.0.1)\n",
            "Collecting jsonpatch<2.0,>=1.33 (from langchain_core)\n",
            "  Downloading jsonpatch-1.33-py2.py3-none-any.whl (12 kB)\n",
            "Collecting langsmith<0.2.0,>=0.1.0 (from langchain_core)\n",
            "  Downloading langsmith-0.1.52-py3-none-any.whl (116 kB)\n",
            "\u001b[2K     \u001b[90m━━━━━━━━━━━━━━━━━━━━━━━━━━━━━━━━━━━━━━━━\u001b[0m \u001b[32m116.4/116.4 kB\u001b[0m \u001b[31m7.7 MB/s\u001b[0m eta \u001b[36m0:00:00\u001b[0m\n",
            "\u001b[?25hCollecting packaging<24.0,>=23.2 (from langchain_core)\n",
            "  Downloading packaging-23.2-py3-none-any.whl (53 kB)\n",
            "\u001b[2K     \u001b[90m━━━━━━━━━━━━━━━━━━━━━━━━━━━━━━━━━━━━━━━━\u001b[0m \u001b[32m53.0/53.0 kB\u001b[0m \u001b[31m5.5 MB/s\u001b[0m eta \u001b[36m0:00:00\u001b[0m\n",
            "\u001b[?25hRequirement already satisfied: pydantic<3,>=1 in /usr/local/lib/python3.10/dist-packages (from langchain_core) (2.7.0)\n",
            "Requirement already satisfied: tenacity<9.0.0,>=8.1.0 in /usr/local/lib/python3.10/dist-packages (from langchain_core) (8.2.3)\n",
            "Collecting jsonpointer>=1.9 (from jsonpatch<2.0,>=1.33->langchain_core)\n",
            "  Downloading jsonpointer-2.4-py2.py3-none-any.whl (7.8 kB)\n",
            "Collecting orjson<4.0.0,>=3.9.14 (from langsmith<0.2.0,>=0.1.0->langchain_core)\n",
            "  Downloading orjson-3.10.1-cp310-cp310-manylinux_2_17_x86_64.manylinux2014_x86_64.whl (141 kB)\n",
            "\u001b[2K     \u001b[90m━━━━━━━━━━━━━━━━━━━━━━━━━━━━━━━━━━━━━━━━\u001b[0m \u001b[32m141.1/141.1 kB\u001b[0m \u001b[31m8.6 MB/s\u001b[0m eta \u001b[36m0:00:00\u001b[0m\n",
            "\u001b[?25hRequirement already satisfied: requests<3,>=2 in /usr/local/lib/python3.10/dist-packages (from langsmith<0.2.0,>=0.1.0->langchain_core) (2.31.0)\n",
            "Requirement already satisfied: annotated-types>=0.4.0 in /usr/local/lib/python3.10/dist-packages (from pydantic<3,>=1->langchain_core) (0.6.0)\n",
            "Requirement already satisfied: pydantic-core==2.18.1 in /usr/local/lib/python3.10/dist-packages (from pydantic<3,>=1->langchain_core) (2.18.1)\n",
            "Requirement already satisfied: typing-extensions>=4.6.1 in /usr/local/lib/python3.10/dist-packages (from pydantic<3,>=1->langchain_core) (4.11.0)\n",
            "Requirement already satisfied: charset-normalizer<4,>=2 in /usr/local/lib/python3.10/dist-packages (from requests<3,>=2->langsmith<0.2.0,>=0.1.0->langchain_core) (3.3.2)\n",
            "Requirement already satisfied: idna<4,>=2.5 in /usr/local/lib/python3.10/dist-packages (from requests<3,>=2->langsmith<0.2.0,>=0.1.0->langchain_core) (3.7)\n",
            "Requirement already satisfied: urllib3<3,>=1.21.1 in /usr/local/lib/python3.10/dist-packages (from requests<3,>=2->langsmith<0.2.0,>=0.1.0->langchain_core) (2.0.7)\n",
            "Requirement already satisfied: certifi>=2017.4.17 in /usr/local/lib/python3.10/dist-packages (from requests<3,>=2->langsmith<0.2.0,>=0.1.0->langchain_core) (2024.2.2)\n",
            "Installing collected packages: packaging, orjson, jsonpointer, jsonpatch, langsmith, langchain_core\n",
            "  Attempting uninstall: packaging\n",
            "    Found existing installation: packaging 24.0\n",
            "    Uninstalling packaging-24.0:\n",
            "      Successfully uninstalled packaging-24.0\n",
            "Successfully installed jsonpatch-1.33 jsonpointer-2.4 langchain_core-0.1.46 langsmith-0.1.52 orjson-3.10.1 packaging-23.2\n",
            "Collecting langchain_openai\n",
            "  Downloading langchain_openai-0.1.4-py3-none-any.whl (33 kB)\n",
            "Requirement already satisfied: langchain-core<0.2.0,>=0.1.46 in /usr/local/lib/python3.10/dist-packages (from langchain_openai) (0.1.46)\n",
            "Collecting openai<2.0.0,>=1.10.0 (from langchain_openai)\n",
            "  Downloading openai-1.24.0-py3-none-any.whl (312 kB)\n",
            "\u001b[2K     \u001b[90m━━━━━━━━━━━━━━━━━━━━━━━━━━━━━━━━━━━━━━━━\u001b[0m \u001b[32m312.3/312.3 kB\u001b[0m \u001b[31m7.9 MB/s\u001b[0m eta \u001b[36m0:00:00\u001b[0m\n",
            "\u001b[?25hCollecting tiktoken<1,>=0.5.2 (from langchain_openai)\n",
            "  Downloading tiktoken-0.6.0-cp310-cp310-manylinux_2_17_x86_64.manylinux2014_x86_64.whl (1.8 MB)\n",
            "\u001b[2K     \u001b[90m━━━━━━━━━━━━━━━━━━━━━━━━━━━━━━━━━━━━━━━━\u001b[0m \u001b[32m1.8/1.8 MB\u001b[0m \u001b[31m12.7 MB/s\u001b[0m eta \u001b[36m0:00:00\u001b[0m\n",
            "\u001b[?25hRequirement already satisfied: PyYAML>=5.3 in /usr/local/lib/python3.10/dist-packages (from langchain-core<0.2.0,>=0.1.46->langchain_openai) (6.0.1)\n",
            "Requirement already satisfied: jsonpatch<2.0,>=1.33 in /usr/local/lib/python3.10/dist-packages (from langchain-core<0.2.0,>=0.1.46->langchain_openai) (1.33)\n",
            "Requirement already satisfied: langsmith<0.2.0,>=0.1.0 in /usr/local/lib/python3.10/dist-packages (from langchain-core<0.2.0,>=0.1.46->langchain_openai) (0.1.52)\n",
            "Requirement already satisfied: packaging<24.0,>=23.2 in /usr/local/lib/python3.10/dist-packages (from langchain-core<0.2.0,>=0.1.46->langchain_openai) (23.2)\n",
            "Requirement already satisfied: pydantic<3,>=1 in /usr/local/lib/python3.10/dist-packages (from langchain-core<0.2.0,>=0.1.46->langchain_openai) (2.7.0)\n",
            "Requirement already satisfied: tenacity<9.0.0,>=8.1.0 in /usr/local/lib/python3.10/dist-packages (from langchain-core<0.2.0,>=0.1.46->langchain_openai) (8.2.3)\n",
            "Requirement already satisfied: anyio<5,>=3.5.0 in /usr/local/lib/python3.10/dist-packages (from openai<2.0.0,>=1.10.0->langchain_openai) (3.7.1)\n",
            "Requirement already satisfied: distro<2,>=1.7.0 in /usr/lib/python3/dist-packages (from openai<2.0.0,>=1.10.0->langchain_openai) (1.7.0)\n",
            "Collecting httpx<1,>=0.23.0 (from openai<2.0.0,>=1.10.0->langchain_openai)\n",
            "  Downloading httpx-0.27.0-py3-none-any.whl (75 kB)\n",
            "\u001b[2K     \u001b[90m━━━━━━━━━━━━━━━━━━━━━━━━━━━━━━━━━━━━━━━━\u001b[0m \u001b[32m75.6/75.6 kB\u001b[0m \u001b[31m8.5 MB/s\u001b[0m eta \u001b[36m0:00:00\u001b[0m\n",
            "\u001b[?25hRequirement already satisfied: sniffio in /usr/local/lib/python3.10/dist-packages (from openai<2.0.0,>=1.10.0->langchain_openai) (1.3.1)\n",
            "Requirement already satisfied: tqdm>4 in /usr/local/lib/python3.10/dist-packages (from openai<2.0.0,>=1.10.0->langchain_openai) (4.66.2)\n",
            "Requirement already satisfied: typing-extensions<5,>=4.7 in /usr/local/lib/python3.10/dist-packages (from openai<2.0.0,>=1.10.0->langchain_openai) (4.11.0)\n",
            "Requirement already satisfied: regex>=2022.1.18 in /usr/local/lib/python3.10/dist-packages (from tiktoken<1,>=0.5.2->langchain_openai) (2023.12.25)\n",
            "Requirement already satisfied: requests>=2.26.0 in /usr/local/lib/python3.10/dist-packages (from tiktoken<1,>=0.5.2->langchain_openai) (2.31.0)\n",
            "Requirement already satisfied: idna>=2.8 in /usr/local/lib/python3.10/dist-packages (from anyio<5,>=3.5.0->openai<2.0.0,>=1.10.0->langchain_openai) (3.7)\n",
            "Requirement already satisfied: exceptiongroup in /usr/local/lib/python3.10/dist-packages (from anyio<5,>=3.5.0->openai<2.0.0,>=1.10.0->langchain_openai) (1.2.1)\n",
            "Requirement already satisfied: certifi in /usr/local/lib/python3.10/dist-packages (from httpx<1,>=0.23.0->openai<2.0.0,>=1.10.0->langchain_openai) (2024.2.2)\n",
            "Collecting httpcore==1.* (from httpx<1,>=0.23.0->openai<2.0.0,>=1.10.0->langchain_openai)\n",
            "  Downloading httpcore-1.0.5-py3-none-any.whl (77 kB)\n",
            "\u001b[2K     \u001b[90m━━━━━━━━━━━━━━━━━━━━━━━━━━━━━━━━━━━━━━━━\u001b[0m \u001b[32m77.9/77.9 kB\u001b[0m \u001b[31m9.3 MB/s\u001b[0m eta \u001b[36m0:00:00\u001b[0m\n",
            "\u001b[?25hCollecting h11<0.15,>=0.13 (from httpcore==1.*->httpx<1,>=0.23.0->openai<2.0.0,>=1.10.0->langchain_openai)\n",
            "  Downloading h11-0.14.0-py3-none-any.whl (58 kB)\n",
            "\u001b[2K     \u001b[90m━━━━━━━━━━━━━━━━━━━━━━━━━━━━━━━━━━━━━━━━\u001b[0m \u001b[32m58.3/58.3 kB\u001b[0m \u001b[31m6.7 MB/s\u001b[0m eta \u001b[36m0:00:00\u001b[0m\n",
            "\u001b[?25hRequirement already satisfied: jsonpointer>=1.9 in /usr/local/lib/python3.10/dist-packages (from jsonpatch<2.0,>=1.33->langchain-core<0.2.0,>=0.1.46->langchain_openai) (2.4)\n",
            "Requirement already satisfied: orjson<4.0.0,>=3.9.14 in /usr/local/lib/python3.10/dist-packages (from langsmith<0.2.0,>=0.1.0->langchain-core<0.2.0,>=0.1.46->langchain_openai) (3.10.1)\n",
            "Requirement already satisfied: annotated-types>=0.4.0 in /usr/local/lib/python3.10/dist-packages (from pydantic<3,>=1->langchain-core<0.2.0,>=0.1.46->langchain_openai) (0.6.0)\n",
            "Requirement already satisfied: pydantic-core==2.18.1 in /usr/local/lib/python3.10/dist-packages (from pydantic<3,>=1->langchain-core<0.2.0,>=0.1.46->langchain_openai) (2.18.1)\n",
            "Requirement already satisfied: charset-normalizer<4,>=2 in /usr/local/lib/python3.10/dist-packages (from requests>=2.26.0->tiktoken<1,>=0.5.2->langchain_openai) (3.3.2)\n",
            "Requirement already satisfied: urllib3<3,>=1.21.1 in /usr/local/lib/python3.10/dist-packages (from requests>=2.26.0->tiktoken<1,>=0.5.2->langchain_openai) (2.0.7)\n",
            "Installing collected packages: h11, tiktoken, httpcore, httpx, openai, langchain_openai\n",
            "Successfully installed h11-0.14.0 httpcore-1.0.5 httpx-0.27.0 langchain_openai-0.1.4 openai-1.24.0 tiktoken-0.6.0\n",
            "Collecting langchain\n",
            "  Downloading langchain-0.1.16-py3-none-any.whl (817 kB)\n",
            "\u001b[2K     \u001b[90m━━━━━━━━━━━━━━━━━━━━━━━━━━━━━━━━━━━━━━━━\u001b[0m \u001b[32m817.7/817.7 kB\u001b[0m \u001b[31m8.0 MB/s\u001b[0m eta \u001b[36m0:00:00\u001b[0m\n",
            "\u001b[?25hRequirement already satisfied: PyYAML>=5.3 in /usr/local/lib/python3.10/dist-packages (from langchain) (6.0.1)\n",
            "Requirement already satisfied: SQLAlchemy<3,>=1.4 in /usr/local/lib/python3.10/dist-packages (from langchain) (2.0.29)\n",
            "Requirement already satisfied: aiohttp<4.0.0,>=3.8.3 in /usr/local/lib/python3.10/dist-packages (from langchain) (3.9.5)\n",
            "Requirement already satisfied: async-timeout<5.0.0,>=4.0.0 in /usr/local/lib/python3.10/dist-packages (from langchain) (4.0.3)\n",
            "Requirement already satisfied: dataclasses-json<0.7,>=0.5.7 in /usr/local/lib/python3.10/dist-packages (from langchain) (0.6.5)\n",
            "Requirement already satisfied: jsonpatch<2.0,>=1.33 in /usr/local/lib/python3.10/dist-packages (from langchain) (1.33)\n",
            "Collecting langchain-community<0.1,>=0.0.32 (from langchain)\n",
            "  Downloading langchain_community-0.0.34-py3-none-any.whl (1.9 MB)\n",
            "\u001b[2K     \u001b[90m━━━━━━━━━━━━━━━━━━━━━━━━━━━━━━━━━━━━━━━━\u001b[0m \u001b[32m1.9/1.9 MB\u001b[0m \u001b[31m14.1 MB/s\u001b[0m eta \u001b[36m0:00:00\u001b[0m\n",
            "\u001b[?25hRequirement already satisfied: langchain-core<0.2.0,>=0.1.42 in /usr/local/lib/python3.10/dist-packages (from langchain) (0.1.46)\n",
            "Collecting langchain-text-splitters<0.1,>=0.0.1 (from langchain)\n",
            "  Downloading langchain_text_splitters-0.0.1-py3-none-any.whl (21 kB)\n",
            "Requirement already satisfied: langsmith<0.2.0,>=0.1.17 in /usr/local/lib/python3.10/dist-packages (from langchain) (0.1.52)\n",
            "Requirement already satisfied: numpy<2,>=1 in /usr/local/lib/python3.10/dist-packages (from langchain) (1.25.2)\n",
            "Requirement already satisfied: pydantic<3,>=1 in /usr/local/lib/python3.10/dist-packages (from langchain) (2.7.0)\n",
            "Requirement already satisfied: requests<3,>=2 in /usr/local/lib/python3.10/dist-packages (from langchain) (2.31.0)\n",
            "Requirement already satisfied: tenacity<9.0.0,>=8.1.0 in /usr/local/lib/python3.10/dist-packages (from langchain) (8.2.3)\n",
            "Requirement already satisfied: aiosignal>=1.1.2 in /usr/local/lib/python3.10/dist-packages (from aiohttp<4.0.0,>=3.8.3->langchain) (1.3.1)\n",
            "Requirement already satisfied: attrs>=17.3.0 in /usr/local/lib/python3.10/dist-packages (from aiohttp<4.0.0,>=3.8.3->langchain) (23.2.0)\n",
            "Requirement already satisfied: frozenlist>=1.1.1 in /usr/local/lib/python3.10/dist-packages (from aiohttp<4.0.0,>=3.8.3->langchain) (1.4.1)\n",
            "Requirement already satisfied: multidict<7.0,>=4.5 in /usr/local/lib/python3.10/dist-packages (from aiohttp<4.0.0,>=3.8.3->langchain) (6.0.5)\n",
            "Requirement already satisfied: yarl<2.0,>=1.0 in /usr/local/lib/python3.10/dist-packages (from aiohttp<4.0.0,>=3.8.3->langchain) (1.9.4)\n",
            "Requirement already satisfied: marshmallow<4.0.0,>=3.18.0 in /usr/local/lib/python3.10/dist-packages (from dataclasses-json<0.7,>=0.5.7->langchain) (3.21.1)\n",
            "Requirement already satisfied: typing-inspect<1,>=0.4.0 in /usr/local/lib/python3.10/dist-packages (from dataclasses-json<0.7,>=0.5.7->langchain) (0.9.0)\n",
            "Requirement already satisfied: jsonpointer>=1.9 in /usr/local/lib/python3.10/dist-packages (from jsonpatch<2.0,>=1.33->langchain) (2.4)\n",
            "Requirement already satisfied: packaging<24.0,>=23.2 in /usr/local/lib/python3.10/dist-packages (from langchain-core<0.2.0,>=0.1.42->langchain) (23.2)\n",
            "Requirement already satisfied: orjson<4.0.0,>=3.9.14 in /usr/local/lib/python3.10/dist-packages (from langsmith<0.2.0,>=0.1.17->langchain) (3.10.1)\n",
            "Requirement already satisfied: annotated-types>=0.4.0 in /usr/local/lib/python3.10/dist-packages (from pydantic<3,>=1->langchain) (0.6.0)\n",
            "Requirement already satisfied: pydantic-core==2.18.1 in /usr/local/lib/python3.10/dist-packages (from pydantic<3,>=1->langchain) (2.18.1)\n",
            "Requirement already satisfied: typing-extensions>=4.6.1 in /usr/local/lib/python3.10/dist-packages (from pydantic<3,>=1->langchain) (4.11.0)\n",
            "Requirement already satisfied: charset-normalizer<4,>=2 in /usr/local/lib/python3.10/dist-packages (from requests<3,>=2->langchain) (3.3.2)\n",
            "Requirement already satisfied: idna<4,>=2.5 in /usr/local/lib/python3.10/dist-packages (from requests<3,>=2->langchain) (3.7)\n",
            "Requirement already satisfied: urllib3<3,>=1.21.1 in /usr/local/lib/python3.10/dist-packages (from requests<3,>=2->langchain) (2.0.7)\n",
            "Requirement already satisfied: certifi>=2017.4.17 in /usr/local/lib/python3.10/dist-packages (from requests<3,>=2->langchain) (2024.2.2)\n",
            "Requirement already satisfied: greenlet!=0.4.17 in /usr/local/lib/python3.10/dist-packages (from SQLAlchemy<3,>=1.4->langchain) (3.0.3)\n",
            "Requirement already satisfied: mypy-extensions>=0.3.0 in /usr/local/lib/python3.10/dist-packages (from typing-inspect<1,>=0.4.0->dataclasses-json<0.7,>=0.5.7->langchain) (1.0.0)\n",
            "Installing collected packages: langchain-text-splitters, langchain-community, langchain\n",
            "Successfully installed langchain-0.1.16 langchain-community-0.0.34 langchain-text-splitters-0.0.1\n",
            "Collecting chromadb\n",
            "  Downloading chromadb-0.5.0-py3-none-any.whl (526 kB)\n",
            "\u001b[2K     \u001b[90m━━━━━━━━━━━━━━━━━━━━━━━━━━━━━━━━━━━━━━━━\u001b[0m \u001b[32m526.8/526.8 kB\u001b[0m \u001b[31m6.1 MB/s\u001b[0m eta \u001b[36m0:00:00\u001b[0m\n",
            "\u001b[?25hRequirement already satisfied: build>=1.0.3 in /usr/local/lib/python3.10/dist-packages (from chromadb) (1.2.1)\n",
            "Requirement already satisfied: requests>=2.28 in /usr/local/lib/python3.10/dist-packages (from chromadb) (2.31.0)\n",
            "Requirement already satisfied: pydantic>=1.9 in /usr/local/lib/python3.10/dist-packages (from chromadb) (2.7.0)\n",
            "Collecting chroma-hnswlib==0.7.3 (from chromadb)\n",
            "  Downloading chroma_hnswlib-0.7.3-cp310-cp310-manylinux_2_17_x86_64.manylinux2014_x86_64.whl (2.4 MB)\n",
            "\u001b[2K     \u001b[90m━━━━━━━━━━━━━━━━━━━━━━━━━━━━━━━━━━━━━━━━\u001b[0m \u001b[32m2.4/2.4 MB\u001b[0m \u001b[31m13.9 MB/s\u001b[0m eta \u001b[36m0:00:00\u001b[0m\n",
            "\u001b[?25hCollecting fastapi>=0.95.2 (from chromadb)\n",
            "  Downloading fastapi-0.110.3-py3-none-any.whl (91 kB)\n",
            "\u001b[2K     \u001b[90m━━━━━━━━━━━━━━━━━━━━━━━━━━━━━━━━━━━━━━━━\u001b[0m \u001b[32m91.8/91.8 kB\u001b[0m \u001b[31m3.8 MB/s\u001b[0m eta \u001b[36m0:00:00\u001b[0m\n",
            "\u001b[?25hCollecting uvicorn[standard]>=0.18.3 (from chromadb)\n",
            "  Downloading uvicorn-0.29.0-py3-none-any.whl (60 kB)\n",
            "\u001b[2K     \u001b[90m━━━━━━━━━━━━━━━━━━━━━━━━━━━━━━━━━━━━━━━━\u001b[0m \u001b[32m60.8/60.8 kB\u001b[0m \u001b[31m8.0 MB/s\u001b[0m eta \u001b[36m0:00:00\u001b[0m\n",
            "\u001b[?25hRequirement already satisfied: numpy>=1.22.5 in /usr/local/lib/python3.10/dist-packages (from chromadb) (1.25.2)\n",
            "Collecting posthog>=2.4.0 (from chromadb)\n",
            "  Downloading posthog-3.5.0-py2.py3-none-any.whl (41 kB)\n",
            "\u001b[2K     \u001b[90m━━━━━━━━━━━━━━━━━━━━━━━━━━━━━━━━━━━━━━━━\u001b[0m \u001b[32m41.3/41.3 kB\u001b[0m \u001b[31m4.6 MB/s\u001b[0m eta \u001b[36m0:00:00\u001b[0m\n",
            "\u001b[?25hRequirement already satisfied: typing-extensions>=4.5.0 in /usr/local/lib/python3.10/dist-packages (from chromadb) (4.11.0)\n",
            "Requirement already satisfied: onnxruntime>=1.14.1 in /usr/local/lib/python3.10/dist-packages (from chromadb) (1.17.3)\n",
            "Collecting opentelemetry-api>=1.2.0 (from chromadb)\n",
            "  Downloading opentelemetry_api-1.24.0-py3-none-any.whl (60 kB)\n",
            "\u001b[2K     \u001b[90m━━━━━━━━━━━━━━━━━━━━━━━━━━━━━━━━━━━━━━━━\u001b[0m \u001b[32m60.1/60.1 kB\u001b[0m \u001b[31m7.2 MB/s\u001b[0m eta \u001b[36m0:00:00\u001b[0m\n",
            "\u001b[?25hCollecting opentelemetry-exporter-otlp-proto-grpc>=1.2.0 (from chromadb)\n",
            "  Downloading opentelemetry_exporter_otlp_proto_grpc-1.24.0-py3-none-any.whl (18 kB)\n",
            "Collecting opentelemetry-instrumentation-fastapi>=0.41b0 (from chromadb)\n",
            "  Downloading opentelemetry_instrumentation_fastapi-0.45b0-py3-none-any.whl (11 kB)\n",
            "Collecting opentelemetry-sdk>=1.2.0 (from chromadb)\n",
            "  Downloading opentelemetry_sdk-1.24.0-py3-none-any.whl (106 kB)\n",
            "\u001b[2K     \u001b[90m━━━━━━━━━━━━━━━━━━━━━━━━━━━━━━━━━━━━━━━━\u001b[0m \u001b[32m106.1/106.1 kB\u001b[0m \u001b[31m12.5 MB/s\u001b[0m eta \u001b[36m0:00:00\u001b[0m\n",
            "\u001b[?25hRequirement already satisfied: tokenizers>=0.13.2 in /usr/local/lib/python3.10/dist-packages (from chromadb) (0.19.1)\n",
            "Collecting pypika>=0.48.9 (from chromadb)\n",
            "  Downloading PyPika-0.48.9.tar.gz (67 kB)\n",
            "\u001b[2K     \u001b[90m━━━━━━━━━━━━━━━━━━━━━━━━━━━━━━━━━━━━━━━━\u001b[0m \u001b[32m67.3/67.3 kB\u001b[0m \u001b[31m6.2 MB/s\u001b[0m eta \u001b[36m0:00:00\u001b[0m\n",
            "\u001b[?25h  Installing build dependencies ... \u001b[?25l\u001b[?25hdone\n",
            "  Getting requirements to build wheel ... \u001b[?25l\u001b[?25hdone\n",
            "  Preparing metadata (pyproject.toml) ... \u001b[?25l\u001b[?25hdone\n",
            "Requirement already satisfied: tqdm>=4.65.0 in /usr/local/lib/python3.10/dist-packages (from chromadb) (4.66.2)\n",
            "Collecting overrides>=7.3.1 (from chromadb)\n",
            "  Downloading overrides-7.7.0-py3-none-any.whl (17 kB)\n",
            "Requirement already satisfied: importlib-resources in /usr/local/lib/python3.10/dist-packages (from chromadb) (6.4.0)\n",
            "Requirement already satisfied: grpcio>=1.58.0 in /usr/local/lib/python3.10/dist-packages (from chromadb) (1.62.2)\n",
            "Collecting bcrypt>=4.0.1 (from chromadb)\n",
            "  Downloading bcrypt-4.1.2-cp39-abi3-manylinux_2_28_x86_64.whl (698 kB)\n",
            "\u001b[2K     \u001b[90m━━━━━━━━━━━━━━━━━━━━━━━━━━━━━━━━━━━━━━━━\u001b[0m \u001b[32m698.9/698.9 kB\u001b[0m \u001b[31m18.9 MB/s\u001b[0m eta \u001b[36m0:00:00\u001b[0m\n",
            "\u001b[?25hRequirement already satisfied: typer>=0.9.0 in /usr/local/lib/python3.10/dist-packages (from chromadb) (0.9.4)\n",
            "Collecting kubernetes>=28.1.0 (from chromadb)\n",
            "  Downloading kubernetes-29.0.0-py2.py3-none-any.whl (1.6 MB)\n",
            "\u001b[2K     \u001b[90m━━━━━━━━━━━━━━━━━━━━━━━━━━━━━━━━━━━━━━━━\u001b[0m \u001b[32m1.6/1.6 MB\u001b[0m \u001b[31m23.4 MB/s\u001b[0m eta \u001b[36m0:00:00\u001b[0m\n",
            "\u001b[?25hRequirement already satisfied: tenacity>=8.2.3 in /usr/local/lib/python3.10/dist-packages (from chromadb) (8.2.3)\n",
            "Requirement already satisfied: PyYAML>=6.0.0 in /usr/local/lib/python3.10/dist-packages (from chromadb) (6.0.1)\n",
            "Collecting mmh3>=4.0.1 (from chromadb)\n",
            "  Downloading mmh3-4.1.0-cp310-cp310-manylinux_2_5_x86_64.manylinux1_x86_64.manylinux_2_17_x86_64.manylinux2014_x86_64.whl (67 kB)\n",
            "\u001b[2K     \u001b[90m━━━━━━━━━━━━━━━━━━━━━━━━━━━━━━━━━━━━━━━━\u001b[0m \u001b[32m67.6/67.6 kB\u001b[0m \u001b[31m7.9 MB/s\u001b[0m eta \u001b[36m0:00:00\u001b[0m\n",
            "\u001b[?25hRequirement already satisfied: orjson>=3.9.12 in /usr/local/lib/python3.10/dist-packages (from chromadb) (3.10.1)\n",
            "Requirement already satisfied: packaging>=19.1 in /usr/local/lib/python3.10/dist-packages (from build>=1.0.3->chromadb) (23.2)\n",
            "Requirement already satisfied: pyproject_hooks in /usr/local/lib/python3.10/dist-packages (from build>=1.0.3->chromadb) (1.0.0)\n",
            "Requirement already satisfied: tomli>=1.1.0 in /usr/local/lib/python3.10/dist-packages (from build>=1.0.3->chromadb) (2.0.1)\n",
            "Collecting starlette<0.38.0,>=0.37.2 (from fastapi>=0.95.2->chromadb)\n",
            "  Downloading starlette-0.37.2-py3-none-any.whl (71 kB)\n",
            "\u001b[2K     \u001b[90m━━━━━━━━━━━━━━━━━━━━━━━━━━━━━━━━━━━━━━━━\u001b[0m \u001b[32m71.9/71.9 kB\u001b[0m \u001b[31m9.0 MB/s\u001b[0m eta \u001b[36m0:00:00\u001b[0m\n",
            "\u001b[?25hRequirement already satisfied: certifi>=14.05.14 in /usr/local/lib/python3.10/dist-packages (from kubernetes>=28.1.0->chromadb) (2024.2.2)\n",
            "Requirement already satisfied: six>=1.9.0 in /usr/local/lib/python3.10/dist-packages (from kubernetes>=28.1.0->chromadb) (1.16.0)\n",
            "Requirement already satisfied: python-dateutil>=2.5.3 in /usr/local/lib/python3.10/dist-packages (from kubernetes>=28.1.0->chromadb) (2.8.2)\n",
            "Requirement already satisfied: google-auth>=1.0.1 in /usr/local/lib/python3.10/dist-packages (from kubernetes>=28.1.0->chromadb) (2.27.0)\n",
            "Requirement already satisfied: websocket-client!=0.40.0,!=0.41.*,!=0.42.*,>=0.32.0 in /usr/local/lib/python3.10/dist-packages (from kubernetes>=28.1.0->chromadb) (1.7.0)\n",
            "Requirement already satisfied: requests-oauthlib in /usr/local/lib/python3.10/dist-packages (from kubernetes>=28.1.0->chromadb) (1.3.1)\n",
            "Requirement already satisfied: oauthlib>=3.2.2 in /usr/local/lib/python3.10/dist-packages (from kubernetes>=28.1.0->chromadb) (3.2.2)\n",
            "Requirement already satisfied: urllib3>=1.24.2 in /usr/local/lib/python3.10/dist-packages (from kubernetes>=28.1.0->chromadb) (2.0.7)\n",
            "Requirement already satisfied: coloredlogs in /usr/local/lib/python3.10/dist-packages (from onnxruntime>=1.14.1->chromadb) (15.0.1)\n",
            "Requirement already satisfied: flatbuffers in /usr/local/lib/python3.10/dist-packages (from onnxruntime>=1.14.1->chromadb) (24.3.25)\n",
            "Requirement already satisfied: protobuf in /usr/local/lib/python3.10/dist-packages (from onnxruntime>=1.14.1->chromadb) (3.20.3)\n",
            "Requirement already satisfied: sympy in /usr/local/lib/python3.10/dist-packages (from onnxruntime>=1.14.1->chromadb) (1.12)\n",
            "Requirement already satisfied: deprecated>=1.2.6 in /usr/local/lib/python3.10/dist-packages (from opentelemetry-api>=1.2.0->chromadb) (1.2.14)\n",
            "Collecting importlib-metadata<=7.0,>=6.0 (from opentelemetry-api>=1.2.0->chromadb)\n",
            "  Downloading importlib_metadata-7.0.0-py3-none-any.whl (23 kB)\n",
            "Requirement already satisfied: googleapis-common-protos~=1.52 in /usr/local/lib/python3.10/dist-packages (from opentelemetry-exporter-otlp-proto-grpc>=1.2.0->chromadb) (1.63.0)\n",
            "Collecting opentelemetry-exporter-otlp-proto-common==1.24.0 (from opentelemetry-exporter-otlp-proto-grpc>=1.2.0->chromadb)\n",
            "  Downloading opentelemetry_exporter_otlp_proto_common-1.24.0-py3-none-any.whl (17 kB)\n",
            "Collecting opentelemetry-proto==1.24.0 (from opentelemetry-exporter-otlp-proto-grpc>=1.2.0->chromadb)\n",
            "  Downloading opentelemetry_proto-1.24.0-py3-none-any.whl (50 kB)\n",
            "\u001b[2K     \u001b[90m━━━━━━━━━━━━━━━━━━━━━━━━━━━━━━━━━━━━━━━━\u001b[0m \u001b[32m50.8/50.8 kB\u001b[0m \u001b[31m5.2 MB/s\u001b[0m eta \u001b[36m0:00:00\u001b[0m\n",
            "\u001b[?25hCollecting opentelemetry-instrumentation-asgi==0.45b0 (from opentelemetry-instrumentation-fastapi>=0.41b0->chromadb)\n",
            "  Downloading opentelemetry_instrumentation_asgi-0.45b0-py3-none-any.whl (14 kB)\n",
            "Collecting opentelemetry-instrumentation==0.45b0 (from opentelemetry-instrumentation-fastapi>=0.41b0->chromadb)\n",
            "  Downloading opentelemetry_instrumentation-0.45b0-py3-none-any.whl (28 kB)\n",
            "Collecting opentelemetry-semantic-conventions==0.45b0 (from opentelemetry-instrumentation-fastapi>=0.41b0->chromadb)\n",
            "  Downloading opentelemetry_semantic_conventions-0.45b0-py3-none-any.whl (36 kB)\n",
            "Collecting opentelemetry-util-http==0.45b0 (from opentelemetry-instrumentation-fastapi>=0.41b0->chromadb)\n",
            "  Downloading opentelemetry_util_http-0.45b0-py3-none-any.whl (6.9 kB)\n",
            "Requirement already satisfied: setuptools>=16.0 in /usr/local/lib/python3.10/dist-packages (from opentelemetry-instrumentation==0.45b0->opentelemetry-instrumentation-fastapi>=0.41b0->chromadb) (67.7.2)\n",
            "Requirement already satisfied: wrapt<2.0.0,>=1.0.0 in /usr/local/lib/python3.10/dist-packages (from opentelemetry-instrumentation==0.45b0->opentelemetry-instrumentation-fastapi>=0.41b0->chromadb) (1.14.1)\n",
            "Collecting asgiref~=3.0 (from opentelemetry-instrumentation-asgi==0.45b0->opentelemetry-instrumentation-fastapi>=0.41b0->chromadb)\n",
            "  Downloading asgiref-3.8.1-py3-none-any.whl (23 kB)\n",
            "Collecting monotonic>=1.5 (from posthog>=2.4.0->chromadb)\n",
            "  Downloading monotonic-1.6-py2.py3-none-any.whl (8.2 kB)\n",
            "Requirement already satisfied: backoff>=1.10.0 in /usr/local/lib/python3.10/dist-packages (from posthog>=2.4.0->chromadb) (2.2.1)\n",
            "Requirement already satisfied: annotated-types>=0.4.0 in /usr/local/lib/python3.10/dist-packages (from pydantic>=1.9->chromadb) (0.6.0)\n",
            "Requirement already satisfied: pydantic-core==2.18.1 in /usr/local/lib/python3.10/dist-packages (from pydantic>=1.9->chromadb) (2.18.1)\n",
            "Requirement already satisfied: charset-normalizer<4,>=2 in /usr/local/lib/python3.10/dist-packages (from requests>=2.28->chromadb) (3.3.2)\n",
            "Requirement already satisfied: idna<4,>=2.5 in /usr/local/lib/python3.10/dist-packages (from requests>=2.28->chromadb) (3.7)\n",
            "Requirement already satisfied: huggingface-hub<1.0,>=0.16.4 in /usr/local/lib/python3.10/dist-packages (from tokenizers>=0.13.2->chromadb) (0.20.3)\n",
            "Requirement already satisfied: click<9.0.0,>=7.1.1 in /usr/local/lib/python3.10/dist-packages (from typer>=0.9.0->chromadb) (8.1.7)\n",
            "Requirement already satisfied: h11>=0.8 in /usr/local/lib/python3.10/dist-packages (from uvicorn[standard]>=0.18.3->chromadb) (0.14.0)\n",
            "Collecting httptools>=0.5.0 (from uvicorn[standard]>=0.18.3->chromadb)\n",
            "  Downloading httptools-0.6.1-cp310-cp310-manylinux_2_5_x86_64.manylinux1_x86_64.manylinux_2_17_x86_64.manylinux2014_x86_64.whl (341 kB)\n",
            "\u001b[2K     \u001b[90m━━━━━━━━━━━━━━━━━━━━━━━━━━━━━━━━━━━━━━━━\u001b[0m \u001b[32m341.4/341.4 kB\u001b[0m \u001b[31m29.6 MB/s\u001b[0m eta \u001b[36m0:00:00\u001b[0m\n",
            "\u001b[?25hCollecting python-dotenv>=0.13 (from uvicorn[standard]>=0.18.3->chromadb)\n",
            "  Downloading python_dotenv-1.0.1-py3-none-any.whl (19 kB)\n",
            "Collecting uvloop!=0.15.0,!=0.15.1,>=0.14.0 (from uvicorn[standard]>=0.18.3->chromadb)\n",
            "  Downloading uvloop-0.19.0-cp310-cp310-manylinux_2_17_x86_64.manylinux2014_x86_64.whl (3.4 MB)\n",
            "\u001b[2K     \u001b[90m━━━━━━━━━━━━━━━━━━━━━━━━━━━━━━━━━━━━━━━━\u001b[0m \u001b[32m3.4/3.4 MB\u001b[0m \u001b[31m31.3 MB/s\u001b[0m eta \u001b[36m0:00:00\u001b[0m\n",
            "\u001b[?25hCollecting watchfiles>=0.13 (from uvicorn[standard]>=0.18.3->chromadb)\n",
            "  Downloading watchfiles-0.21.0-cp310-cp310-manylinux_2_17_x86_64.manylinux2014_x86_64.whl (1.3 MB)\n",
            "\u001b[2K     \u001b[90m━━━━━━━━━━━━━━━━━━━━━━━━━━━━━━━━━━━━━━━━\u001b[0m \u001b[32m1.3/1.3 MB\u001b[0m \u001b[31m36.3 MB/s\u001b[0m eta \u001b[36m0:00:00\u001b[0m\n",
            "\u001b[?25hCollecting websockets>=10.4 (from uvicorn[standard]>=0.18.3->chromadb)\n",
            "  Downloading websockets-12.0-cp310-cp310-manylinux_2_5_x86_64.manylinux1_x86_64.manylinux_2_17_x86_64.manylinux2014_x86_64.whl (130 kB)\n",
            "\u001b[2K     \u001b[90m━━━━━━━━━━━━━━━━━━━━━━━━━━━━━━━━━━━━━━━━\u001b[0m \u001b[32m130.2/130.2 kB\u001b[0m \u001b[31m15.1 MB/s\u001b[0m eta \u001b[36m0:00:00\u001b[0m\n",
            "\u001b[?25hRequirement already satisfied: cachetools<6.0,>=2.0.0 in /usr/local/lib/python3.10/dist-packages (from google-auth>=1.0.1->kubernetes>=28.1.0->chromadb) (5.3.3)\n",
            "Requirement already satisfied: pyasn1-modules>=0.2.1 in /usr/local/lib/python3.10/dist-packages (from google-auth>=1.0.1->kubernetes>=28.1.0->chromadb) (0.4.0)\n",
            "Requirement already satisfied: rsa<5,>=3.1.4 in /usr/local/lib/python3.10/dist-packages (from google-auth>=1.0.1->kubernetes>=28.1.0->chromadb) (4.9)\n",
            "Requirement already satisfied: filelock in /usr/local/lib/python3.10/dist-packages (from huggingface-hub<1.0,>=0.16.4->tokenizers>=0.13.2->chromadb) (3.13.4)\n",
            "Requirement already satisfied: fsspec>=2023.5.0 in /usr/local/lib/python3.10/dist-packages (from huggingface-hub<1.0,>=0.16.4->tokenizers>=0.13.2->chromadb) (2023.6.0)\n",
            "Requirement already satisfied: zipp>=0.5 in /usr/local/lib/python3.10/dist-packages (from importlib-metadata<=7.0,>=6.0->opentelemetry-api>=1.2.0->chromadb) (3.18.1)\n",
            "Requirement already satisfied: anyio<5,>=3.4.0 in /usr/local/lib/python3.10/dist-packages (from starlette<0.38.0,>=0.37.2->fastapi>=0.95.2->chromadb) (3.7.1)\n",
            "Requirement already satisfied: humanfriendly>=9.1 in /usr/local/lib/python3.10/dist-packages (from coloredlogs->onnxruntime>=1.14.1->chromadb) (10.0)\n",
            "Requirement already satisfied: mpmath>=0.19 in /usr/local/lib/python3.10/dist-packages (from sympy->onnxruntime>=1.14.1->chromadb) (1.3.0)\n",
            "Requirement already satisfied: sniffio>=1.1 in /usr/local/lib/python3.10/dist-packages (from anyio<5,>=3.4.0->starlette<0.38.0,>=0.37.2->fastapi>=0.95.2->chromadb) (1.3.1)\n",
            "Requirement already satisfied: exceptiongroup in /usr/local/lib/python3.10/dist-packages (from anyio<5,>=3.4.0->starlette<0.38.0,>=0.37.2->fastapi>=0.95.2->chromadb) (1.2.1)\n",
            "Requirement already satisfied: pyasn1<0.7.0,>=0.4.6 in /usr/local/lib/python3.10/dist-packages (from pyasn1-modules>=0.2.1->google-auth>=1.0.1->kubernetes>=28.1.0->chromadb) (0.6.0)\n",
            "Building wheels for collected packages: pypika\n",
            "  Building wheel for pypika (pyproject.toml) ... \u001b[?25l\u001b[?25hdone\n",
            "  Created wheel for pypika: filename=PyPika-0.48.9-py2.py3-none-any.whl size=53724 sha256=2ef1369f700ec1f88592e61ec588035a5f1d2980a70497b2b480a3eed741b3be\n",
            "  Stored in directory: /root/.cache/pip/wheels/e1/26/51/d0bffb3d2fd82256676d7ad3003faea3bd6dddc9577af665f4\n",
            "Successfully built pypika\n",
            "Installing collected packages: pypika, monotonic, mmh3, websockets, uvloop, uvicorn, python-dotenv, overrides, opentelemetry-util-http, opentelemetry-semantic-conventions, opentelemetry-proto, importlib-metadata, httptools, chroma-hnswlib, bcrypt, asgiref, watchfiles, starlette, posthog, opentelemetry-exporter-otlp-proto-common, opentelemetry-api, opentelemetry-sdk, opentelemetry-instrumentation, kubernetes, fastapi, opentelemetry-instrumentation-asgi, opentelemetry-exporter-otlp-proto-grpc, opentelemetry-instrumentation-fastapi, chromadb\n",
            "  Attempting uninstall: importlib-metadata\n",
            "    Found existing installation: importlib_metadata 7.1.0\n",
            "    Uninstalling importlib_metadata-7.1.0:\n",
            "      Successfully uninstalled importlib_metadata-7.1.0\n",
            "Successfully installed asgiref-3.8.1 bcrypt-4.1.2 chroma-hnswlib-0.7.3 chromadb-0.5.0 fastapi-0.110.3 httptools-0.6.1 importlib-metadata-7.0.0 kubernetes-29.0.0 mmh3-4.1.0 monotonic-1.6 opentelemetry-api-1.24.0 opentelemetry-exporter-otlp-proto-common-1.24.0 opentelemetry-exporter-otlp-proto-grpc-1.24.0 opentelemetry-instrumentation-0.45b0 opentelemetry-instrumentation-asgi-0.45b0 opentelemetry-instrumentation-fastapi-0.45b0 opentelemetry-proto-1.24.0 opentelemetry-sdk-1.24.0 opentelemetry-semantic-conventions-0.45b0 opentelemetry-util-http-0.45b0 overrides-7.7.0 posthog-3.5.0 pypika-0.48.9 python-dotenv-1.0.1 starlette-0.37.2 uvicorn-0.29.0 uvloop-0.19.0 watchfiles-0.21.0 websockets-12.0\n"
          ]
        }
      ]
    },
    {
      "cell_type": "code",
      "source": [
        "from langchain_core.output_parsers import StrOutputParser\n",
        "from langchain_core.prompts import ChatPromptTemplate\n",
        "from langchain_openai import ChatOpenAI"
      ],
      "metadata": {
        "id": "mlZDRX9HgLBB"
      },
      "execution_count": null,
      "outputs": []
    },
    {
      "cell_type": "code",
      "source": [],
      "metadata": {
        "id": "VnqIAv78id7l"
      },
      "execution_count": null,
      "outputs": []
    },
    {
      "cell_type": "markdown",
      "source": [
        "# Table Summary"
      ],
      "metadata": {
        "id": "PxiVeh1SjNFX"
      }
    },
    {
      "cell_type": "code",
      "source": [
        "# Prompt\n",
        "prompt_text = \"\"\"You are an assistant tasked with summarizing tables for retrieval. \\\n",
        "    These summaries will be embedded and used to retrieve the raw table elements. \\\n",
        "    Give a concise summary of the table that is well optimized for retrieval. Table:{element} \"\"\""
      ],
      "metadata": {
        "id": "sCzuQvDJgXSH"
      },
      "execution_count": null,
      "outputs": []
    },
    {
      "cell_type": "code",
      "source": [
        "prompt = ChatPromptTemplate.from_template(prompt_text)"
      ],
      "metadata": {
        "id": "KEO6eO5E1E1E"
      },
      "execution_count": null,
      "outputs": []
    },
    {
      "cell_type": "code",
      "source": [
        "import os\n",
        "from google.colab import userdata\n",
        "OPENAI_API_TOKEN=userdata.get('OPENAI_API_KEY')\n",
        "os.environ[\"OPENAI_API_KEY\"] = OPENAI_API_TOKEN"
      ],
      "metadata": {
        "id": "f1ZYHfpt2VP5"
      },
      "execution_count": null,
      "outputs": []
    },
    {
      "cell_type": "code",
      "source": [
        "# Text summary chain\n",
        "model = ChatOpenAI(temperature=0, model=\"gpt-4\")\n",
        "summarize_chain = {\"element\": lambda x: x} | prompt | model | StrOutputParser()"
      ],
      "metadata": {
        "id": "Wr11j3RU1ueV"
      },
      "execution_count": null,
      "outputs": []
    },
    {
      "cell_type": "code",
      "source": [
        "table_summaries = []"
      ],
      "metadata": {
        "id": "a2Uc1yiU2UH1"
      },
      "execution_count": null,
      "outputs": []
    },
    {
      "cell_type": "code",
      "source": [
        "table_summaries = summarize_chain.batch(Table, {\"max_concurrency\": 5})"
      ],
      "metadata": {
        "id": "DaiY0-6q2ty9"
      },
      "execution_count": null,
      "outputs": []
    },
    {
      "cell_type": "code",
      "source": [
        "table_summaries"
      ],
      "metadata": {
        "colab": {
          "base_uri": "https://localhost:8080/"
        },
        "id": "lF7T14e525U0",
        "outputId": "26f41999-335a-4492-b408-b521f6a5ebb9"
      },
      "execution_count": null,
      "outputs": [
        {
          "output_type": "execute_result",
          "data": {
            "text/plain": [
              "['The table presents the performance of various models on a task, measured by accuracy. The models include Closed Book T5-11B, T5-11B+SSM, REALM, DPR, SotA BART, RAG-Token, RAG-Seq, and RAG-Tok. The performance is measured in different settings, including Label Acc., Open Book, and others. The highest accuracy is achieved by RAG-Seq with 89.5, followed by SotA BART with 81.1. The lowest accuracy is shown by RAG-Tok and RAG-Seq with 14.7 and 17.3 respectively.',\n",
              " \"The table provides information on various topics generated by different models. It includes definitions of the middle ear, the currency used in Scotland, the U.S. state with the most counties, and details about Dante's epic poem, The Divine Comedy. The models used for generating these responses include BART, RAG-T, RAG-S, and MS-MARCO.\",\n",
              " \"The table presents a comparison of different models - MSMARCO, Jeopardy, QGen, BART, RAG, Gold BART, RAG-Token, and RAG-Seq - based on their factuality specificity. The categories of comparison include 'better', 'both good', 'both poor', and 'no majority'. The highest percentage for 'better' is seen in Gold BART (89.6%), while the lowest is in MSMARCO (7.1%). For 'both good', the highest is in Jeopardy (20.8%) and the lowest in RAG-Token (32.4%). For 'both poor', the highest is in RAG (37.4%) and the lowest in Gold BART (90.0%). Lastly, for 'no majority', the highest is in RAG-Seq (53.8%) and the lowest in MSMARCO (16.8%).\",\n",
              " \"The table presents the performance metrics of different models including NQ, TQA, WQ, Exact Match CT, Jeopardy-QGen, MSMarco, B-1, QB-1, R-L, RAG-Token-BM25, RAG-Sequence-BM25, RAG-Token-Frozen, RAG-Sequence-Frozen, RAG-Token, and RAG-Sequence. The metrics are presumably in percentages, indicating the effectiveness of each model in their respective tasks. The RAG models have variations including BM25, Frozen, and standard versions. The table allows for comparison of these models' performances.\",\n",
              " 'The table presents data on various tasks such as Natural Questions, TriviaQA, WebQuestions, CuratedTrec, Jeopardy, Question Generation, MS-MARCO, FEVER-3-way, and FEVER-2-way. It provides three sets of numerical data for each task, presumably representing different stages or aspects of each task. The data ranges from as low as 134 to as high as 153726. The asterisk next to 101093 suggests a special note or condition.']"
            ]
          },
          "metadata": {},
          "execution_count": 26
        }
      ]
    },
    {
      "cell_type": "markdown",
      "source": [
        "# Text Summary"
      ],
      "metadata": {
        "id": "MS9B1A1cjIVp"
      }
    },
    {
      "cell_type": "code",
      "source": [
        "# Prompt\n",
        "prompt_text = \"\"\"You are an assistant tasked with summarizing text for retrieval. \\\n",
        "    These summaries will be embedded and used to retrieve the raw text elements. \\\n",
        "    Give a concise summary of the table or text that is well optimized for retrieval.text: {element} \"\"\"\n"
      ],
      "metadata": {
        "id": "asukHsbYiXGn"
      },
      "execution_count": null,
      "outputs": []
    },
    {
      "cell_type": "code",
      "source": [
        "prompt = ChatPromptTemplate.from_template(prompt_text)"
      ],
      "metadata": {
        "id": "UQto_85fidC3"
      },
      "execution_count": null,
      "outputs": []
    },
    {
      "cell_type": "code",
      "source": [
        "# Text summary chain\n",
        "model = ChatOpenAI(temperature=0, model=\"gpt-4\")\n",
        "summarize_chain = {\"element\": lambda x: x} | prompt | model | StrOutputParser()"
      ],
      "metadata": {
        "id": "SgMaMLpYiiC3"
      },
      "execution_count": null,
      "outputs": []
    },
    {
      "cell_type": "code",
      "source": [
        "# Initialize empty summaries\n",
        "\n",
        "text_summaries = []\n"
      ],
      "metadata": {
        "id": "d7F-TIw0itHn"
      },
      "execution_count": null,
      "outputs": []
    },
    {
      "cell_type": "code",
      "source": [
        "text_summaries = summarize_chain.batch(Text, {\"max_concurrency\": 5})"
      ],
      "metadata": {
        "id": "2kM4EmaQUfJy"
      },
      "execution_count": null,
      "outputs": []
    },
    {
      "cell_type": "code",
      "source": [
        "text_summaries"
      ],
      "metadata": {
        "id": "mF-rjDzrfXCW"
      },
      "execution_count": null,
      "outputs": []
    },
    {
      "cell_type": "markdown",
      "source": [
        "# Image Summary"
      ],
      "metadata": {
        "id": "4z2ukjxCjRKn"
      }
    },
    {
      "cell_type": "code",
      "source": [
        "import base64\n",
        "import os\n",
        "from langchain_core.messages import HumanMessage"
      ],
      "metadata": {
        "id": "DMd67jCQ-AQa"
      },
      "execution_count": null,
      "outputs": []
    },
    {
      "cell_type": "code",
      "source": [
        "def encode_image(image_path):\n",
        "    \"\"\"Getting the base64 string\"\"\"\n",
        "    with open(image_path, \"rb\") as image_file:\n",
        "        return base64.b64encode(image_file.read()).decode(\"utf-8\")"
      ],
      "metadata": {
        "id": "9Azy9eQZ-DvK"
      },
      "execution_count": null,
      "outputs": []
    },
    {
      "cell_type": "code",
      "source": [
        "def image_summarize(img_base64, prompt):\n",
        "    \"\"\"Make image summary\"\"\"\n",
        "    chat = ChatOpenAI(model=\"gpt-4-vision-preview\", max_tokens=1024)\n",
        "\n",
        "    msg = chat.invoke(\n",
        "        [\n",
        "            HumanMessage(\n",
        "                content=[\n",
        "                    {\"type\": \"text\", \"text\": prompt},\n",
        "                    {\n",
        "                        \"type\": \"image_url\",\n",
        "                        \"image_url\": {\"url\": f\"data:image/jpeg;base64,{img_base64}\"},\n",
        "                    },\n",
        "                ]\n",
        "            )\n",
        "        ]\n",
        "    )\n",
        "    return msg.content"
      ],
      "metadata": {
        "id": "RKM8O7QZ-HMK"
      },
      "execution_count": null,
      "outputs": []
    },
    {
      "cell_type": "markdown",
      "source": [
        "https://github.com/langchain-ai/langchain/blob/master/cookbook/Multi_modal_RAG.ipynb"
      ],
      "metadata": {
        "id": "vR_u--yu231y"
      }
    },
    {
      "cell_type": "code",
      "source": [
        "def generate_img_summaries(path):\n",
        "    \"\"\"\n",
        "    Generate summaries and base64 encoded strings for images\n",
        "    path: Path to list of .jpg files extracted by Unstructured\n",
        "    \"\"\"\n",
        "\n",
        "    # Store base64 encoded images\n",
        "    img_base64_list = []\n",
        "\n",
        "    # Store image summaries\n",
        "    image_summaries = []\n",
        "\n",
        "    # Prompt\n",
        "    prompt = \"\"\"You are an assistant tasked with summarizing images for retrieval. \\\n",
        "    These summaries will be embedded and used to retrieve the raw image. \\\n",
        "    Give a concise summary of the image that is well optimized for retrieval.\"\"\"\n",
        "\n",
        "    # Apply to images\n",
        "    for img_file in sorted(os.listdir(path)):\n",
        "        if img_file.endswith(\".jpg\"):\n",
        "            img_path = os.path.join(path, img_file)\n",
        "            base64_image = encode_image(img_path)\n",
        "            img_base64_list.append(base64_image)\n",
        "            image_summaries.append(image_summarize(base64_image, prompt))\n",
        "\n",
        "\n",
        "    return img_base64_list, image_summaries"
      ],
      "metadata": {
        "id": "qytxMFVq-MUF"
      },
      "execution_count": null,
      "outputs": []
    },
    {
      "cell_type": "code",
      "source": [
        "fpath=\"/content/extracted_data2/\""
      ],
      "metadata": {
        "id": "ZzyqftLY-Ofi"
      },
      "execution_count": null,
      "outputs": []
    },
    {
      "cell_type": "code",
      "source": [
        "# Image summaries\n",
        "img_base64_list, image_summaries = generate_img_summaries(fpath)"
      ],
      "metadata": {
        "id": "gybx1HDu99Gu"
      },
      "execution_count": null,
      "outputs": []
    },
    {
      "cell_type": "code",
      "source": [
        "image_summaries"
      ],
      "metadata": {
        "id": "XQ2NVyJW-RZH"
      },
      "execution_count": null,
      "outputs": []
    },
    {
      "cell_type": "code",
      "source": [
        "img_base64_list"
      ],
      "metadata": {
        "id": "JrqixR6qvUm_"
      },
      "execution_count": null,
      "outputs": []
    },
    {
      "cell_type": "markdown",
      "source": [
        "![image.png](data:image/png;base64,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)"
      ],
      "metadata": {
        "id": "AUWQu5hhLTXO"
      }
    },
    {
      "cell_type": "markdown",
      "source": [
        "# Creating a MultiVector Retriever"
      ],
      "metadata": {
        "id": "afOqMhtQkeS2"
      }
    },
    {
      "cell_type": "code",
      "source": [
        "import uuid\n",
        "\n",
        "from langchain.retrievers.multi_vector import MultiVectorRetriever\n",
        "from langchain.storage import InMemoryStore\n",
        "from langchain_community.vectorstores import Chroma\n",
        "from langchain_core.documents import Document\n",
        "from langchain_openai import OpenAIEmbeddings"
      ],
      "metadata": {
        "id": "XYKpk0EV-mPc"
      },
      "execution_count": null,
      "outputs": []
    },
    {
      "cell_type": "code",
      "source": [
        "def create_multi_vector_retriever(vectorstore, text_summaries, texts, table_summaries, tables, image_summaries, images):\n",
        "    \"\"\"\n",
        "    Create retriever that indexes summaries, but returns raw images or texts\n",
        "    \"\"\"\n",
        "\n",
        "    # Initialize the storage layer\n",
        "    store = InMemoryStore()\n",
        "    id_key = \"doc_id\"\n",
        "\n",
        "    # Create the multi-vector retriever\n",
        "    retriever = MultiVectorRetriever(\n",
        "        vectorstore=vectorstore,\n",
        "        docstore=store,\n",
        "        id_key=id_key,\n",
        "    )\n",
        "\n",
        "\n",
        "    # Helper function to add documents to the vectorstore and docstore\n",
        "    def add_documents(retriever, doc_summaries, doc_contents):\n",
        "\n",
        "      doc_ids = [str(uuid.uuid4()) for _ in doc_contents]\n",
        "\n",
        "      summary_docs = [\n",
        "              Document(page_content=s, metadata={id_key: doc_ids[i]})\n",
        "              for i, s in enumerate(doc_summaries)\n",
        "          ]\n",
        "\n",
        "      retriever.vectorstore.add_documents(summary_docs)\n",
        "      retriever.docstore.mset(list(zip(doc_ids, doc_contents)))\n",
        "\n",
        "      # Add texts, tables, and images\n",
        "      # Check that text_summaries is not empty before adding\n",
        "      if text_summaries:\n",
        "          add_documents(retriever, text_summaries, texts)\n",
        "      # Check that table_summaries is not empty before adding\n",
        "      if table_summaries:\n",
        "          add_documents(retriever, table_summaries, tab)\n",
        "      # Check that image_summaries is not empty before adding\n",
        "      if image_summaries:\n",
        "          add_documents(retriever, image_summaries, img)\n",
        "\n",
        "    return retriever\n",
        "\n",
        "vectorstore = Chroma(\n",
        "    collection_name=\"mm_rag\", embedding_function=OpenAIEmbeddings()\n",
        ")\n",
        "\n",
        "# Create retriever\n",
        "retriever_multi_vector_img = create_multi_vector_retriever(\n",
        "    vectorstore,\n",
        "    text_summaries,\n",
        "    Text,\n",
        "    table_summaries,\n",
        "    Table,\n",
        "    image_summaries,\n",
        "    img_base64_list,\n",
        ")"
      ],
      "metadata": {
        "id": "kG-bGuWp4o_e"
      },
      "execution_count": null,
      "outputs": []
    },
    {
      "cell_type": "code",
      "source": [
        "retriever_multi_vector_img"
      ],
      "metadata": {
        "colab": {
          "base_uri": "https://localhost:8080/"
        },
        "id": "GaYHuuAbbpUi",
        "outputId": "571d23fb-9252-4fca-a7c6-6a6ec2f09c75"
      },
      "execution_count": null,
      "outputs": [
        {
          "output_type": "execute_result",
          "data": {
            "text/plain": [
              "MultiVectorRetriever(vectorstore=<langchain_community.vectorstores.chroma.Chroma object at 0x795d0c4e5cc0>, docstore=<langchain.storage.in_memory.InMemoryBaseStore object at 0x795cf4748910>)"
            ]
          },
          "metadata": {},
          "execution_count": 71
        }
      ]
    },
    {
      "cell_type": "code",
      "source": [
        "import io\n",
        "import re\n",
        "\n",
        "from IPython.display import HTML, display\n",
        "from PIL import Image"
      ],
      "metadata": {
        "id": "E2fm4STH8MyY"
      },
      "execution_count": null,
      "outputs": []
    },
    {
      "cell_type": "code",
      "source": [
        "def plt_img_base64(img_base64):\n",
        "    \"\"\"Disply base64 encoded string as image\"\"\"\n",
        "    # Create an HTML img tag with the base64 string as the source\n",
        "    image_html = f'<img src=\"data:image/jpeg;base64,{img_base64}\" />'\n",
        "    # Display the image by rendering the HTML\n",
        "    display(HTML(image_html))\n"
      ],
      "metadata": {
        "id": "JOts0DUa8NVd"
      },
      "execution_count": null,
      "outputs": []
    },
    {
      "cell_type": "code",
      "source": [
        "plt_img_base64(img_base64_list[1])"
      ],
      "metadata": {
        "colab": {
          "base_uri": "https://localhost:8080/",
          "height": 338
        },
        "id": "Eb2_22-aoGSB",
        "outputId": "231dc2a4-03bf-4893-8aef-e3ea508bcbb3"
      },
      "execution_count": null,
      "outputs": [
        {
          "output_type": "display_data",
          "data": {
            "text/plain": [
              "<IPython.core.display.HTML object>"
            ],
            "text/html": [
              "<img src=\"data:image/jpeg;base64,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\" />"
            ]
          },
          "metadata": {}
        }
      ]
    },
    {
      "cell_type": "code",
      "source": [
        "image_summaries[1]"
      ],
      "metadata": {
        "colab": {
          "base_uri": "https://localhost:8080/",
          "height": 108
        },
        "id": "aYaHWDneBWF2",
        "outputId": "48447e8b-6ac2-453a-a0fe-b27a786d451d"
      },
      "execution_count": null,
      "outputs": [
        {
          "output_type": "execute_result",
          "data": {
            "text/plain": [
              "\"The image is a schematic representation of an information retrieval system that uses natural language processing. It shows a pipeline with three main components: a Query Encoder, a Retriever, and a Generator, along with a feedback loop for end-to-end backpropagation. There are example text inputs for different types of queries such as definition, fact verification, and question generation. The diagram also features a document index visualized as stacked layers, and various mathematical notations indicating the flow and transformation of data between the system's components.\""
            ],
            "application/vnd.google.colaboratory.intrinsic+json": {
              "type": "string"
            }
          },
          "metadata": {},
          "execution_count": 75
        }
      ]
    },
    {
      "cell_type": "code",
      "source": [
        "def looks_like_base64(sb):\n",
        "    \"\"\"Check if the string looks like base64\"\"\"\n",
        "    return re.match(\"^[A-Za-z0-9+/]+[=]{0,2}$\", sb) is not None\n"
      ],
      "metadata": {
        "id": "8xHdKk5U8u5B"
      },
      "execution_count": null,
      "outputs": []
    },
    {
      "cell_type": "code",
      "source": [
        "def is_image_data(b64data):\n",
        "    \"\"\"\n",
        "    Check if the base64 data is an image by looking at the start of the data\n",
        "    \"\"\"\n",
        "    image_signatures = {\n",
        "        b\"\\xFF\\xD8\\xFF\": \"jpg\",\n",
        "        b\"\\x89\\x50\\x4E\\x47\\x0D\\x0A\\x1A\\x0A\": \"png\",\n",
        "        b\"\\x47\\x49\\x46\\x38\": \"gif\",\n",
        "        b\"\\x52\\x49\\x46\\x46\": \"webp\",\n",
        "    }\n",
        "    try:\n",
        "        header = base64.b64decode(b64data)[:8]  # Decode and get the first 8 bytes\n",
        "        for sig, format in image_signatures.items():\n",
        "            if header.startswith(sig):\n",
        "                return True\n",
        "        return False\n",
        "    except Exception:\n",
        "        return False"
      ],
      "metadata": {
        "id": "1ozW0Yir8wux"
      },
      "execution_count": null,
      "outputs": []
    },
    {
      "cell_type": "code",
      "source": [
        "def resize_base64_image(base64_string, size=(128, 128)):\n",
        "    \"\"\"\n",
        "    Resize an image encoded as a Base64 string\n",
        "    \"\"\"\n",
        "    # Decode the Base64 string\n",
        "    img_data = base64.b64decode(base64_string)\n",
        "    img = Image.open(io.BytesIO(img_data))\n",
        "\n",
        "    # Resize the image\n",
        "    resized_img = img.resize(size, Image.LANCZOS)\n",
        "\n",
        "    # Save the resized image to a bytes buffer\n",
        "    buffered = io.BytesIO()\n",
        "    resized_img.save(buffered, format=img.format)\n",
        "\n",
        "    # Encode the resized image to Base64\n",
        "    return base64.b64encode(buffered.getvalue()).decode(\"utf-8\")"
      ],
      "metadata": {
        "id": "W_NbnR5B8zCa"
      },
      "execution_count": null,
      "outputs": []
    },
    {
      "cell_type": "code",
      "source": [
        "def split_image_text_types(docs):\n",
        "    \"\"\"\n",
        "    Split base64-encoded images and texts\n",
        "    \"\"\"\n",
        "    b64_images = []\n",
        "    texts = []\n",
        "\n",
        "    for doc in docs:\n",
        "        # Check if the document is of type Document and extract page_content if so\n",
        "        if isinstance(doc, Document):\n",
        "            doc = doc.page_content\n",
        "        if looks_like_base64(doc) and is_image_data(doc):\n",
        "            doc = resize_base64_image(doc, size=(1300, 600))\n",
        "            b64_images.append(doc)\n",
        "        else:\n",
        "            texts.append(doc)\n",
        "\n",
        "    return {\"images\": b64_images, \"texts\": texts}"
      ],
      "metadata": {
        "id": "sitteApG81AA"
      },
      "execution_count": null,
      "outputs": []
    },
    {
      "cell_type": "code",
      "source": [
        "def img_prompt_func(data_dict):\n",
        "    \"\"\"\n",
        "    Join the context into a single string\n",
        "    \"\"\"\n",
        "    #print(data_dict)\n",
        "    formatted_texts = \"\\n\".join(data_dict[\"context\"][\"texts\"])\n",
        "    messages = []\n",
        "\n",
        "    # Adding image(s) to the messages if present\n",
        "    if data_dict[\"context\"][\"images\"]:\n",
        "        for image in data_dict[\"context\"][\"images\"]:\n",
        "            image_message = {\n",
        "                \"type\": \"image_url\",\n",
        "                \"image_url\": {\"url\": f\"data:image/jpeg;base64,{image}\"},\n",
        "            }\n",
        "            messages.append(image_message)\n",
        "\n",
        "    # Adding the text for analysis\n",
        "    text_message = {\n",
        "        \"type\": \"text\",\n",
        "        \"text\": (\n",
        "            \"You are a helpful assistant.\\n\"\n",
        "            \"You will be given a mixed info(s) .\\n\"\n",
        "            \"Use this information to provide relevant information to the user question. \\n\"\n",
        "            f\"User-provided question: {data_dict['question']}\\n\\n\"\n",
        "            \"Text and / or tables:\\n\"\n",
        "            f\"{formatted_texts}\"\n",
        "        ),\n",
        "    }\n",
        "    messages.append(text_message)\n",
        "    return [HumanMessage(content=messages)]"
      ],
      "metadata": {
        "id": "3q0i4U_n88IZ"
      },
      "execution_count": null,
      "outputs": []
    },
    {
      "cell_type": "code",
      "source": [
        "from langchain_core.runnables import RunnableLambda, RunnablePassthrough"
      ],
      "metadata": {
        "id": "fK7NdBN9TXbN"
      },
      "execution_count": null,
      "outputs": []
    },
    {
      "cell_type": "code",
      "source": [
        "def multi_modal_rag_chain(retriever):\n",
        "    \"\"\"\n",
        "    Multi-modal RAG chain\n",
        "    \"\"\"\n",
        "\n",
        "    # Multi-modal LLM\n",
        "    model = ChatOpenAI(temperature=0, model=\"gpt-4-vision-preview\", max_tokens=1024)\n",
        "\n",
        "\n",
        "    # RAG pipeline\n",
        "    chain = (\n",
        "        {\n",
        "            \"context\": retriever | RunnableLambda(split_image_text_types),\n",
        "            \"question\": RunnablePassthrough(),\n",
        "        }\n",
        "        | RunnableLambda(img_prompt_func)\n",
        "        | model\n",
        "        | StrOutputParser()\n",
        "    )\n",
        "\n",
        "    return chain"
      ],
      "metadata": {
        "id": "1Hg65Azq8-La"
      },
      "execution_count": null,
      "outputs": []
    },
    {
      "cell_type": "code",
      "source": [
        "# Create RAG chain\n",
        "chain_multimodal_rag = multi_modal_rag_chain(retriever_multi_vector_img)"
      ],
      "metadata": {
        "id": "hvyZkjqa9AHZ"
      },
      "execution_count": null,
      "outputs": []
    },
    {
      "cell_type": "code",
      "source": [
        "chain_multimodal_rag"
      ],
      "metadata": {
        "colab": {
          "base_uri": "https://localhost:8080/"
        },
        "id": "y1N9ONMPCW-h",
        "outputId": "e22a46e6-ff1b-4e71-8350-d372d7846871"
      },
      "execution_count": null,
      "outputs": [
        {
          "output_type": "execute_result",
          "data": {
            "text/plain": [
              "{\n",
              "  context: MultiVectorRetriever(vectorstore=<langchain_community.vectorstores.chroma.Chroma object at 0x795d0c4e5cc0>, docstore=<langchain.storage.in_memory.InMemoryBaseStore object at 0x795cf4748910>)\n",
              "           | RunnableLambda(split_image_text_types),\n",
              "  question: RunnablePassthrough()\n",
              "}\n",
              "| RunnableLambda(img_prompt_func)\n",
              "| ChatOpenAI(client=<openai.resources.chat.completions.Completions object at 0x795cd55c8430>, async_client=<openai.resources.chat.completions.AsyncCompletions object at 0x795cd55c96c0>, model_name='gpt-4-vision-preview', temperature=0.0, openai_api_key=SecretStr('**********'), openai_proxy='', max_tokens=1024)\n",
              "| StrOutputParser()"
            ]
          },
          "metadata": {},
          "execution_count": 77
        }
      ]
    },
    {
      "cell_type": "markdown",
      "source": [
        "# Check"
      ],
      "metadata": {
        "id": "9H1zhRDa7zpD"
      }
    },
    {
      "cell_type": "code",
      "source": [
        "# Check retrieval\n",
        "query = \"Why We combine a pre-trained retriever (Query Encoder + Document Index) with a pre-trained seq2seq model (Generator) and fine-tune end-to-end?\"\n",
        "docs = retriever_multi_vector_img.invoke(query)\n",
        "\n"
      ],
      "metadata": {
        "id": "FmStvDLddInz"
      },
      "execution_count": null,
      "outputs": []
    },
    {
      "cell_type": "code",
      "source": [
        "docs"
      ],
      "metadata": {
        "colab": {
          "base_uri": "https://localhost:8080/"
        },
        "id": "QujmCVbHlyFg",
        "outputId": "7974d7cc-b8c3-4724-96d7-cab726b69b44"
      },
      "execution_count": null,
      "outputs": [
        {
          "output_type": "execute_result",
          "data": {
            "text/plain": [
              "[]"
            ]
          },
          "metadata": {},
          "execution_count": 60
        }
      ]
    },
    {
      "cell_type": "code",
      "source": [
        "query=\"Open-Domain QA Test Scores. For TQA,\\\n",
        "left column uses the standard test set for Open-\\\n",
        "Domain QA, right column uses the TQA-Wiki\\\n",
        "test set. See Appendix D for further details.\""
      ],
      "metadata": {
        "id": "dOPXJDfUC3BI"
      },
      "execution_count": null,
      "outputs": []
    },
    {
      "cell_type": "code",
      "source": [
        "docs = retriever_multi_vector_img.invoke(query)"
      ],
      "metadata": {
        "id": "H1YaG7QYTrFV"
      },
      "execution_count": null,
      "outputs": []
    },
    {
      "cell_type": "code",
      "source": [
        "docs"
      ],
      "metadata": {
        "colab": {
          "base_uri": "https://localhost:8080/"
        },
        "id": "NXt_JE33TsyC",
        "outputId": "579c777f-f985-4c99-f9ec-ca60d9e3bb2f"
      },
      "execution_count": null,
      "outputs": [
        {
          "output_type": "execute_result",
          "data": {
            "text/plain": [
              "[]"
            ]
          },
          "metadata": {},
          "execution_count": 63
        }
      ]
    },
    {
      "cell_type": "code",
      "source": [
        "query=\"Models are trained with either 5 or 10 retrieved latent\\\n",
        "documents, and we do not observe significant differences in performance between them.\""
      ],
      "metadata": {
        "id": "OtspMKwyDr5p"
      },
      "execution_count": null,
      "outputs": []
    },
    {
      "cell_type": "code",
      "source": [
        "retriever_multi_vector_img.invoke(query)"
      ],
      "metadata": {
        "colab": {
          "base_uri": "https://localhost:8080/"
        },
        "id": "J6RFUzOgC9Nn",
        "outputId": "712d33e6-4644-4e9c-a427-c61af688e8c1"
      },
      "execution_count": null,
      "outputs": [
        {
          "output_type": "execute_result",
          "data": {
            "text/plain": [
              "[]"
            ]
          },
          "metadata": {},
          "execution_count": 65
        }
      ]
    },
    {
      "cell_type": "code",
      "source": [
        "# We get back relevant images\n",
        "plt_img_base64(docs)"
      ],
      "metadata": {
        "colab": {
          "base_uri": "https://localhost:8080/",
          "height": 37
        },
        "id": "2HkKxemH9GHg",
        "outputId": "591e1738-f060-4f88-85a3-cb4cbe1f65ea"
      },
      "execution_count": null,
      "outputs": [
        {
          "output_type": "display_data",
          "data": {
            "text/plain": [
              "<IPython.core.display.HTML object>"
            ],
            "text/html": [
              "<img src=\"data:image/jpeg;base64,[]\" />"
            ]
          },
          "metadata": {}
        }
      ]
    },
    {
      "cell_type": "markdown",
      "source": [
        "# RAG"
      ],
      "metadata": {
        "id": "p0F8kQmMBhdS"
      }
    },
    {
      "cell_type": "code",
      "source": [
        "query=\"can you explain me this Left: NQ performance as more documents are retrieved. Center: Retrieval recall performance\\\n",
        "in NQ. Right: MS-MARCO Bleu-1 and Rouge-L as more documents are retrieved.\""
      ],
      "metadata": {
        "id": "PhhTb937EDJ5"
      },
      "execution_count": null,
      "outputs": []
    },
    {
      "cell_type": "code",
      "source": [
        "query1=\"Explain any images / figures in the paper with Left: NQ performance as more documents are retrieved. Center: Retrieval recall performance\\\n",
        "in NQ. Right: MS-MARCO Bleu-1 and Rouge-L as more documents are retrieved.\""
      ],
      "metadata": {
        "id": "RRTcmOhnHBiE"
      },
      "execution_count": null,
      "outputs": []
    },
    {
      "cell_type": "code",
      "source": [
        "# Run RAG chain\n",
        "chain_multimodal_rag.invoke(query1)"
      ],
      "metadata": {
        "colab": {
          "base_uri": "https://localhost:8080/",
          "height": 162
        },
        "id": "mi4Se2uP9NCc",
        "outputId": "3fe09275-23ea-4569-c656-9bb26731eaf1"
      },
      "execution_count": null,
      "outputs": [
        {
          "output_type": "execute_result",
          "data": {
            "text/plain": [
              "'Unfortunately, there is no text or tables provided for me to explain the images or figures in the paper. However, based on the user-provided question, it seems that the paper includes three figures:\\n\\n1. Left: A graph showing the performance of a model (NQ) as more documents are retrieved. This could indicate how well the model is able to find relevant information as it processes more data.\\n\\n2. Center: A graph showing the retrieval recall performance in NQ. This could indicate how often the model is able to retrieve relevant documents from a set of search results.\\n\\n3. Right: A graph showing the MS-MARCO Bleu-1 and Rouge-L scores as more documents are retrieved. These are metrics used to evaluate the quality of machine-generated text, with Bleu-1 measuring the accuracy of individual words and Rouge-L measuring the quality of entire sentences.\\n\\nWithout the actual figures, it is difficult to provide a more detailed explanation. However, these descriptions should give you a general idea of what the figures represent.'"
            ],
            "application/vnd.google.colaboratory.intrinsic+json": {
              "type": "string"
            }
          },
          "metadata": {},
          "execution_count": 91
        }
      ]
    },
    {
      "cell_type": "code",
      "source": [],
      "metadata": {
        "id": "jz_S4m9vc6_5"
      },
      "execution_count": null,
      "outputs": []
    }
  ]
}